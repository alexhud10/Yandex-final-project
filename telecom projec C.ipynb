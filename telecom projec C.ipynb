{
 "cells": [
  {
   "cell_type": "markdown",
   "metadata": {},
   "source": [
    "# Final Project - Telecom "
   ]
  },
  {
   "cell_type": "markdown",
   "metadata": {},
   "source": [
    "The virtual telephony service CallMeMaybe is developing a new function that will give supervisors information on the least effective operators. An operator is considered ineffective if they have a large number of missed incoming calls (internal and external) and a long waiting time for incoming calls. Moreover, if an operator is supposed to make outgoing calls, a small number of them is also a sign of ineffectiveness. Our goal is evaluate the least effective one and make a suggestion for improvement."
   ]
  },
  {
   "cell_type": "markdown",
   "metadata": {},
   "source": [
    "### Table of Contents\n",
    "\n",
    "* [Data preprocessing](#chapter1)\n",
    "    * [Users preprocessing](#section_1_1)\n",
    "    * [Telecom preprocessing](#section_1_2)\n",
    "* [EDA](#chapter2)\n",
    "    * [Missing valuea](#section_2_1)\n",
    "    * [Outliers](#section_2_2)\n",
    "    * [Correlation](#section_2_3)\n",
    "* [Identify ineffective operators](#chapter3)  \n",
    "    * [Number of calls and duration](#section_3_1)\n",
    "        * [Average duration call for an operator](#section_3_1_1)\n",
    "    * [Missed calls](#section_3_2)\n",
    "        * [Total missing calls for each operator](#section_3_2_1)\n",
    "        * [The partial number of missed calls of total by each operator](#section_3_2_2)\n",
    "    * [Waiting time](#section_3_3)\n",
    "        * [Average time until answer](#section_3_3_1)\n",
    "    * [Identify the most inafective operator](#section_3_4)\n",
    "* [Hypothsis](#chapter4) \n",
    "    * [Prepering data for testing hypothsis](#section_4_1)\n",
    "    * [Testing hypothesis ](#section_4_2)\n",
    "* [Conclusion](#chapter5)\n",
    "* [Presentation](#chapter6)\n",
    "* [Dashbord](#chapter7)\n",
    "* [Sources](#chapter8)"
   ]
  },
  {
   "cell_type": "code",
   "execution_count": 110,
   "metadata": {},
   "outputs": [],
   "source": [
    "import pandas as pd \n",
    "import numpy as np\n",
    "import seaborn as sns\n",
    "import matplotlib.pyplot as plt\n",
    "from scipy import stats as st\n",
    "import math as mth\n",
    "import plotly.express as px\n",
    "import warnings\n",
    "warnings.filterwarnings('ignore')\n",
    "warnings.simplefilter('ignore')"
   ]
  },
  {
   "cell_type": "markdown",
   "metadata": {},
   "source": [
    "# Step 1 - open files and data preprocessing  <a class=\"anchor\" id=\"chapter1\"></a>"
   ]
  },
  {
   "cell_type": "markdown",
   "metadata": {},
   "source": [
    "## users data preprocessing <a class=\"anchor\" id=\"section_1_1\"></a> "
   ]
  },
  {
   "cell_type": "code",
   "execution_count": 2,
   "metadata": {},
   "outputs": [],
   "source": [
    "users = pd.read_csv('telecom_clients_us.csv')\n",
    "telecom = pd.read_csv('telecom_dataset_us.csv')"
   ]
  },
  {
   "cell_type": "code",
   "execution_count": 3,
   "metadata": {},
   "outputs": [
    {
     "data": {
      "text/plain": [
       "(732, 3)"
      ]
     },
     "execution_count": 3,
     "metadata": {},
     "output_type": "execute_result"
    }
   ],
   "source": [
    "users.shape"
   ]
  },
  {
   "cell_type": "markdown",
   "metadata": {},
   "source": [
    "costomers: 732 users."
   ]
  },
  {
   "cell_type": "code",
   "execution_count": 4,
   "metadata": {},
   "outputs": [
    {
     "data": {
      "text/html": [
       "<div>\n",
       "<style scoped>\n",
       "    .dataframe tbody tr th:only-of-type {\n",
       "        vertical-align: middle;\n",
       "    }\n",
       "\n",
       "    .dataframe tbody tr th {\n",
       "        vertical-align: top;\n",
       "    }\n",
       "\n",
       "    .dataframe thead th {\n",
       "        text-align: right;\n",
       "    }\n",
       "</style>\n",
       "<table border=\"1\" class=\"dataframe\">\n",
       "  <thead>\n",
       "    <tr style=\"text-align: right;\">\n",
       "      <th></th>\n",
       "      <th>user_id</th>\n",
       "      <th>tariff_plan</th>\n",
       "      <th>date_start</th>\n",
       "    </tr>\n",
       "  </thead>\n",
       "  <tbody>\n",
       "    <tr>\n",
       "      <th>0</th>\n",
       "      <td>166713</td>\n",
       "      <td>A</td>\n",
       "      <td>2019-08-15</td>\n",
       "    </tr>\n",
       "    <tr>\n",
       "      <th>1</th>\n",
       "      <td>166901</td>\n",
       "      <td>A</td>\n",
       "      <td>2019-08-23</td>\n",
       "    </tr>\n",
       "    <tr>\n",
       "      <th>2</th>\n",
       "      <td>168527</td>\n",
       "      <td>A</td>\n",
       "      <td>2019-10-29</td>\n",
       "    </tr>\n",
       "    <tr>\n",
       "      <th>3</th>\n",
       "      <td>167097</td>\n",
       "      <td>A</td>\n",
       "      <td>2019-09-01</td>\n",
       "    </tr>\n",
       "    <tr>\n",
       "      <th>4</th>\n",
       "      <td>168193</td>\n",
       "      <td>A</td>\n",
       "      <td>2019-10-16</td>\n",
       "    </tr>\n",
       "  </tbody>\n",
       "</table>\n",
       "</div>"
      ],
      "text/plain": [
       "   user_id tariff_plan  date_start\n",
       "0   166713           A  2019-08-15\n",
       "1   166901           A  2019-08-23\n",
       "2   168527           A  2019-10-29\n",
       "3   167097           A  2019-09-01\n",
       "4   168193           A  2019-10-16"
      ]
     },
     "execution_count": 4,
     "metadata": {},
     "output_type": "execute_result"
    }
   ],
   "source": [
    "users.head()"
   ]
  },
  {
   "cell_type": "code",
   "execution_count": 5,
   "metadata": {},
   "outputs": [
    {
     "data": {
      "text/html": [
       "<div>\n",
       "<style scoped>\n",
       "    .dataframe tbody tr th:only-of-type {\n",
       "        vertical-align: middle;\n",
       "    }\n",
       "\n",
       "    .dataframe tbody tr th {\n",
       "        vertical-align: top;\n",
       "    }\n",
       "\n",
       "    .dataframe thead th {\n",
       "        text-align: right;\n",
       "    }\n",
       "</style>\n",
       "<table border=\"1\" class=\"dataframe\">\n",
       "  <thead>\n",
       "    <tr style=\"text-align: right;\">\n",
       "      <th></th>\n",
       "      <th>user_id</th>\n",
       "      <th>tariff_plan</th>\n",
       "      <th>date_start</th>\n",
       "    </tr>\n",
       "  </thead>\n",
       "  <tbody>\n",
       "    <tr>\n",
       "      <th>727</th>\n",
       "      <td>166554</td>\n",
       "      <td>B</td>\n",
       "      <td>2019-08-08</td>\n",
       "    </tr>\n",
       "    <tr>\n",
       "      <th>728</th>\n",
       "      <td>166911</td>\n",
       "      <td>B</td>\n",
       "      <td>2019-08-23</td>\n",
       "    </tr>\n",
       "    <tr>\n",
       "      <th>729</th>\n",
       "      <td>167012</td>\n",
       "      <td>B</td>\n",
       "      <td>2019-08-28</td>\n",
       "    </tr>\n",
       "    <tr>\n",
       "      <th>730</th>\n",
       "      <td>166867</td>\n",
       "      <td>B</td>\n",
       "      <td>2019-08-22</td>\n",
       "    </tr>\n",
       "    <tr>\n",
       "      <th>731</th>\n",
       "      <td>166565</td>\n",
       "      <td>B</td>\n",
       "      <td>2019-08-08</td>\n",
       "    </tr>\n",
       "  </tbody>\n",
       "</table>\n",
       "</div>"
      ],
      "text/plain": [
       "     user_id tariff_plan  date_start\n",
       "727   166554           B  2019-08-08\n",
       "728   166911           B  2019-08-23\n",
       "729   167012           B  2019-08-28\n",
       "730   166867           B  2019-08-22\n",
       "731   166565           B  2019-08-08"
      ]
     },
     "execution_count": 5,
     "metadata": {},
     "output_type": "execute_result"
    }
   ],
   "source": [
    "users.tail()"
   ]
  },
  {
   "cell_type": "code",
   "execution_count": 6,
   "metadata": {},
   "outputs": [
    {
     "name": "stdout",
     "output_type": "stream",
     "text": [
      "<class 'pandas.core.frame.DataFrame'>\n",
      "RangeIndex: 732 entries, 0 to 731\n",
      "Data columns (total 3 columns):\n",
      " #   Column       Non-Null Count  Dtype \n",
      "---  ------       --------------  ----- \n",
      " 0   user_id      732 non-null    int64 \n",
      " 1   tariff_plan  732 non-null    object\n",
      " 2   date_start   732 non-null    object\n",
      "dtypes: int64(1), object(2)\n",
      "memory usage: 17.3+ KB\n"
     ]
    }
   ],
   "source": [
    "users.info()"
   ]
  },
  {
   "cell_type": "markdown",
   "metadata": {},
   "source": [
    "* user_id could be changed to categorical type (not necessary) . \n",
    "* date_start will be changed to datetime type . \n",
    "* There are no missing values"
   ]
  },
  {
   "cell_type": "code",
   "execution_count": 7,
   "metadata": {},
   "outputs": [],
   "source": [
    "users['date_start'] = pd.to_datetime(users['date_start']) "
   ]
  },
  {
   "cell_type": "code",
   "execution_count": 8,
   "metadata": {},
   "outputs": [
    {
     "data": {
      "text/html": [
       "<div>\n",
       "<style scoped>\n",
       "    .dataframe tbody tr th:only-of-type {\n",
       "        vertical-align: middle;\n",
       "    }\n",
       "\n",
       "    .dataframe tbody tr th {\n",
       "        vertical-align: top;\n",
       "    }\n",
       "\n",
       "    .dataframe thead th {\n",
       "        text-align: right;\n",
       "    }\n",
       "</style>\n",
       "<table border=\"1\" class=\"dataframe\">\n",
       "  <thead>\n",
       "    <tr style=\"text-align: right;\">\n",
       "      <th></th>\n",
       "      <th>user_id</th>\n",
       "      <th>tariff_plan</th>\n",
       "      <th>date_start</th>\n",
       "    </tr>\n",
       "  </thead>\n",
       "  <tbody>\n",
       "    <tr>\n",
       "      <th>count</th>\n",
       "      <td>732.000000</td>\n",
       "      <td>732</td>\n",
       "      <td>732</td>\n",
       "    </tr>\n",
       "    <tr>\n",
       "      <th>unique</th>\n",
       "      <td>NaN</td>\n",
       "      <td>3</td>\n",
       "      <td>73</td>\n",
       "    </tr>\n",
       "    <tr>\n",
       "      <th>top</th>\n",
       "      <td>NaN</td>\n",
       "      <td>C</td>\n",
       "      <td>2019-09-24 00:00:00</td>\n",
       "    </tr>\n",
       "    <tr>\n",
       "      <th>freq</th>\n",
       "      <td>NaN</td>\n",
       "      <td>395</td>\n",
       "      <td>24</td>\n",
       "    </tr>\n",
       "    <tr>\n",
       "      <th>first</th>\n",
       "      <td>NaN</td>\n",
       "      <td>NaN</td>\n",
       "      <td>2019-08-01 00:00:00</td>\n",
       "    </tr>\n",
       "    <tr>\n",
       "      <th>last</th>\n",
       "      <td>NaN</td>\n",
       "      <td>NaN</td>\n",
       "      <td>2019-10-31 00:00:00</td>\n",
       "    </tr>\n",
       "    <tr>\n",
       "      <th>mean</th>\n",
       "      <td>167431.927596</td>\n",
       "      <td>NaN</td>\n",
       "      <td>NaN</td>\n",
       "    </tr>\n",
       "    <tr>\n",
       "      <th>std</th>\n",
       "      <td>633.810383</td>\n",
       "      <td>NaN</td>\n",
       "      <td>NaN</td>\n",
       "    </tr>\n",
       "    <tr>\n",
       "      <th>min</th>\n",
       "      <td>166373.000000</td>\n",
       "      <td>NaN</td>\n",
       "      <td>NaN</td>\n",
       "    </tr>\n",
       "    <tr>\n",
       "      <th>25%</th>\n",
       "      <td>166900.750000</td>\n",
       "      <td>NaN</td>\n",
       "      <td>NaN</td>\n",
       "    </tr>\n",
       "    <tr>\n",
       "      <th>50%</th>\n",
       "      <td>167432.000000</td>\n",
       "      <td>NaN</td>\n",
       "      <td>NaN</td>\n",
       "    </tr>\n",
       "    <tr>\n",
       "      <th>75%</th>\n",
       "      <td>167973.000000</td>\n",
       "      <td>NaN</td>\n",
       "      <td>NaN</td>\n",
       "    </tr>\n",
       "    <tr>\n",
       "      <th>max</th>\n",
       "      <td>168606.000000</td>\n",
       "      <td>NaN</td>\n",
       "      <td>NaN</td>\n",
       "    </tr>\n",
       "  </tbody>\n",
       "</table>\n",
       "</div>"
      ],
      "text/plain": [
       "              user_id tariff_plan           date_start\n",
       "count      732.000000         732                  732\n",
       "unique            NaN           3                   73\n",
       "top               NaN           C  2019-09-24 00:00:00\n",
       "freq              NaN         395                   24\n",
       "first             NaN         NaN  2019-08-01 00:00:00\n",
       "last              NaN         NaN  2019-10-31 00:00:00\n",
       "mean    167431.927596         NaN                  NaN\n",
       "std        633.810383         NaN                  NaN\n",
       "min     166373.000000         NaN                  NaN\n",
       "25%     166900.750000         NaN                  NaN\n",
       "50%     167432.000000         NaN                  NaN\n",
       "75%     167973.000000         NaN                  NaN\n",
       "max     168606.000000         NaN                  NaN"
      ]
     },
     "execution_count": 8,
     "metadata": {},
     "output_type": "execute_result"
    }
   ],
   "source": [
    "users.describe(include='all')"
   ]
  },
  {
   "cell_type": "markdown",
   "metadata": {},
   "source": [
    "* The first users sighned up on 1.8.2019 and the last on 31.10.2019\n",
    "* Unique values: There are 3 tariff plans: A,B,C"
   ]
  },
  {
   "cell_type": "code",
   "execution_count": 9,
   "metadata": {},
   "outputs": [
    {
     "data": {
      "text/plain": [
       "0"
      ]
     },
     "execution_count": 9,
     "metadata": {},
     "output_type": "execute_result"
    }
   ],
   "source": [
    "# checking for duplicates\n",
    "users.duplicated().sum()"
   ]
  },
  {
   "cell_type": "markdown",
   "metadata": {},
   "source": [
    "There are no duplicated values "
   ]
  },
  {
   "cell_type": "code",
   "execution_count": null,
   "metadata": {},
   "outputs": [],
   "source": []
  },
  {
   "cell_type": "markdown",
   "metadata": {},
   "source": [
    "## telecom data preprocessing <a class=\"anchor\" id=\"section_1_2\"></a> "
   ]
  },
  {
   "cell_type": "code",
   "execution_count": 10,
   "metadata": {},
   "outputs": [
    {
     "data": {
      "text/plain": [
       "(53902, 9)"
      ]
     },
     "execution_count": 10,
     "metadata": {},
     "output_type": "execute_result"
    }
   ],
   "source": [
    "telecom.shape"
   ]
  },
  {
   "cell_type": "code",
   "execution_count": 11,
   "metadata": {},
   "outputs": [
    {
     "data": {
      "text/html": [
       "<div>\n",
       "<style scoped>\n",
       "    .dataframe tbody tr th:only-of-type {\n",
       "        vertical-align: middle;\n",
       "    }\n",
       "\n",
       "    .dataframe tbody tr th {\n",
       "        vertical-align: top;\n",
       "    }\n",
       "\n",
       "    .dataframe thead th {\n",
       "        text-align: right;\n",
       "    }\n",
       "</style>\n",
       "<table border=\"1\" class=\"dataframe\">\n",
       "  <thead>\n",
       "    <tr style=\"text-align: right;\">\n",
       "      <th></th>\n",
       "      <th>user_id</th>\n",
       "      <th>date</th>\n",
       "      <th>direction</th>\n",
       "      <th>internal</th>\n",
       "      <th>operator_id</th>\n",
       "      <th>is_missed_call</th>\n",
       "      <th>calls_count</th>\n",
       "      <th>call_duration</th>\n",
       "      <th>total_call_duration</th>\n",
       "    </tr>\n",
       "  </thead>\n",
       "  <tbody>\n",
       "    <tr>\n",
       "      <th>0</th>\n",
       "      <td>166377</td>\n",
       "      <td>2019-08-04 00:00:00+03:00</td>\n",
       "      <td>in</td>\n",
       "      <td>False</td>\n",
       "      <td>NaN</td>\n",
       "      <td>True</td>\n",
       "      <td>2</td>\n",
       "      <td>0</td>\n",
       "      <td>4</td>\n",
       "    </tr>\n",
       "    <tr>\n",
       "      <th>1</th>\n",
       "      <td>166377</td>\n",
       "      <td>2019-08-05 00:00:00+03:00</td>\n",
       "      <td>out</td>\n",
       "      <td>True</td>\n",
       "      <td>880022.0</td>\n",
       "      <td>True</td>\n",
       "      <td>3</td>\n",
       "      <td>0</td>\n",
       "      <td>5</td>\n",
       "    </tr>\n",
       "    <tr>\n",
       "      <th>2</th>\n",
       "      <td>166377</td>\n",
       "      <td>2019-08-05 00:00:00+03:00</td>\n",
       "      <td>out</td>\n",
       "      <td>True</td>\n",
       "      <td>880020.0</td>\n",
       "      <td>True</td>\n",
       "      <td>1</td>\n",
       "      <td>0</td>\n",
       "      <td>1</td>\n",
       "    </tr>\n",
       "    <tr>\n",
       "      <th>3</th>\n",
       "      <td>166377</td>\n",
       "      <td>2019-08-05 00:00:00+03:00</td>\n",
       "      <td>out</td>\n",
       "      <td>True</td>\n",
       "      <td>880020.0</td>\n",
       "      <td>False</td>\n",
       "      <td>1</td>\n",
       "      <td>10</td>\n",
       "      <td>18</td>\n",
       "    </tr>\n",
       "    <tr>\n",
       "      <th>4</th>\n",
       "      <td>166377</td>\n",
       "      <td>2019-08-05 00:00:00+03:00</td>\n",
       "      <td>out</td>\n",
       "      <td>False</td>\n",
       "      <td>880022.0</td>\n",
       "      <td>True</td>\n",
       "      <td>3</td>\n",
       "      <td>0</td>\n",
       "      <td>25</td>\n",
       "    </tr>\n",
       "  </tbody>\n",
       "</table>\n",
       "</div>"
      ],
      "text/plain": [
       "   user_id                       date direction internal  operator_id  \\\n",
       "0   166377  2019-08-04 00:00:00+03:00        in    False          NaN   \n",
       "1   166377  2019-08-05 00:00:00+03:00       out     True     880022.0   \n",
       "2   166377  2019-08-05 00:00:00+03:00       out     True     880020.0   \n",
       "3   166377  2019-08-05 00:00:00+03:00       out     True     880020.0   \n",
       "4   166377  2019-08-05 00:00:00+03:00       out    False     880022.0   \n",
       "\n",
       "   is_missed_call  calls_count  call_duration  total_call_duration  \n",
       "0            True            2              0                    4  \n",
       "1            True            3              0                    5  \n",
       "2            True            1              0                    1  \n",
       "3           False            1             10                   18  \n",
       "4            True            3              0                   25  "
      ]
     },
     "execution_count": 11,
     "metadata": {},
     "output_type": "execute_result"
    }
   ],
   "source": [
    "telecom.head()"
   ]
  },
  {
   "cell_type": "markdown",
   "metadata": {},
   "source": [
    "* Calls duration are in seconds\n",
    "* We detected null values in the data (we will explore later)\n",
    "* call duration = excluding waiting time\n",
    "* total call duration = including waiting time"
   ]
  },
  {
   "cell_type": "code",
   "execution_count": 12,
   "metadata": {},
   "outputs": [
    {
     "data": {
      "text/html": [
       "<div>\n",
       "<style scoped>\n",
       "    .dataframe tbody tr th:only-of-type {\n",
       "        vertical-align: middle;\n",
       "    }\n",
       "\n",
       "    .dataframe tbody tr th {\n",
       "        vertical-align: top;\n",
       "    }\n",
       "\n",
       "    .dataframe thead th {\n",
       "        text-align: right;\n",
       "    }\n",
       "</style>\n",
       "<table border=\"1\" class=\"dataframe\">\n",
       "  <thead>\n",
       "    <tr style=\"text-align: right;\">\n",
       "      <th></th>\n",
       "      <th>user_id</th>\n",
       "      <th>date</th>\n",
       "      <th>direction</th>\n",
       "      <th>internal</th>\n",
       "      <th>operator_id</th>\n",
       "      <th>is_missed_call</th>\n",
       "      <th>calls_count</th>\n",
       "      <th>call_duration</th>\n",
       "      <th>total_call_duration</th>\n",
       "    </tr>\n",
       "  </thead>\n",
       "  <tbody>\n",
       "    <tr>\n",
       "      <th>53897</th>\n",
       "      <td>168606</td>\n",
       "      <td>2019-11-10 00:00:00+03:00</td>\n",
       "      <td>out</td>\n",
       "      <td>True</td>\n",
       "      <td>957922.0</td>\n",
       "      <td>True</td>\n",
       "      <td>1</td>\n",
       "      <td>0</td>\n",
       "      <td>38</td>\n",
       "    </tr>\n",
       "    <tr>\n",
       "      <th>53898</th>\n",
       "      <td>168606</td>\n",
       "      <td>2019-11-11 00:00:00+03:00</td>\n",
       "      <td>out</td>\n",
       "      <td>True</td>\n",
       "      <td>957922.0</td>\n",
       "      <td>False</td>\n",
       "      <td>2</td>\n",
       "      <td>479</td>\n",
       "      <td>501</td>\n",
       "    </tr>\n",
       "    <tr>\n",
       "      <th>53899</th>\n",
       "      <td>168606</td>\n",
       "      <td>2019-11-15 00:00:00+03:00</td>\n",
       "      <td>out</td>\n",
       "      <td>True</td>\n",
       "      <td>957922.0</td>\n",
       "      <td>False</td>\n",
       "      <td>4</td>\n",
       "      <td>3130</td>\n",
       "      <td>3190</td>\n",
       "    </tr>\n",
       "    <tr>\n",
       "      <th>53900</th>\n",
       "      <td>168606</td>\n",
       "      <td>2019-11-15 00:00:00+03:00</td>\n",
       "      <td>out</td>\n",
       "      <td>True</td>\n",
       "      <td>957922.0</td>\n",
       "      <td>False</td>\n",
       "      <td>4</td>\n",
       "      <td>3130</td>\n",
       "      <td>3190</td>\n",
       "    </tr>\n",
       "    <tr>\n",
       "      <th>53901</th>\n",
       "      <td>168606</td>\n",
       "      <td>2019-11-19 00:00:00+03:00</td>\n",
       "      <td>in</td>\n",
       "      <td>False</td>\n",
       "      <td>NaN</td>\n",
       "      <td>True</td>\n",
       "      <td>2</td>\n",
       "      <td>0</td>\n",
       "      <td>64</td>\n",
       "    </tr>\n",
       "  </tbody>\n",
       "</table>\n",
       "</div>"
      ],
      "text/plain": [
       "       user_id                       date direction internal  operator_id  \\\n",
       "53897   168606  2019-11-10 00:00:00+03:00       out     True     957922.0   \n",
       "53898   168606  2019-11-11 00:00:00+03:00       out     True     957922.0   \n",
       "53899   168606  2019-11-15 00:00:00+03:00       out     True     957922.0   \n",
       "53900   168606  2019-11-15 00:00:00+03:00       out     True     957922.0   \n",
       "53901   168606  2019-11-19 00:00:00+03:00        in    False          NaN   \n",
       "\n",
       "       is_missed_call  calls_count  call_duration  total_call_duration  \n",
       "53897            True            1              0                   38  \n",
       "53898           False            2            479                  501  \n",
       "53899           False            4           3130                 3190  \n",
       "53900           False            4           3130                 3190  \n",
       "53901            True            2              0                   64  "
      ]
     },
     "execution_count": 12,
     "metadata": {},
     "output_type": "execute_result"
    }
   ],
   "source": [
    "telecom.tail()"
   ]
  },
  {
   "cell_type": "code",
   "execution_count": 13,
   "metadata": {},
   "outputs": [
    {
     "name": "stdout",
     "output_type": "stream",
     "text": [
      "<class 'pandas.core.frame.DataFrame'>\n",
      "RangeIndex: 53902 entries, 0 to 53901\n",
      "Data columns (total 9 columns):\n",
      " #   Column               Non-Null Count  Dtype  \n",
      "---  ------               --------------  -----  \n",
      " 0   user_id              53902 non-null  int64  \n",
      " 1   date                 53902 non-null  object \n",
      " 2   direction            53902 non-null  object \n",
      " 3   internal             53785 non-null  object \n",
      " 4   operator_id          45730 non-null  float64\n",
      " 5   is_missed_call       53902 non-null  bool   \n",
      " 6   calls_count          53902 non-null  int64  \n",
      " 7   call_duration        53902 non-null  int64  \n",
      " 8   total_call_duration  53902 non-null  int64  \n",
      "dtypes: bool(1), float64(1), int64(4), object(3)\n",
      "memory usage: 3.3+ MB\n"
     ]
    }
   ],
   "source": [
    "telecom.info()"
   ]
  },
  {
   "cell_type": "markdown",
   "metadata": {},
   "source": [
    "* There are 8172 mising values in operaton_id column. Its 15% percent of the data. We testing the quality of the operators so we do need the information of each operator. We will look if there id a posability to fill the missing values. else, we will drop those values \n",
    "* We can change data types of dates and id for easier calculation and decrease the weight. "
   ]
  },
  {
   "cell_type": "code",
   "execution_count": 14,
   "metadata": {},
   "outputs": [
    {
     "data": {
      "text/html": [
       "<div>\n",
       "<style scoped>\n",
       "    .dataframe tbody tr th:only-of-type {\n",
       "        vertical-align: middle;\n",
       "    }\n",
       "\n",
       "    .dataframe tbody tr th {\n",
       "        vertical-align: top;\n",
       "    }\n",
       "\n",
       "    .dataframe thead th {\n",
       "        text-align: right;\n",
       "    }\n",
       "</style>\n",
       "<table border=\"1\" class=\"dataframe\">\n",
       "  <thead>\n",
       "    <tr style=\"text-align: right;\">\n",
       "      <th></th>\n",
       "      <th>user_id</th>\n",
       "      <th>date</th>\n",
       "      <th>direction</th>\n",
       "      <th>internal</th>\n",
       "      <th>operator_id</th>\n",
       "      <th>is_missed_call</th>\n",
       "      <th>calls_count</th>\n",
       "      <th>call_duration</th>\n",
       "      <th>total_call_duration</th>\n",
       "    </tr>\n",
       "  </thead>\n",
       "  <tbody>\n",
       "    <tr>\n",
       "      <th>0</th>\n",
       "      <td>166377</td>\n",
       "      <td>2019-08-04</td>\n",
       "      <td>in</td>\n",
       "      <td>False</td>\n",
       "      <td>NaN</td>\n",
       "      <td>True</td>\n",
       "      <td>2</td>\n",
       "      <td>0</td>\n",
       "      <td>4</td>\n",
       "    </tr>\n",
       "    <tr>\n",
       "      <th>1</th>\n",
       "      <td>166377</td>\n",
       "      <td>2019-08-05</td>\n",
       "      <td>out</td>\n",
       "      <td>True</td>\n",
       "      <td>880022.0</td>\n",
       "      <td>True</td>\n",
       "      <td>3</td>\n",
       "      <td>0</td>\n",
       "      <td>5</td>\n",
       "    </tr>\n",
       "    <tr>\n",
       "      <th>2</th>\n",
       "      <td>166377</td>\n",
       "      <td>2019-08-05</td>\n",
       "      <td>out</td>\n",
       "      <td>True</td>\n",
       "      <td>880020.0</td>\n",
       "      <td>True</td>\n",
       "      <td>1</td>\n",
       "      <td>0</td>\n",
       "      <td>1</td>\n",
       "    </tr>\n",
       "    <tr>\n",
       "      <th>3</th>\n",
       "      <td>166377</td>\n",
       "      <td>2019-08-05</td>\n",
       "      <td>out</td>\n",
       "      <td>True</td>\n",
       "      <td>880020.0</td>\n",
       "      <td>False</td>\n",
       "      <td>1</td>\n",
       "      <td>10</td>\n",
       "      <td>18</td>\n",
       "    </tr>\n",
       "    <tr>\n",
       "      <th>4</th>\n",
       "      <td>166377</td>\n",
       "      <td>2019-08-05</td>\n",
       "      <td>out</td>\n",
       "      <td>False</td>\n",
       "      <td>880022.0</td>\n",
       "      <td>True</td>\n",
       "      <td>3</td>\n",
       "      <td>0</td>\n",
       "      <td>25</td>\n",
       "    </tr>\n",
       "  </tbody>\n",
       "</table>\n",
       "</div>"
      ],
      "text/plain": [
       "  user_id        date direction internal operator_id  is_missed_call  \\\n",
       "0  166377  2019-08-04        in    False         NaN            True   \n",
       "1  166377  2019-08-05       out     True    880022.0            True   \n",
       "2  166377  2019-08-05       out     True    880020.0            True   \n",
       "3  166377  2019-08-05       out     True    880020.0           False   \n",
       "4  166377  2019-08-05       out    False    880022.0            True   \n",
       "\n",
       "   calls_count  call_duration  total_call_duration  \n",
       "0            2              0                    4  \n",
       "1            3              0                    5  \n",
       "2            1              0                    1  \n",
       "3            1             10                   18  \n",
       "4            3              0                   25  "
      ]
     },
     "execution_count": 14,
     "metadata": {},
     "output_type": "execute_result"
    }
   ],
   "source": [
    "# changing data types: \n",
    "telecom['user_id'] = telecom['user_id'].astype('category')\n",
    "telecom['operator_id'] = telecom['operator_id'].astype('category')\n",
    "telecom['date'] = pd.to_datetime(telecom['date'], format='%Y-%m-%d')\n",
    "# the date type still looks odd so we will use date function\n",
    "telecom['date'] = telecom['date'].dt.date\n",
    "telecom.head()"
   ]
  },
  {
   "cell_type": "markdown",
   "metadata": {},
   "source": [
    "We changed data types and therefore reduce the weioght of the data ."
   ]
  },
  {
   "cell_type": "code",
   "execution_count": 15,
   "metadata": {},
   "outputs": [
    {
     "data": {
      "text/html": [
       "<div>\n",
       "<style scoped>\n",
       "    .dataframe tbody tr th:only-of-type {\n",
       "        vertical-align: middle;\n",
       "    }\n",
       "\n",
       "    .dataframe tbody tr th {\n",
       "        vertical-align: top;\n",
       "    }\n",
       "\n",
       "    .dataframe thead th {\n",
       "        text-align: right;\n",
       "    }\n",
       "</style>\n",
       "<table border=\"1\" class=\"dataframe\">\n",
       "  <thead>\n",
       "    <tr style=\"text-align: right;\">\n",
       "      <th></th>\n",
       "      <th>user_id</th>\n",
       "      <th>date</th>\n",
       "      <th>direction</th>\n",
       "      <th>internal</th>\n",
       "      <th>operator_id</th>\n",
       "      <th>is_missed_call</th>\n",
       "      <th>calls_count</th>\n",
       "      <th>call_duration</th>\n",
       "      <th>total_call_duration</th>\n",
       "    </tr>\n",
       "  </thead>\n",
       "  <tbody>\n",
       "    <tr>\n",
       "      <th>count</th>\n",
       "      <td>53902.0</td>\n",
       "      <td>53902</td>\n",
       "      <td>53902</td>\n",
       "      <td>53785</td>\n",
       "      <td>45730.0</td>\n",
       "      <td>53902</td>\n",
       "      <td>53902.000000</td>\n",
       "      <td>53902.000000</td>\n",
       "      <td>53902.000000</td>\n",
       "    </tr>\n",
       "    <tr>\n",
       "      <th>unique</th>\n",
       "      <td>307.0</td>\n",
       "      <td>119</td>\n",
       "      <td>2</td>\n",
       "      <td>2</td>\n",
       "      <td>1092.0</td>\n",
       "      <td>2</td>\n",
       "      <td>NaN</td>\n",
       "      <td>NaN</td>\n",
       "      <td>NaN</td>\n",
       "    </tr>\n",
       "    <tr>\n",
       "      <th>top</th>\n",
       "      <td>168187.0</td>\n",
       "      <td>2019-11-25</td>\n",
       "      <td>out</td>\n",
       "      <td>False</td>\n",
       "      <td>901884.0</td>\n",
       "      <td>False</td>\n",
       "      <td>NaN</td>\n",
       "      <td>NaN</td>\n",
       "      <td>NaN</td>\n",
       "    </tr>\n",
       "    <tr>\n",
       "      <th>freq</th>\n",
       "      <td>2580.0</td>\n",
       "      <td>1220</td>\n",
       "      <td>31917</td>\n",
       "      <td>47621</td>\n",
       "      <td>348.0</td>\n",
       "      <td>30334</td>\n",
       "      <td>NaN</td>\n",
       "      <td>NaN</td>\n",
       "      <td>NaN</td>\n",
       "    </tr>\n",
       "    <tr>\n",
       "      <th>mean</th>\n",
       "      <td>NaN</td>\n",
       "      <td>NaN</td>\n",
       "      <td>NaN</td>\n",
       "      <td>NaN</td>\n",
       "      <td>NaN</td>\n",
       "      <td>NaN</td>\n",
       "      <td>16.451245</td>\n",
       "      <td>866.684427</td>\n",
       "      <td>1157.133297</td>\n",
       "    </tr>\n",
       "    <tr>\n",
       "      <th>std</th>\n",
       "      <td>NaN</td>\n",
       "      <td>NaN</td>\n",
       "      <td>NaN</td>\n",
       "      <td>NaN</td>\n",
       "      <td>NaN</td>\n",
       "      <td>NaN</td>\n",
       "      <td>62.917170</td>\n",
       "      <td>3731.791202</td>\n",
       "      <td>4403.468763</td>\n",
       "    </tr>\n",
       "    <tr>\n",
       "      <th>min</th>\n",
       "      <td>NaN</td>\n",
       "      <td>NaN</td>\n",
       "      <td>NaN</td>\n",
       "      <td>NaN</td>\n",
       "      <td>NaN</td>\n",
       "      <td>NaN</td>\n",
       "      <td>1.000000</td>\n",
       "      <td>0.000000</td>\n",
       "      <td>0.000000</td>\n",
       "    </tr>\n",
       "    <tr>\n",
       "      <th>25%</th>\n",
       "      <td>NaN</td>\n",
       "      <td>NaN</td>\n",
       "      <td>NaN</td>\n",
       "      <td>NaN</td>\n",
       "      <td>NaN</td>\n",
       "      <td>NaN</td>\n",
       "      <td>1.000000</td>\n",
       "      <td>0.000000</td>\n",
       "      <td>47.000000</td>\n",
       "    </tr>\n",
       "    <tr>\n",
       "      <th>50%</th>\n",
       "      <td>NaN</td>\n",
       "      <td>NaN</td>\n",
       "      <td>NaN</td>\n",
       "      <td>NaN</td>\n",
       "      <td>NaN</td>\n",
       "      <td>NaN</td>\n",
       "      <td>4.000000</td>\n",
       "      <td>38.000000</td>\n",
       "      <td>210.000000</td>\n",
       "    </tr>\n",
       "    <tr>\n",
       "      <th>75%</th>\n",
       "      <td>NaN</td>\n",
       "      <td>NaN</td>\n",
       "      <td>NaN</td>\n",
       "      <td>NaN</td>\n",
       "      <td>NaN</td>\n",
       "      <td>NaN</td>\n",
       "      <td>12.000000</td>\n",
       "      <td>572.000000</td>\n",
       "      <td>902.000000</td>\n",
       "    </tr>\n",
       "    <tr>\n",
       "      <th>max</th>\n",
       "      <td>NaN</td>\n",
       "      <td>NaN</td>\n",
       "      <td>NaN</td>\n",
       "      <td>NaN</td>\n",
       "      <td>NaN</td>\n",
       "      <td>NaN</td>\n",
       "      <td>4817.000000</td>\n",
       "      <td>144395.000000</td>\n",
       "      <td>166155.000000</td>\n",
       "    </tr>\n",
       "  </tbody>\n",
       "</table>\n",
       "</div>"
      ],
      "text/plain": [
       "         user_id        date direction internal  operator_id is_missed_call  \\\n",
       "count    53902.0       53902     53902    53785      45730.0          53902   \n",
       "unique     307.0         119         2        2       1092.0              2   \n",
       "top     168187.0  2019-11-25       out    False     901884.0          False   \n",
       "freq      2580.0        1220     31917    47621        348.0          30334   \n",
       "mean         NaN         NaN       NaN      NaN          NaN            NaN   \n",
       "std          NaN         NaN       NaN      NaN          NaN            NaN   \n",
       "min          NaN         NaN       NaN      NaN          NaN            NaN   \n",
       "25%          NaN         NaN       NaN      NaN          NaN            NaN   \n",
       "50%          NaN         NaN       NaN      NaN          NaN            NaN   \n",
       "75%          NaN         NaN       NaN      NaN          NaN            NaN   \n",
       "max          NaN         NaN       NaN      NaN          NaN            NaN   \n",
       "\n",
       "         calls_count  call_duration  total_call_duration  \n",
       "count   53902.000000   53902.000000         53902.000000  \n",
       "unique           NaN            NaN                  NaN  \n",
       "top              NaN            NaN                  NaN  \n",
       "freq             NaN            NaN                  NaN  \n",
       "mean       16.451245     866.684427          1157.133297  \n",
       "std        62.917170    3731.791202          4403.468763  \n",
       "min         1.000000       0.000000             0.000000  \n",
       "25%         1.000000       0.000000            47.000000  \n",
       "50%         4.000000      38.000000           210.000000  \n",
       "75%        12.000000     572.000000           902.000000  \n",
       "max      4817.000000  144395.000000        166155.000000  "
      ]
     },
     "execution_count": 15,
     "metadata": {},
     "output_type": "execute_result"
    }
   ],
   "source": [
    "telecom.describe(include='all')"
   ]
  },
  {
   "cell_type": "markdown",
   "metadata": {},
   "source": [
    "* The dated of this data is from 2.8.2019 to 28.11.2019\n",
    "* calls_count, call_duration, total_call_duration- There are outliers with very big numbers (max) . We will explore more on EDA part. "
   ]
  },
  {
   "cell_type": "code",
   "execution_count": 16,
   "metadata": {},
   "outputs": [
    {
     "data": {
      "text/plain": [
       "4900"
      ]
     },
     "execution_count": 16,
     "metadata": {},
     "output_type": "execute_result"
    }
   ],
   "source": [
    "telecom.duplicated().sum()"
   ]
  },
  {
   "cell_type": "code",
   "execution_count": 17,
   "metadata": {},
   "outputs": [],
   "source": [
    "telecom = telecom.drop_duplicates()"
   ]
  },
  {
   "cell_type": "code",
   "execution_count": 18,
   "metadata": {},
   "outputs": [
    {
     "data": {
      "text/plain": [
       "(49002, 9)"
      ]
     },
     "execution_count": 18,
     "metadata": {},
     "output_type": "execute_result"
    }
   ],
   "source": [
    "telecom.shape"
   ]
  },
  {
   "cell_type": "markdown",
   "metadata": {},
   "source": [
    "There were 53902 rows. We dropped 4900 duplicated rows and left with 49002 rows ."
   ]
  },
  {
   "cell_type": "markdown",
   "metadata": {},
   "source": [
    "#  Step 2 - EDA  <a class=\"anchor\" id=\"chapter2\"></a>"
   ]
  },
  {
   "cell_type": "markdown",
   "metadata": {},
   "source": [
    "## missing values <a class=\"anchor\" id=\"section_2_1\"></a> "
   ]
  },
  {
   "cell_type": "code",
   "execution_count": 19,
   "metadata": {},
   "outputs": [
    {
     "data": {
      "text/html": [
       "<div>\n",
       "<style scoped>\n",
       "    .dataframe tbody tr th:only-of-type {\n",
       "        vertical-align: middle;\n",
       "    }\n",
       "\n",
       "    .dataframe tbody tr th {\n",
       "        vertical-align: top;\n",
       "    }\n",
       "\n",
       "    .dataframe thead th {\n",
       "        text-align: right;\n",
       "    }\n",
       "</style>\n",
       "<table border=\"1\" class=\"dataframe\">\n",
       "  <thead>\n",
       "    <tr style=\"text-align: right;\">\n",
       "      <th></th>\n",
       "      <th>user_id</th>\n",
       "      <th>date</th>\n",
       "      <th>direction</th>\n",
       "      <th>internal</th>\n",
       "      <th>operator_id</th>\n",
       "      <th>is_missed_call</th>\n",
       "      <th>calls_count</th>\n",
       "      <th>call_duration</th>\n",
       "      <th>total_call_duration</th>\n",
       "    </tr>\n",
       "  </thead>\n",
       "  <tbody>\n",
       "    <tr>\n",
       "      <th>0</th>\n",
       "      <td>166377</td>\n",
       "      <td>2019-08-04</td>\n",
       "      <td>in</td>\n",
       "      <td>False</td>\n",
       "      <td>NaN</td>\n",
       "      <td>True</td>\n",
       "      <td>2</td>\n",
       "      <td>0</td>\n",
       "      <td>4</td>\n",
       "    </tr>\n",
       "    <tr>\n",
       "      <th>7</th>\n",
       "      <td>166377</td>\n",
       "      <td>2019-08-05</td>\n",
       "      <td>in</td>\n",
       "      <td>False</td>\n",
       "      <td>NaN</td>\n",
       "      <td>True</td>\n",
       "      <td>6</td>\n",
       "      <td>0</td>\n",
       "      <td>35</td>\n",
       "    </tr>\n",
       "    <tr>\n",
       "      <th>9</th>\n",
       "      <td>166377</td>\n",
       "      <td>2019-08-06</td>\n",
       "      <td>in</td>\n",
       "      <td>False</td>\n",
       "      <td>NaN</td>\n",
       "      <td>True</td>\n",
       "      <td>4</td>\n",
       "      <td>0</td>\n",
       "      <td>62</td>\n",
       "    </tr>\n",
       "    <tr>\n",
       "      <th>17</th>\n",
       "      <td>166377</td>\n",
       "      <td>2019-08-07</td>\n",
       "      <td>in</td>\n",
       "      <td>False</td>\n",
       "      <td>NaN</td>\n",
       "      <td>True</td>\n",
       "      <td>2</td>\n",
       "      <td>0</td>\n",
       "      <td>24</td>\n",
       "    </tr>\n",
       "    <tr>\n",
       "      <th>27</th>\n",
       "      <td>166377</td>\n",
       "      <td>2019-08-12</td>\n",
       "      <td>in</td>\n",
       "      <td>False</td>\n",
       "      <td>NaN</td>\n",
       "      <td>True</td>\n",
       "      <td>2</td>\n",
       "      <td>0</td>\n",
       "      <td>34</td>\n",
       "    </tr>\n",
       "  </tbody>\n",
       "</table>\n",
       "</div>"
      ],
      "text/plain": [
       "   user_id        date direction internal operator_id  is_missed_call  \\\n",
       "0   166377  2019-08-04        in    False         NaN            True   \n",
       "7   166377  2019-08-05        in    False         NaN            True   \n",
       "9   166377  2019-08-06        in    False         NaN            True   \n",
       "17  166377  2019-08-07        in    False         NaN            True   \n",
       "27  166377  2019-08-12        in    False         NaN            True   \n",
       "\n",
       "    calls_count  call_duration  total_call_duration  \n",
       "0             2              0                    4  \n",
       "7             6              0                   35  \n",
       "9             4              0                   62  \n",
       "17            2              0                   24  \n",
       "27            2              0                   34  "
      ]
     },
     "execution_count": 19,
     "metadata": {},
     "output_type": "execute_result"
    }
   ],
   "source": [
    "# table with all missing valoues\n",
    "telecom[telecom['operator_id'].isnull()].head()"
   ]
  },
  {
   "cell_type": "markdown",
   "metadata": {},
   "source": [
    "We will take several users to see if each of them has a unique value to fill the missing ones."
   ]
  },
  {
   "cell_type": "code",
   "execution_count": 20,
   "metadata": {},
   "outputs": [
    {
     "data": {
      "text/html": [
       "<div>\n",
       "<style scoped>\n",
       "    .dataframe tbody tr th:only-of-type {\n",
       "        vertical-align: middle;\n",
       "    }\n",
       "\n",
       "    .dataframe tbody tr th {\n",
       "        vertical-align: top;\n",
       "    }\n",
       "\n",
       "    .dataframe thead th {\n",
       "        text-align: right;\n",
       "    }\n",
       "</style>\n",
       "<table border=\"1\" class=\"dataframe\">\n",
       "  <thead>\n",
       "    <tr style=\"text-align: right;\">\n",
       "      <th></th>\n",
       "      <th>user_id</th>\n",
       "      <th>date</th>\n",
       "      <th>direction</th>\n",
       "      <th>internal</th>\n",
       "      <th>operator_id</th>\n",
       "      <th>is_missed_call</th>\n",
       "      <th>calls_count</th>\n",
       "      <th>call_duration</th>\n",
       "      <th>total_call_duration</th>\n",
       "    </tr>\n",
       "  </thead>\n",
       "  <tbody>\n",
       "    <tr>\n",
       "      <th>53890</th>\n",
       "      <td>168606</td>\n",
       "      <td>2019-11-08</td>\n",
       "      <td>out</td>\n",
       "      <td>False</td>\n",
       "      <td>957922.0</td>\n",
       "      <td>True</td>\n",
       "      <td>2</td>\n",
       "      <td>0</td>\n",
       "      <td>40</td>\n",
       "    </tr>\n",
       "    <tr>\n",
       "      <th>53891</th>\n",
       "      <td>168606</td>\n",
       "      <td>2019-11-08</td>\n",
       "      <td>in</td>\n",
       "      <td>False</td>\n",
       "      <td>957922.0</td>\n",
       "      <td>True</td>\n",
       "      <td>1</td>\n",
       "      <td>0</td>\n",
       "      <td>7</td>\n",
       "    </tr>\n",
       "    <tr>\n",
       "      <th>53892</th>\n",
       "      <td>168606</td>\n",
       "      <td>2019-11-08</td>\n",
       "      <td>out</td>\n",
       "      <td>False</td>\n",
       "      <td>957922.0</td>\n",
       "      <td>False</td>\n",
       "      <td>2</td>\n",
       "      <td>255</td>\n",
       "      <td>328</td>\n",
       "    </tr>\n",
       "    <tr>\n",
       "      <th>53893</th>\n",
       "      <td>168606</td>\n",
       "      <td>2019-11-08</td>\n",
       "      <td>in</td>\n",
       "      <td>False</td>\n",
       "      <td>NaN</td>\n",
       "      <td>True</td>\n",
       "      <td>6</td>\n",
       "      <td>0</td>\n",
       "      <td>121</td>\n",
       "    </tr>\n",
       "    <tr>\n",
       "      <th>53894</th>\n",
       "      <td>168606</td>\n",
       "      <td>2019-11-08</td>\n",
       "      <td>in</td>\n",
       "      <td>False</td>\n",
       "      <td>957922.0</td>\n",
       "      <td>False</td>\n",
       "      <td>2</td>\n",
       "      <td>686</td>\n",
       "      <td>705</td>\n",
       "    </tr>\n",
       "  </tbody>\n",
       "</table>\n",
       "</div>"
      ],
      "text/plain": [
       "      user_id        date direction internal operator_id  is_missed_call  \\\n",
       "53890  168606  2019-11-08       out    False    957922.0            True   \n",
       "53891  168606  2019-11-08        in    False    957922.0            True   \n",
       "53892  168606  2019-11-08       out    False    957922.0           False   \n",
       "53893  168606  2019-11-08        in    False         NaN            True   \n",
       "53894  168606  2019-11-08        in    False    957922.0           False   \n",
       "\n",
       "       calls_count  call_duration  total_call_duration  \n",
       "53890            2              0                   40  \n",
       "53891            1              0                    7  \n",
       "53892            2            255                  328  \n",
       "53893            6              0                  121  \n",
       "53894            2            686                  705  "
      ]
     },
     "execution_count": 20,
     "metadata": {},
     "output_type": "execute_result"
    }
   ],
   "source": [
    "# user 1686026\n",
    "telecom[telecom['user_id']==168606].head()"
   ]
  },
  {
   "cell_type": "code",
   "execution_count": 21,
   "metadata": {},
   "outputs": [
    {
     "data": {
      "text/html": [
       "<div>\n",
       "<style scoped>\n",
       "    .dataframe tbody tr th:only-of-type {\n",
       "        vertical-align: middle;\n",
       "    }\n",
       "\n",
       "    .dataframe tbody tr th {\n",
       "        vertical-align: top;\n",
       "    }\n",
       "\n",
       "    .dataframe thead th {\n",
       "        text-align: right;\n",
       "    }\n",
       "</style>\n",
       "<table border=\"1\" class=\"dataframe\">\n",
       "  <thead>\n",
       "    <tr style=\"text-align: right;\">\n",
       "      <th></th>\n",
       "      <th>user_id</th>\n",
       "      <th>date</th>\n",
       "      <th>direction</th>\n",
       "      <th>internal</th>\n",
       "      <th>operator_id</th>\n",
       "      <th>is_missed_call</th>\n",
       "      <th>calls_count</th>\n",
       "      <th>call_duration</th>\n",
       "      <th>total_call_duration</th>\n",
       "    </tr>\n",
       "  </thead>\n",
       "  <tbody>\n",
       "    <tr>\n",
       "      <th>53805</th>\n",
       "      <td>168601</td>\n",
       "      <td>2019-11-01</td>\n",
       "      <td>in</td>\n",
       "      <td>False</td>\n",
       "      <td>NaN</td>\n",
       "      <td>True</td>\n",
       "      <td>1</td>\n",
       "      <td>0</td>\n",
       "      <td>2</td>\n",
       "    </tr>\n",
       "    <tr>\n",
       "      <th>53806</th>\n",
       "      <td>168601</td>\n",
       "      <td>2019-11-02</td>\n",
       "      <td>out</td>\n",
       "      <td>False</td>\n",
       "      <td>952914.0</td>\n",
       "      <td>True</td>\n",
       "      <td>5</td>\n",
       "      <td>0</td>\n",
       "      <td>118</td>\n",
       "    </tr>\n",
       "    <tr>\n",
       "      <th>53807</th>\n",
       "      <td>168601</td>\n",
       "      <td>2019-11-02</td>\n",
       "      <td>in</td>\n",
       "      <td>False</td>\n",
       "      <td>952914.0</td>\n",
       "      <td>False</td>\n",
       "      <td>5</td>\n",
       "      <td>449</td>\n",
       "      <td>473</td>\n",
       "    </tr>\n",
       "    <tr>\n",
       "      <th>53808</th>\n",
       "      <td>168601</td>\n",
       "      <td>2019-11-02</td>\n",
       "      <td>in</td>\n",
       "      <td>False</td>\n",
       "      <td>NaN</td>\n",
       "      <td>True</td>\n",
       "      <td>3</td>\n",
       "      <td>0</td>\n",
       "      <td>143</td>\n",
       "    </tr>\n",
       "    <tr>\n",
       "      <th>53809</th>\n",
       "      <td>168601</td>\n",
       "      <td>2019-11-02</td>\n",
       "      <td>out</td>\n",
       "      <td>False</td>\n",
       "      <td>952914.0</td>\n",
       "      <td>False</td>\n",
       "      <td>10</td>\n",
       "      <td>938</td>\n",
       "      <td>1079</td>\n",
       "    </tr>\n",
       "  </tbody>\n",
       "</table>\n",
       "</div>"
      ],
      "text/plain": [
       "      user_id        date direction internal operator_id  is_missed_call  \\\n",
       "53805  168601  2019-11-01        in    False         NaN            True   \n",
       "53806  168601  2019-11-02       out    False    952914.0            True   \n",
       "53807  168601  2019-11-02        in    False    952914.0           False   \n",
       "53808  168601  2019-11-02        in    False         NaN            True   \n",
       "53809  168601  2019-11-02       out    False    952914.0           False   \n",
       "\n",
       "       calls_count  call_duration  total_call_duration  \n",
       "53805            1              0                    2  \n",
       "53806            5              0                  118  \n",
       "53807            5            449                  473  \n",
       "53808            3              0                  143  \n",
       "53809           10            938                 1079  "
      ]
     },
     "execution_count": 21,
     "metadata": {},
     "output_type": "execute_result"
    }
   ],
   "source": [
    "# user 168601\n",
    "telecom[telecom['user_id']==168601].head()"
   ]
  },
  {
   "cell_type": "code",
   "execution_count": 22,
   "metadata": {},
   "outputs": [
    {
     "data": {
      "text/html": [
       "<div>\n",
       "<style scoped>\n",
       "    .dataframe tbody tr th:only-of-type {\n",
       "        vertical-align: middle;\n",
       "    }\n",
       "\n",
       "    .dataframe tbody tr th {\n",
       "        vertical-align: top;\n",
       "    }\n",
       "\n",
       "    .dataframe thead th {\n",
       "        text-align: right;\n",
       "    }\n",
       "</style>\n",
       "<table border=\"1\" class=\"dataframe\">\n",
       "  <thead>\n",
       "    <tr style=\"text-align: right;\">\n",
       "      <th></th>\n",
       "      <th>user_id</th>\n",
       "      <th>date</th>\n",
       "      <th>direction</th>\n",
       "      <th>internal</th>\n",
       "      <th>operator_id</th>\n",
       "      <th>is_missed_call</th>\n",
       "      <th>calls_count</th>\n",
       "      <th>call_duration</th>\n",
       "      <th>total_call_duration</th>\n",
       "    </tr>\n",
       "  </thead>\n",
       "  <tbody>\n",
       "    <tr>\n",
       "      <th>0</th>\n",
       "      <td>166377</td>\n",
       "      <td>2019-08-04</td>\n",
       "      <td>in</td>\n",
       "      <td>False</td>\n",
       "      <td>NaN</td>\n",
       "      <td>True</td>\n",
       "      <td>2</td>\n",
       "      <td>0</td>\n",
       "      <td>4</td>\n",
       "    </tr>\n",
       "    <tr>\n",
       "      <th>1</th>\n",
       "      <td>166377</td>\n",
       "      <td>2019-08-05</td>\n",
       "      <td>out</td>\n",
       "      <td>True</td>\n",
       "      <td>880022.0</td>\n",
       "      <td>True</td>\n",
       "      <td>3</td>\n",
       "      <td>0</td>\n",
       "      <td>5</td>\n",
       "    </tr>\n",
       "    <tr>\n",
       "      <th>2</th>\n",
       "      <td>166377</td>\n",
       "      <td>2019-08-05</td>\n",
       "      <td>out</td>\n",
       "      <td>True</td>\n",
       "      <td>880020.0</td>\n",
       "      <td>True</td>\n",
       "      <td>1</td>\n",
       "      <td>0</td>\n",
       "      <td>1</td>\n",
       "    </tr>\n",
       "    <tr>\n",
       "      <th>3</th>\n",
       "      <td>166377</td>\n",
       "      <td>2019-08-05</td>\n",
       "      <td>out</td>\n",
       "      <td>True</td>\n",
       "      <td>880020.0</td>\n",
       "      <td>False</td>\n",
       "      <td>1</td>\n",
       "      <td>10</td>\n",
       "      <td>18</td>\n",
       "    </tr>\n",
       "    <tr>\n",
       "      <th>4</th>\n",
       "      <td>166377</td>\n",
       "      <td>2019-08-05</td>\n",
       "      <td>out</td>\n",
       "      <td>False</td>\n",
       "      <td>880022.0</td>\n",
       "      <td>True</td>\n",
       "      <td>3</td>\n",
       "      <td>0</td>\n",
       "      <td>25</td>\n",
       "    </tr>\n",
       "  </tbody>\n",
       "</table>\n",
       "</div>"
      ],
      "text/plain": [
       "  user_id        date direction internal operator_id  is_missed_call  \\\n",
       "0  166377  2019-08-04        in    False         NaN            True   \n",
       "1  166377  2019-08-05       out     True    880022.0            True   \n",
       "2  166377  2019-08-05       out     True    880020.0            True   \n",
       "3  166377  2019-08-05       out     True    880020.0           False   \n",
       "4  166377  2019-08-05       out    False    880022.0            True   \n",
       "\n",
       "   calls_count  call_duration  total_call_duration  \n",
       "0            2              0                    4  \n",
       "1            3              0                    5  \n",
       "2            1              0                    1  \n",
       "3            1             10                   18  \n",
       "4            3              0                   25  "
      ]
     },
     "execution_count": 22,
     "metadata": {},
     "output_type": "execute_result"
    }
   ],
   "source": [
    "# user 166377\n",
    "telecom[telecom['user_id']==166377].head()"
   ]
  },
  {
   "cell_type": "markdown",
   "metadata": {},
   "source": [
    "No values were found that can be used to fill in missing data. There are several operators to each user and different information on each column. We will drop columns with missing values . "
   ]
  },
  {
   "cell_type": "code",
   "execution_count": 23,
   "metadata": {},
   "outputs": [
    {
     "data": {
      "text/plain": [
       "(41491, 9)"
      ]
     },
     "execution_count": 23,
     "metadata": {},
     "output_type": "execute_result"
    }
   ],
   "source": [
    "telecom = telecom.dropna()\n",
    "telecom.shape"
   ]
  },
  {
   "cell_type": "markdown",
   "metadata": {},
   "source": [
    "We are left with 41491 rows. "
   ]
  },
  {
   "cell_type": "markdown",
   "metadata": {},
   "source": [
    "## Outliers <a class=\"anchor\" id=\"section_2_2\"></a> "
   ]
  },
  {
   "cell_type": "markdown",
   "metadata": {},
   "source": [
    "We will test outliers in the columns: calls_coiunt, call_duration, total_call_duration:"
   ]
  },
  {
   "cell_type": "code",
   "execution_count": 24,
   "metadata": {},
   "outputs": [
    {
     "data": {
      "text/html": [
       "<div>\n",
       "<style scoped>\n",
       "    .dataframe tbody tr th:only-of-type {\n",
       "        vertical-align: middle;\n",
       "    }\n",
       "\n",
       "    .dataframe tbody tr th {\n",
       "        vertical-align: top;\n",
       "    }\n",
       "\n",
       "    .dataframe thead th {\n",
       "        text-align: right;\n",
       "    }\n",
       "</style>\n",
       "<table border=\"1\" class=\"dataframe\">\n",
       "  <thead>\n",
       "    <tr style=\"text-align: right;\">\n",
       "      <th></th>\n",
       "      <th>user_id</th>\n",
       "      <th>date</th>\n",
       "      <th>direction</th>\n",
       "      <th>internal</th>\n",
       "      <th>operator_id</th>\n",
       "      <th>is_missed_call</th>\n",
       "      <th>calls_count</th>\n",
       "      <th>call_duration</th>\n",
       "      <th>total_call_duration</th>\n",
       "    </tr>\n",
       "  </thead>\n",
       "  <tbody>\n",
       "    <tr>\n",
       "      <th>1</th>\n",
       "      <td>166377</td>\n",
       "      <td>2019-08-05</td>\n",
       "      <td>out</td>\n",
       "      <td>True</td>\n",
       "      <td>880022.0</td>\n",
       "      <td>True</td>\n",
       "      <td>3</td>\n",
       "      <td>0</td>\n",
       "      <td>5</td>\n",
       "    </tr>\n",
       "    <tr>\n",
       "      <th>2</th>\n",
       "      <td>166377</td>\n",
       "      <td>2019-08-05</td>\n",
       "      <td>out</td>\n",
       "      <td>True</td>\n",
       "      <td>880020.0</td>\n",
       "      <td>True</td>\n",
       "      <td>1</td>\n",
       "      <td>0</td>\n",
       "      <td>1</td>\n",
       "    </tr>\n",
       "    <tr>\n",
       "      <th>3</th>\n",
       "      <td>166377</td>\n",
       "      <td>2019-08-05</td>\n",
       "      <td>out</td>\n",
       "      <td>True</td>\n",
       "      <td>880020.0</td>\n",
       "      <td>False</td>\n",
       "      <td>1</td>\n",
       "      <td>10</td>\n",
       "      <td>18</td>\n",
       "    </tr>\n",
       "    <tr>\n",
       "      <th>4</th>\n",
       "      <td>166377</td>\n",
       "      <td>2019-08-05</td>\n",
       "      <td>out</td>\n",
       "      <td>False</td>\n",
       "      <td>880022.0</td>\n",
       "      <td>True</td>\n",
       "      <td>3</td>\n",
       "      <td>0</td>\n",
       "      <td>25</td>\n",
       "    </tr>\n",
       "    <tr>\n",
       "      <th>5</th>\n",
       "      <td>166377</td>\n",
       "      <td>2019-08-05</td>\n",
       "      <td>out</td>\n",
       "      <td>False</td>\n",
       "      <td>880020.0</td>\n",
       "      <td>False</td>\n",
       "      <td>2</td>\n",
       "      <td>3</td>\n",
       "      <td>29</td>\n",
       "    </tr>\n",
       "  </tbody>\n",
       "</table>\n",
       "</div>"
      ],
      "text/plain": [
       "  user_id        date direction internal operator_id  is_missed_call  \\\n",
       "1  166377  2019-08-05       out     True    880022.0            True   \n",
       "2  166377  2019-08-05       out     True    880020.0            True   \n",
       "3  166377  2019-08-05       out     True    880020.0           False   \n",
       "4  166377  2019-08-05       out    False    880022.0            True   \n",
       "5  166377  2019-08-05       out    False    880020.0           False   \n",
       "\n",
       "   calls_count  call_duration  total_call_duration  \n",
       "1            3              0                    5  \n",
       "2            1              0                    1  \n",
       "3            1             10                   18  \n",
       "4            3              0                   25  \n",
       "5            2              3                   29  "
      ]
     },
     "execution_count": 24,
     "metadata": {},
     "output_type": "execute_result"
    }
   ],
   "source": [
    "telecom.head()"
   ]
  },
  {
   "cell_type": "code",
   "execution_count": 25,
   "metadata": {},
   "outputs": [
    {
     "data": {
      "text/plain": [
       "Text(0, 0.5, 'count')"
      ]
     },
     "execution_count": 25,
     "metadata": {},
     "output_type": "execute_result"
    },
    {
     "data": {
      "image/png": "[encoded data removed]",
      "text/plain": [
       "<Figure size 432x288 with 1 Axes>"
      ]
     },
     "metadata": {
      "needs_background": "light"
     },
     "output_type": "display_data"
    }
   ],
   "source": [
    "# calls_count column: \n",
    "telecom['calls_count'].hist(range=(0,500), color='violet')\n",
    "plt.title('calls_count distribution')\n",
    "plt.xlabel('calls_count')\n",
    "plt.ylabel('count')"
   ]
  },
  {
   "cell_type": "code",
   "execution_count": 26,
   "metadata": {},
   "outputs": [
    {
     "name": "stdout",
     "output_type": "stream",
     "text": [
      "[ 65.   94.  165.1]\n"
     ]
    }
   ],
   "source": [
    "print(np.percentile(telecom['calls_count'],[95,97.5,99]))"
   ]
  },
  {
   "cell_type": "code",
   "execution_count": 27,
   "metadata": {},
   "outputs": [
    {
     "data": {
      "text/html": [
       "<div>\n",
       "<style scoped>\n",
       "    .dataframe tbody tr th:only-of-type {\n",
       "        vertical-align: middle;\n",
       "    }\n",
       "\n",
       "    .dataframe tbody tr th {\n",
       "        vertical-align: top;\n",
       "    }\n",
       "\n",
       "    .dataframe thead th {\n",
       "        text-align: right;\n",
       "    }\n",
       "</style>\n",
       "<table border=\"1\" class=\"dataframe\">\n",
       "  <thead>\n",
       "    <tr style=\"text-align: right;\">\n",
       "      <th></th>\n",
       "      <th>user_id</th>\n",
       "      <th>date</th>\n",
       "      <th>direction</th>\n",
       "      <th>internal</th>\n",
       "      <th>operator_id</th>\n",
       "      <th>is_missed_call</th>\n",
       "      <th>calls_count</th>\n",
       "      <th>call_duration</th>\n",
       "      <th>total_call_duration</th>\n",
       "    </tr>\n",
       "  </thead>\n",
       "  <tbody>\n",
       "    <tr>\n",
       "      <th>40827</th>\n",
       "      <td>167827</td>\n",
       "      <td>2019-11-28</td>\n",
       "      <td>out</td>\n",
       "      <td>False</td>\n",
       "      <td>929426.0</td>\n",
       "      <td>False</td>\n",
       "      <td>351</td>\n",
       "      <td>13413</td>\n",
       "      <td>19635</td>\n",
       "    </tr>\n",
       "    <tr>\n",
       "      <th>7224</th>\n",
       "      <td>166582</td>\n",
       "      <td>2019-10-22</td>\n",
       "      <td>out</td>\n",
       "      <td>False</td>\n",
       "      <td>885890.0</td>\n",
       "      <td>True</td>\n",
       "      <td>310</td>\n",
       "      <td>0</td>\n",
       "      <td>9793</td>\n",
       "    </tr>\n",
       "    <tr>\n",
       "      <th>6717</th>\n",
       "      <td>166582</td>\n",
       "      <td>2019-08-30</td>\n",
       "      <td>out</td>\n",
       "      <td>False</td>\n",
       "      <td>885876.0</td>\n",
       "      <td>False</td>\n",
       "      <td>460</td>\n",
       "      <td>60520</td>\n",
       "      <td>69383</td>\n",
       "    </tr>\n",
       "    <tr>\n",
       "      <th>7269</th>\n",
       "      <td>166582</td>\n",
       "      <td>2019-10-28</td>\n",
       "      <td>out</td>\n",
       "      <td>False</td>\n",
       "      <td>885890.0</td>\n",
       "      <td>True</td>\n",
       "      <td>282</td>\n",
       "      <td>0</td>\n",
       "      <td>10315</td>\n",
       "    </tr>\n",
       "    <tr>\n",
       "      <th>40769</th>\n",
       "      <td>167827</td>\n",
       "      <td>2019-11-19</td>\n",
       "      <td>out</td>\n",
       "      <td>False</td>\n",
       "      <td>929426.0</td>\n",
       "      <td>True</td>\n",
       "      <td>180</td>\n",
       "      <td>0</td>\n",
       "      <td>2944</td>\n",
       "    </tr>\n",
       "    <tr>\n",
       "      <th>30172</th>\n",
       "      <td>167285</td>\n",
       "      <td>2019-10-18</td>\n",
       "      <td>out</td>\n",
       "      <td>False</td>\n",
       "      <td>908640.0</td>\n",
       "      <td>False</td>\n",
       "      <td>549</td>\n",
       "      <td>20620</td>\n",
       "      <td>25327</td>\n",
       "    </tr>\n",
       "    <tr>\n",
       "      <th>6771</th>\n",
       "      <td>166582</td>\n",
       "      <td>2019-09-05</td>\n",
       "      <td>out</td>\n",
       "      <td>False</td>\n",
       "      <td>885890.0</td>\n",
       "      <td>True</td>\n",
       "      <td>389</td>\n",
       "      <td>0</td>\n",
       "      <td>14019</td>\n",
       "    </tr>\n",
       "    <tr>\n",
       "      <th>37231</th>\n",
       "      <td>167626</td>\n",
       "      <td>2019-10-10</td>\n",
       "      <td>in</td>\n",
       "      <td>False</td>\n",
       "      <td>919166.0</td>\n",
       "      <td>False</td>\n",
       "      <td>205</td>\n",
       "      <td>10902</td>\n",
       "      <td>12024</td>\n",
       "    </tr>\n",
       "    <tr>\n",
       "      <th>6570</th>\n",
       "      <td>166582</td>\n",
       "      <td>2019-08-12</td>\n",
       "      <td>out</td>\n",
       "      <td>False</td>\n",
       "      <td>885876.0</td>\n",
       "      <td>False</td>\n",
       "      <td>184</td>\n",
       "      <td>20746</td>\n",
       "      <td>24152</td>\n",
       "    </tr>\n",
       "    <tr>\n",
       "      <th>40630</th>\n",
       "      <td>167827</td>\n",
       "      <td>2019-10-25</td>\n",
       "      <td>out</td>\n",
       "      <td>False</td>\n",
       "      <td>929428.0</td>\n",
       "      <td>True</td>\n",
       "      <td>360</td>\n",
       "      <td>0</td>\n",
       "      <td>8116</td>\n",
       "    </tr>\n",
       "  </tbody>\n",
       "</table>\n",
       "</div>"
      ],
      "text/plain": [
       "      user_id        date direction internal operator_id  is_missed_call  \\\n",
       "40827  167827  2019-11-28       out    False    929426.0           False   \n",
       "7224   166582  2019-10-22       out    False    885890.0            True   \n",
       "6717   166582  2019-08-30       out    False    885876.0           False   \n",
       "7269   166582  2019-10-28       out    False    885890.0            True   \n",
       "40769  167827  2019-11-19       out    False    929426.0            True   \n",
       "30172  167285  2019-10-18       out    False    908640.0           False   \n",
       "6771   166582  2019-09-05       out    False    885890.0            True   \n",
       "37231  167626  2019-10-10        in    False    919166.0           False   \n",
       "6570   166582  2019-08-12       out    False    885876.0           False   \n",
       "40630  167827  2019-10-25       out    False    929428.0            True   \n",
       "\n",
       "       calls_count  call_duration  total_call_duration  \n",
       "40827          351          13413                19635  \n",
       "7224           310              0                 9793  \n",
       "6717           460          60520                69383  \n",
       "7269           282              0                10315  \n",
       "40769          180              0                 2944  \n",
       "30172          549          20620                25327  \n",
       "6771           389              0                14019  \n",
       "37231          205          10902                12024  \n",
       "6570           184          20746                24152  \n",
       "40630          360              0                 8116  "
      ]
     },
     "execution_count": 27,
     "metadata": {},
     "output_type": "execute_result"
    }
   ],
   "source": [
    "telecom[telecom['calls_count']>165].sample(10)"
   ]
  },
  {
   "cell_type": "markdown",
   "metadata": {},
   "source": [
    "The 99 percentile is number of calls above 165 per day. Its a big number but we don't have enough information amd we can not decide whether the information is true. There may be a lot of employees who answer a lot of calls. We will leave this column as it is and continue to check the rest of the columns."
   ]
  },
  {
   "cell_type": "code",
   "execution_count": 28,
   "metadata": {},
   "outputs": [
    {
     "data": {
      "text/plain": [
       "Text(0, 0.5, 'count')"
      ]
     },
     "execution_count": 28,
     "metadata": {},
     "output_type": "execute_result"
    },
    {
     "data": {
      "image/png": "[encoded data removed]",
      "text/plain": [
       "<Figure size 432x288 with 1 Axes>"
      ]
     },
     "metadata": {
      "needs_background": "light"
     },
     "output_type": "display_data"
    }
   ],
   "source": [
    "# call_duration column\n",
    "telecom['call_duration'].hist(range=(0,10000), color='purple')\n",
    "plt.title('call_duration distribution')\n",
    "plt.xlabel('call_duration')\n",
    "plt.ylabel('count')"
   ]
  },
  {
   "cell_type": "code",
   "execution_count": 29,
   "metadata": {},
   "outputs": [
    {
     "name": "stdout",
     "output_type": "stream",
     "text": [
      "[ 4161.5   6619.25 10988.3 ]\n"
     ]
    }
   ],
   "source": [
    "print(np.percentile(telecom['call_duration'],[95,97.5,99]))"
   ]
  },
  {
   "cell_type": "code",
   "execution_count": 30,
   "metadata": {},
   "outputs": [
    {
     "data": {
      "text/html": [
       "<div>\n",
       "<style scoped>\n",
       "    .dataframe tbody tr th:only-of-type {\n",
       "        vertical-align: middle;\n",
       "    }\n",
       "\n",
       "    .dataframe tbody tr th {\n",
       "        vertical-align: top;\n",
       "    }\n",
       "\n",
       "    .dataframe thead th {\n",
       "        text-align: right;\n",
       "    }\n",
       "</style>\n",
       "<table border=\"1\" class=\"dataframe\">\n",
       "  <thead>\n",
       "    <tr style=\"text-align: right;\">\n",
       "      <th></th>\n",
       "      <th>user_id</th>\n",
       "      <th>date</th>\n",
       "      <th>direction</th>\n",
       "      <th>internal</th>\n",
       "      <th>operator_id</th>\n",
       "      <th>is_missed_call</th>\n",
       "      <th>calls_count</th>\n",
       "      <th>call_duration</th>\n",
       "      <th>total_call_duration</th>\n",
       "    </tr>\n",
       "  </thead>\n",
       "  <tbody>\n",
       "    <tr>\n",
       "      <th>37254</th>\n",
       "      <td>167626</td>\n",
       "      <td>2019-10-10</td>\n",
       "      <td>out</td>\n",
       "      <td>False</td>\n",
       "      <td>919906.0</td>\n",
       "      <td>False</td>\n",
       "      <td>110</td>\n",
       "      <td>13076</td>\n",
       "      <td>14868</td>\n",
       "    </tr>\n",
       "    <tr>\n",
       "      <th>7018</th>\n",
       "      <td>166582</td>\n",
       "      <td>2019-10-04</td>\n",
       "      <td>out</td>\n",
       "      <td>False</td>\n",
       "      <td>885890.0</td>\n",
       "      <td>False</td>\n",
       "      <td>338</td>\n",
       "      <td>34050</td>\n",
       "      <td>40186</td>\n",
       "    </tr>\n",
       "    <tr>\n",
       "      <th>51966</th>\n",
       "      <td>168361</td>\n",
       "      <td>2019-10-25</td>\n",
       "      <td>out</td>\n",
       "      <td>False</td>\n",
       "      <td>945288.0</td>\n",
       "      <td>False</td>\n",
       "      <td>116</td>\n",
       "      <td>11596</td>\n",
       "      <td>13553</td>\n",
       "    </tr>\n",
       "    <tr>\n",
       "      <th>6992</th>\n",
       "      <td>166582</td>\n",
       "      <td>2019-10-01</td>\n",
       "      <td>out</td>\n",
       "      <td>False</td>\n",
       "      <td>885890.0</td>\n",
       "      <td>False</td>\n",
       "      <td>622</td>\n",
       "      <td>44133</td>\n",
       "      <td>55237</td>\n",
       "    </tr>\n",
       "    <tr>\n",
       "      <th>7072</th>\n",
       "      <td>166582</td>\n",
       "      <td>2019-10-08</td>\n",
       "      <td>out</td>\n",
       "      <td>False</td>\n",
       "      <td>885890.0</td>\n",
       "      <td>False</td>\n",
       "      <td>503</td>\n",
       "      <td>48239</td>\n",
       "      <td>57410</td>\n",
       "    </tr>\n",
       "    <tr>\n",
       "      <th>7243</th>\n",
       "      <td>166582</td>\n",
       "      <td>2019-10-24</td>\n",
       "      <td>out</td>\n",
       "      <td>False</td>\n",
       "      <td>885890.0</td>\n",
       "      <td>False</td>\n",
       "      <td>530</td>\n",
       "      <td>48907</td>\n",
       "      <td>58352</td>\n",
       "    </tr>\n",
       "    <tr>\n",
       "      <th>52314</th>\n",
       "      <td>168361</td>\n",
       "      <td>2019-11-05</td>\n",
       "      <td>out</td>\n",
       "      <td>False</td>\n",
       "      <td>945308.0</td>\n",
       "      <td>False</td>\n",
       "      <td>71</td>\n",
       "      <td>11160</td>\n",
       "      <td>12410</td>\n",
       "    </tr>\n",
       "    <tr>\n",
       "      <th>52142</th>\n",
       "      <td>168361</td>\n",
       "      <td>2019-10-31</td>\n",
       "      <td>out</td>\n",
       "      <td>False</td>\n",
       "      <td>945280.0</td>\n",
       "      <td>False</td>\n",
       "      <td>67</td>\n",
       "      <td>11978</td>\n",
       "      <td>13273</td>\n",
       "    </tr>\n",
       "    <tr>\n",
       "      <th>51542</th>\n",
       "      <td>168315</td>\n",
       "      <td>2019-11-15</td>\n",
       "      <td>in</td>\n",
       "      <td>False</td>\n",
       "      <td>952734.0</td>\n",
       "      <td>False</td>\n",
       "      <td>43</td>\n",
       "      <td>12405</td>\n",
       "      <td>12452</td>\n",
       "    </tr>\n",
       "    <tr>\n",
       "      <th>6792</th>\n",
       "      <td>166582</td>\n",
       "      <td>2019-09-07</td>\n",
       "      <td>out</td>\n",
       "      <td>False</td>\n",
       "      <td>885890.0</td>\n",
       "      <td>False</td>\n",
       "      <td>195</td>\n",
       "      <td>12612</td>\n",
       "      <td>16152</td>\n",
       "    </tr>\n",
       "  </tbody>\n",
       "</table>\n",
       "</div>"
      ],
      "text/plain": [
       "      user_id        date direction internal operator_id  is_missed_call  \\\n",
       "37254  167626  2019-10-10       out    False    919906.0           False   \n",
       "7018   166582  2019-10-04       out    False    885890.0           False   \n",
       "51966  168361  2019-10-25       out    False    945288.0           False   \n",
       "6992   166582  2019-10-01       out    False    885890.0           False   \n",
       "7072   166582  2019-10-08       out    False    885890.0           False   \n",
       "7243   166582  2019-10-24       out    False    885890.0           False   \n",
       "52314  168361  2019-11-05       out    False    945308.0           False   \n",
       "52142  168361  2019-10-31       out    False    945280.0           False   \n",
       "51542  168315  2019-11-15        in    False    952734.0           False   \n",
       "6792   166582  2019-09-07       out    False    885890.0           False   \n",
       "\n",
       "       calls_count  call_duration  total_call_duration  \n",
       "37254          110          13076                14868  \n",
       "7018           338          34050                40186  \n",
       "51966          116          11596                13553  \n",
       "6992           622          44133                55237  \n",
       "7072           503          48239                57410  \n",
       "7243           530          48907                58352  \n",
       "52314           71          11160                12410  \n",
       "52142           67          11978                13273  \n",
       "51542           43          12405                12452  \n",
       "6792           195          12612                16152  "
      ]
     },
     "execution_count": 30,
     "metadata": {},
     "output_type": "execute_result"
    }
   ],
   "source": [
    "telecom[telecom['call_duration']>10988].sample(10)"
   ]
  },
  {
   "cell_type": "markdown",
   "metadata": {},
   "source": [
    "* Here we see information about the 99th percentile. It seems that the call duration here above 3 hours and that is a lot. We again not have enough information on whether the time is reasonable or not. Although we would like to claim that this is not a reasonable time for one call because it is ineffective and hurts waiting calls.\n",
    "* It is important to say that there are no clues to \"blame\" specific user or operator. We have diverse users and operators with long duration call ."
   ]
  },
  {
   "cell_type": "markdown",
   "metadata": {},
   "source": [
    "Its important to check illogical information - duration above 24 hours:"
   ]
  },
  {
   "cell_type": "code",
   "execution_count": 31,
   "metadata": {},
   "outputs": [
    {
     "data": {
      "text/plain": [
       "23"
      ]
     },
     "execution_count": 31,
     "metadata": {},
     "output_type": "execute_result"
    }
   ],
   "source": [
    "telecom[telecom['call_duration']>86400].shape[0]"
   ]
  },
  {
   "cell_type": "markdown",
   "metadata": {},
   "source": [
    "There are 23 illogical duration call. Because the entire 99th percentile is illogical, we'll drop all these rows."
   ]
  },
  {
   "cell_type": "code",
   "execution_count": 32,
   "metadata": {},
   "outputs": [],
   "source": [
    "telecom = telecom[telecom['call_duration']<86400]"
   ]
  },
  {
   "cell_type": "code",
   "execution_count": 33,
   "metadata": {},
   "outputs": [
    {
     "data": {
      "text/plain": [
       "Text(0, 0.5, 'count')"
      ]
     },
     "execution_count": 33,
     "metadata": {},
     "output_type": "execute_result"
    },
    {
     "data": {
      "image/png": "[encoded data removed]",
      "text/plain": [
       "<Figure size 432x288 with 1 Axes>"
      ]
     },
     "metadata": {
      "needs_background": "light"
     },
     "output_type": "display_data"
    }
   ],
   "source": [
    "# total_call_duration column: \n",
    "telecom['total_call_duration'].hist(range=(0,50000), color='indigo')\n",
    "plt.title('total_call_duration distribution')\n",
    "plt.xlabel('total_call_duration')\n",
    "plt.ylabel('count')"
   ]
  },
  {
   "cell_type": "code",
   "execution_count": 34,
   "metadata": {},
   "outputs": [
    {
     "name": "stdout",
     "output_type": "stream",
     "text": [
      "[ 5010.65  8149.   13373.32]\n"
     ]
    }
   ],
   "source": [
    "print(np.percentile(telecom['total_call_duration'],[95,97.5,99]))"
   ]
  },
  {
   "cell_type": "markdown",
   "metadata": {},
   "source": [
    "Here we would rather look at the time it takes to answer a call:"
   ]
  },
  {
   "cell_type": "code",
   "execution_count": 35,
   "metadata": {},
   "outputs": [],
   "source": [
    "#call wait\n",
    "telecom['time_wait'] = telecom['total_call_duration'] - telecom['call_duration']"
   ]
  },
  {
   "cell_type": "code",
   "execution_count": 36,
   "metadata": {},
   "outputs": [
    {
     "name": "stdout",
     "output_type": "stream",
     "text": [
      "[1229.   1886.   3343.65]\n"
     ]
    }
   ],
   "source": [
    "print(np.percentile(telecom['time_wait'],[95,97.5,99]))"
   ]
  },
  {
   "cell_type": "code",
   "execution_count": 37,
   "metadata": {},
   "outputs": [],
   "source": [
    "prcnt_99 = telecom[telecom['time_wait']>3495]"
   ]
  },
  {
   "cell_type": "code",
   "execution_count": 38,
   "metadata": {},
   "outputs": [
    {
     "data": {
      "text/html": [
       "<div>\n",
       "<style scoped>\n",
       "    .dataframe tbody tr th:only-of-type {\n",
       "        vertical-align: middle;\n",
       "    }\n",
       "\n",
       "    .dataframe tbody tr th {\n",
       "        vertical-align: top;\n",
       "    }\n",
       "\n",
       "    .dataframe thead th {\n",
       "        text-align: right;\n",
       "    }\n",
       "</style>\n",
       "<table border=\"1\" class=\"dataframe\">\n",
       "  <thead>\n",
       "    <tr style=\"text-align: right;\">\n",
       "      <th></th>\n",
       "      <th>user_id</th>\n",
       "      <th>date</th>\n",
       "      <th>direction</th>\n",
       "      <th>internal</th>\n",
       "      <th>operator_id</th>\n",
       "      <th>is_missed_call</th>\n",
       "      <th>calls_count</th>\n",
       "      <th>call_duration</th>\n",
       "      <th>total_call_duration</th>\n",
       "      <th>time_wait</th>\n",
       "    </tr>\n",
       "  </thead>\n",
       "  <tbody>\n",
       "    <tr>\n",
       "      <th>6571</th>\n",
       "      <td>166582</td>\n",
       "      <td>2019-08-12</td>\n",
       "      <td>out</td>\n",
       "      <td>False</td>\n",
       "      <td>885876.0</td>\n",
       "      <td>True</td>\n",
       "      <td>219</td>\n",
       "      <td>0</td>\n",
       "      <td>5687</td>\n",
       "      <td>5687</td>\n",
       "    </tr>\n",
       "    <tr>\n",
       "      <th>6573</th>\n",
       "      <td>166582</td>\n",
       "      <td>2019-08-12</td>\n",
       "      <td>out</td>\n",
       "      <td>False</td>\n",
       "      <td>885890.0</td>\n",
       "      <td>True</td>\n",
       "      <td>113</td>\n",
       "      <td>0</td>\n",
       "      <td>3691</td>\n",
       "      <td>3691</td>\n",
       "    </tr>\n",
       "    <tr>\n",
       "      <th>6577</th>\n",
       "      <td>166582</td>\n",
       "      <td>2019-08-13</td>\n",
       "      <td>out</td>\n",
       "      <td>False</td>\n",
       "      <td>885890.0</td>\n",
       "      <td>True</td>\n",
       "      <td>182</td>\n",
       "      <td>0</td>\n",
       "      <td>6486</td>\n",
       "      <td>6486</td>\n",
       "    </tr>\n",
       "    <tr>\n",
       "      <th>6579</th>\n",
       "      <td>166582</td>\n",
       "      <td>2019-08-13</td>\n",
       "      <td>out</td>\n",
       "      <td>False</td>\n",
       "      <td>885890.0</td>\n",
       "      <td>False</td>\n",
       "      <td>308</td>\n",
       "      <td>35126</td>\n",
       "      <td>40739</td>\n",
       "      <td>5613</td>\n",
       "    </tr>\n",
       "    <tr>\n",
       "      <th>6581</th>\n",
       "      <td>166582</td>\n",
       "      <td>2019-08-13</td>\n",
       "      <td>out</td>\n",
       "      <td>False</td>\n",
       "      <td>885876.0</td>\n",
       "      <td>False</td>\n",
       "      <td>265</td>\n",
       "      <td>30422</td>\n",
       "      <td>35448</td>\n",
       "      <td>5026</td>\n",
       "    </tr>\n",
       "  </tbody>\n",
       "</table>\n",
       "</div>"
      ],
      "text/plain": [
       "     user_id        date direction internal operator_id  is_missed_call  \\\n",
       "6571  166582  2019-08-12       out    False    885876.0            True   \n",
       "6573  166582  2019-08-12       out    False    885890.0            True   \n",
       "6577  166582  2019-08-13       out    False    885890.0            True   \n",
       "6579  166582  2019-08-13       out    False    885890.0           False   \n",
       "6581  166582  2019-08-13       out    False    885876.0           False   \n",
       "\n",
       "      calls_count  call_duration  total_call_duration  time_wait  \n",
       "6571          219              0                 5687       5687  \n",
       "6573          113              0                 3691       3691  \n",
       "6577          182              0                 6486       6486  \n",
       "6579          308          35126                40739       5613  \n",
       "6581          265          30422                35448       5026  "
      ]
     },
     "execution_count": 38,
     "metadata": {},
     "output_type": "execute_result"
    }
   ],
   "source": [
    "prcnt_99.head()"
   ]
  },
  {
   "cell_type": "code",
   "execution_count": 39,
   "metadata": {},
   "outputs": [
    {
     "data": {
      "text/html": [
       "<div>\n",
       "<style scoped>\n",
       "    .dataframe tbody tr th:only-of-type {\n",
       "        vertical-align: middle;\n",
       "    }\n",
       "\n",
       "    .dataframe tbody tr th {\n",
       "        vertical-align: top;\n",
       "    }\n",
       "\n",
       "    .dataframe thead th {\n",
       "        text-align: right;\n",
       "    }\n",
       "</style>\n",
       "<table border=\"1\" class=\"dataframe\">\n",
       "  <thead>\n",
       "    <tr style=\"text-align: right;\">\n",
       "      <th></th>\n",
       "      <th>user_id</th>\n",
       "      <th>date</th>\n",
       "      <th>direction</th>\n",
       "      <th>internal</th>\n",
       "      <th>operator_id</th>\n",
       "      <th>is_missed_call</th>\n",
       "      <th>calls_count</th>\n",
       "      <th>call_duration</th>\n",
       "      <th>total_call_duration</th>\n",
       "      <th>time_wait</th>\n",
       "    </tr>\n",
       "  </thead>\n",
       "  <tbody>\n",
       "  </tbody>\n",
       "</table>\n",
       "</div>"
      ],
      "text/plain": [
       "Empty DataFrame\n",
       "Columns: [user_id, date, direction, internal, operator_id, is_missed_call, calls_count, call_duration, total_call_duration, time_wait]\n",
       "Index: []"
      ]
     },
     "execution_count": 39,
     "metadata": {},
     "output_type": "execute_result"
    }
   ],
   "source": [
    "prcnt_99.query('internal==True')"
   ]
  },
  {
   "cell_type": "markdown",
   "metadata": {},
   "source": [
    "There are no internal calls"
   ]
  },
  {
   "cell_type": "code",
   "execution_count": 40,
   "metadata": {},
   "outputs": [
    {
     "data": {
      "text/html": [
       "<div>\n",
       "<style scoped>\n",
       "    .dataframe tbody tr th:only-of-type {\n",
       "        vertical-align: middle;\n",
       "    }\n",
       "\n",
       "    .dataframe tbody tr th {\n",
       "        vertical-align: top;\n",
       "    }\n",
       "\n",
       "    .dataframe thead th {\n",
       "        text-align: right;\n",
       "    }\n",
       "</style>\n",
       "<table border=\"1\" class=\"dataframe\">\n",
       "  <thead>\n",
       "    <tr style=\"text-align: right;\">\n",
       "      <th></th>\n",
       "      <th>user_id</th>\n",
       "      <th>date</th>\n",
       "      <th>direction</th>\n",
       "      <th>internal</th>\n",
       "      <th>operator_id</th>\n",
       "      <th>is_missed_call</th>\n",
       "      <th>calls_count</th>\n",
       "      <th>call_duration</th>\n",
       "      <th>total_call_duration</th>\n",
       "      <th>time_wait</th>\n",
       "    </tr>\n",
       "  </thead>\n",
       "  <tbody>\n",
       "    <tr>\n",
       "      <th>28939</th>\n",
       "      <td>167189</td>\n",
       "      <td>2019-10-01</td>\n",
       "      <td>in</td>\n",
       "      <td>False</td>\n",
       "      <td>906070.0</td>\n",
       "      <td>False</td>\n",
       "      <td>64</td>\n",
       "      <td>9336</td>\n",
       "      <td>13061</td>\n",
       "      <td>3725</td>\n",
       "    </tr>\n",
       "    <tr>\n",
       "      <th>38359</th>\n",
       "      <td>167650</td>\n",
       "      <td>2019-11-11</td>\n",
       "      <td>in</td>\n",
       "      <td>False</td>\n",
       "      <td>931458.0</td>\n",
       "      <td>False</td>\n",
       "      <td>133</td>\n",
       "      <td>12379</td>\n",
       "      <td>16377</td>\n",
       "      <td>3998</td>\n",
       "    </tr>\n",
       "  </tbody>\n",
       "</table>\n",
       "</div>"
      ],
      "text/plain": [
       "      user_id        date direction internal operator_id  is_missed_call  \\\n",
       "28939  167189  2019-10-01        in    False    906070.0           False   \n",
       "38359  167650  2019-11-11        in    False    931458.0           False   \n",
       "\n",
       "       calls_count  call_duration  total_call_duration  time_wait  \n",
       "28939           64           9336                13061       3725  \n",
       "38359          133          12379                16377       3998  "
      ]
     },
     "execution_count": 40,
     "metadata": {},
     "output_type": "execute_result"
    }
   ],
   "source": [
    "prcnt_99.query('direction==\"in\"').head()"
   ]
  },
  {
   "cell_type": "markdown",
   "metadata": {},
   "source": [
    "There are only 2 incalls"
   ]
  },
  {
   "cell_type": "code",
   "execution_count": 41,
   "metadata": {},
   "outputs": [
    {
     "data": {
      "text/html": [
       "<div>\n",
       "<style scoped>\n",
       "    .dataframe tbody tr th:only-of-type {\n",
       "        vertical-align: middle;\n",
       "    }\n",
       "\n",
       "    .dataframe tbody tr th {\n",
       "        vertical-align: top;\n",
       "    }\n",
       "\n",
       "    .dataframe thead th {\n",
       "        text-align: right;\n",
       "    }\n",
       "</style>\n",
       "<table border=\"1\" class=\"dataframe\">\n",
       "  <thead>\n",
       "    <tr style=\"text-align: right;\">\n",
       "      <th></th>\n",
       "      <th>user_id</th>\n",
       "      <th>date</th>\n",
       "      <th>direction</th>\n",
       "      <th>internal</th>\n",
       "      <th>operator_id</th>\n",
       "      <th>is_missed_call</th>\n",
       "      <th>calls_count</th>\n",
       "      <th>call_duration</th>\n",
       "      <th>total_call_duration</th>\n",
       "      <th>time_wait</th>\n",
       "    </tr>\n",
       "  </thead>\n",
       "  <tbody>\n",
       "    <tr>\n",
       "      <th>6571</th>\n",
       "      <td>166582</td>\n",
       "      <td>2019-08-12</td>\n",
       "      <td>out</td>\n",
       "      <td>False</td>\n",
       "      <td>885876.0</td>\n",
       "      <td>True</td>\n",
       "      <td>219</td>\n",
       "      <td>0</td>\n",
       "      <td>5687</td>\n",
       "      <td>5687</td>\n",
       "    </tr>\n",
       "    <tr>\n",
       "      <th>6573</th>\n",
       "      <td>166582</td>\n",
       "      <td>2019-08-12</td>\n",
       "      <td>out</td>\n",
       "      <td>False</td>\n",
       "      <td>885890.0</td>\n",
       "      <td>True</td>\n",
       "      <td>113</td>\n",
       "      <td>0</td>\n",
       "      <td>3691</td>\n",
       "      <td>3691</td>\n",
       "    </tr>\n",
       "    <tr>\n",
       "      <th>6577</th>\n",
       "      <td>166582</td>\n",
       "      <td>2019-08-13</td>\n",
       "      <td>out</td>\n",
       "      <td>False</td>\n",
       "      <td>885890.0</td>\n",
       "      <td>True</td>\n",
       "      <td>182</td>\n",
       "      <td>0</td>\n",
       "      <td>6486</td>\n",
       "      <td>6486</td>\n",
       "    </tr>\n",
       "    <tr>\n",
       "      <th>6579</th>\n",
       "      <td>166582</td>\n",
       "      <td>2019-08-13</td>\n",
       "      <td>out</td>\n",
       "      <td>False</td>\n",
       "      <td>885890.0</td>\n",
       "      <td>False</td>\n",
       "      <td>308</td>\n",
       "      <td>35126</td>\n",
       "      <td>40739</td>\n",
       "      <td>5613</td>\n",
       "    </tr>\n",
       "    <tr>\n",
       "      <th>6581</th>\n",
       "      <td>166582</td>\n",
       "      <td>2019-08-13</td>\n",
       "      <td>out</td>\n",
       "      <td>False</td>\n",
       "      <td>885876.0</td>\n",
       "      <td>False</td>\n",
       "      <td>265</td>\n",
       "      <td>30422</td>\n",
       "      <td>35448</td>\n",
       "      <td>5026</td>\n",
       "    </tr>\n",
       "  </tbody>\n",
       "</table>\n",
       "</div>"
      ],
      "text/plain": [
       "     user_id        date direction internal operator_id  is_missed_call  \\\n",
       "6571  166582  2019-08-12       out    False    885876.0            True   \n",
       "6573  166582  2019-08-12       out    False    885890.0            True   \n",
       "6577  166582  2019-08-13       out    False    885890.0            True   \n",
       "6579  166582  2019-08-13       out    False    885890.0           False   \n",
       "6581  166582  2019-08-13       out    False    885876.0           False   \n",
       "\n",
       "      calls_count  call_duration  total_call_duration  time_wait  \n",
       "6571          219              0                 5687       5687  \n",
       "6573          113              0                 3691       3691  \n",
       "6577          182              0                 6486       6486  \n",
       "6579          308          35126                40739       5613  \n",
       "6581          265          30422                35448       5026  "
      ]
     },
     "execution_count": 41,
     "metadata": {},
     "output_type": "execute_result"
    }
   ],
   "source": [
    "prcnt_99.query('direction==\"out\"').head()"
   ]
  },
  {
   "cell_type": "markdown",
   "metadata": {},
   "source": [
    "* In the 99th percentile we see that the call response time is about an hour or more. We also see that there are calls that are finally answered and there are some that are not.\n",
    "* Almost all of the rows on 99 percentage are direction=out and internal=False. It means there are outgoing calls only to users who didn't respond. It doesn't mean anything bad about the quality of the operators."
   ]
  },
  {
   "cell_type": "markdown",
   "metadata": {},
   "source": [
    "Another thing we will check, whether there are values filled with 0:"
   ]
  },
  {
   "cell_type": "code",
   "execution_count": 42,
   "metadata": {},
   "outputs": [
    {
     "data": {
      "text/html": [
       "<div>\n",
       "<style scoped>\n",
       "    .dataframe tbody tr th:only-of-type {\n",
       "        vertical-align: middle;\n",
       "    }\n",
       "\n",
       "    .dataframe tbody tr th {\n",
       "        vertical-align: top;\n",
       "    }\n",
       "\n",
       "    .dataframe thead th {\n",
       "        text-align: right;\n",
       "    }\n",
       "</style>\n",
       "<table border=\"1\" class=\"dataframe\">\n",
       "  <thead>\n",
       "    <tr style=\"text-align: right;\">\n",
       "      <th></th>\n",
       "      <th>user_id</th>\n",
       "      <th>date</th>\n",
       "      <th>direction</th>\n",
       "      <th>internal</th>\n",
       "      <th>operator_id</th>\n",
       "      <th>is_missed_call</th>\n",
       "      <th>calls_count</th>\n",
       "      <th>call_duration</th>\n",
       "      <th>total_call_duration</th>\n",
       "      <th>time_wait</th>\n",
       "    </tr>\n",
       "  </thead>\n",
       "  <tbody>\n",
       "    <tr>\n",
       "      <th>1</th>\n",
       "      <td>166377</td>\n",
       "      <td>2019-08-05</td>\n",
       "      <td>out</td>\n",
       "      <td>True</td>\n",
       "      <td>880022.0</td>\n",
       "      <td>True</td>\n",
       "      <td>3</td>\n",
       "      <td>0</td>\n",
       "      <td>5</td>\n",
       "      <td>5</td>\n",
       "    </tr>\n",
       "    <tr>\n",
       "      <th>2</th>\n",
       "      <td>166377</td>\n",
       "      <td>2019-08-05</td>\n",
       "      <td>out</td>\n",
       "      <td>True</td>\n",
       "      <td>880020.0</td>\n",
       "      <td>True</td>\n",
       "      <td>1</td>\n",
       "      <td>0</td>\n",
       "      <td>1</td>\n",
       "      <td>1</td>\n",
       "    </tr>\n",
       "    <tr>\n",
       "      <th>3</th>\n",
       "      <td>166377</td>\n",
       "      <td>2019-08-05</td>\n",
       "      <td>out</td>\n",
       "      <td>True</td>\n",
       "      <td>880020.0</td>\n",
       "      <td>False</td>\n",
       "      <td>1</td>\n",
       "      <td>10</td>\n",
       "      <td>18</td>\n",
       "      <td>8</td>\n",
       "    </tr>\n",
       "    <tr>\n",
       "      <th>4</th>\n",
       "      <td>166377</td>\n",
       "      <td>2019-08-05</td>\n",
       "      <td>out</td>\n",
       "      <td>False</td>\n",
       "      <td>880022.0</td>\n",
       "      <td>True</td>\n",
       "      <td>3</td>\n",
       "      <td>0</td>\n",
       "      <td>25</td>\n",
       "      <td>25</td>\n",
       "    </tr>\n",
       "    <tr>\n",
       "      <th>5</th>\n",
       "      <td>166377</td>\n",
       "      <td>2019-08-05</td>\n",
       "      <td>out</td>\n",
       "      <td>False</td>\n",
       "      <td>880020.0</td>\n",
       "      <td>False</td>\n",
       "      <td>2</td>\n",
       "      <td>3</td>\n",
       "      <td>29</td>\n",
       "      <td>26</td>\n",
       "    </tr>\n",
       "  </tbody>\n",
       "</table>\n",
       "</div>"
      ],
      "text/plain": [
       "  user_id        date direction internal operator_id  is_missed_call  \\\n",
       "1  166377  2019-08-05       out     True    880022.0            True   \n",
       "2  166377  2019-08-05       out     True    880020.0            True   \n",
       "3  166377  2019-08-05       out     True    880020.0           False   \n",
       "4  166377  2019-08-05       out    False    880022.0            True   \n",
       "5  166377  2019-08-05       out    False    880020.0           False   \n",
       "\n",
       "   calls_count  call_duration  total_call_duration  time_wait  \n",
       "1            3              0                    5          5  \n",
       "2            1              0                    1          1  \n",
       "3            1             10                   18          8  \n",
       "4            3              0                   25         25  \n",
       "5            2              3                   29         26  "
      ]
     },
     "execution_count": 42,
     "metadata": {},
     "output_type": "execute_result"
    }
   ],
   "source": [
    "telecom.head()"
   ]
  },
  {
   "cell_type": "markdown",
   "metadata": {},
   "source": [
    "We will check specific columns (presented on check_for_0 variable)"
   ]
  },
  {
   "cell_type": "code",
   "execution_count": 43,
   "metadata": {},
   "outputs": [
    {
     "name": "stdout",
     "output_type": "stream",
     "text": [
      "calls_count :\n",
      "Empty DataFrame\n",
      "Columns: [user_id, date, direction, internal, operator_id, is_missed_call, calls_count, call_duration, total_call_duration, time_wait]\n",
      "Index: []\n",
      "rows: 0 \n",
      "\n",
      "call_duration :\n",
      "   user_id        date direction internal operator_id  is_missed_call  \\\n",
      "1   166377  2019-08-05       out     True    880022.0            True   \n",
      "2   166377  2019-08-05       out     True    880020.0            True   \n",
      "4   166377  2019-08-05       out    False    880022.0            True   \n",
      "6   166377  2019-08-05       out    False    880020.0            True   \n",
      "10  166377  2019-08-06       out    False    881278.0            True   \n",
      "\n",
      "    calls_count  call_duration  total_call_duration  time_wait  \n",
      "1             3              0                    5          5  \n",
      "2             1              0                    1          1  \n",
      "4             3              0                   25         25  \n",
      "6             8              0                   50         50  \n",
      "10            3              0                   29         29  \n",
      "rows: 13831 \n",
      "\n",
      "total_call_duration :\n",
      "    user_id        date direction internal operator_id  is_missed_call  \\\n",
      "40   166377  2019-08-14       out     True    880026.0            True   \n",
      "89   166377  2019-08-26       out     True    880022.0            True   \n",
      "124  166377  2019-09-02       out     True    880020.0            True   \n",
      "149  166377  2019-09-05       out     True    880022.0            True   \n",
      "152  166377  2019-09-06       out     True    880022.0            True   \n",
      "\n",
      "     calls_count  call_duration  total_call_duration  time_wait  \n",
      "40             2              0                    0          0  \n",
      "89             3              0                    0          0  \n",
      "124            2              0                    0          0  \n",
      "149            2              0                    0          0  \n",
      "152            2              0                    0          0  \n",
      "rows: 863 \n",
      "\n",
      "time_wait :\n",
      "    user_id        date direction internal operator_id  is_missed_call  \\\n",
      "40   166377  2019-08-14       out     True    880026.0            True   \n",
      "89   166377  2019-08-26       out     True    880022.0            True   \n",
      "124  166377  2019-09-02       out     True    880020.0            True   \n",
      "149  166377  2019-09-05       out     True    880022.0            True   \n",
      "152  166377  2019-09-06       out     True    880022.0            True   \n",
      "\n",
      "     calls_count  call_duration  total_call_duration  time_wait  \n",
      "40             2              0                    0          0  \n",
      "89             3              0                    0          0  \n",
      "124            2              0                    0          0  \n",
      "149            2              0                    0          0  \n",
      "152            2              0                    0          0  \n",
      "rows: 891 \n",
      "\n"
     ]
    }
   ],
   "source": [
    "check_for_0 = ['calls_count', 'call_duration', 'total_call_duration', 'time_wait']\n",
    "for i in check_for_0:\n",
    "    print(i, ':')\n",
    "    print(telecom[telecom[i]==0].head())\n",
    "    print('rows:', telecom[telecom[i]==0].shape[0], '\\n')"
   ]
  },
  {
   "cell_type": "markdown",
   "metadata": {},
   "source": [
    "* 'calls_count' - doesn't have values with 0,\n",
    "* 'call_duration' has 13831 values with 0, \n",
    "* 'total_call_duration' has 861 values with 0, \n",
    "* 'time_wait' has 891 values with 0\n",
    "\n"
   ]
  },
  {
   "cell_type": "markdown",
   "metadata": {},
   "source": [
    "* We care about missed calls so we can not touch a call = zero. But we have values that are 0 in the wait_time column. If the values are equal to 0 it means that there was no waiting. But does this mean it's an incoming call (and therefore there is no waiting time)? \n",
    "* We will delete the rows where the call is 'out' and the wait_time = 0, which means that no call was made. We need to delete these lines because their information is irrelevant and can be misleading."
   ]
  },
  {
   "cell_type": "code",
   "execution_count": 44,
   "metadata": {},
   "outputs": [
    {
     "data": {
      "text/html": [
       "<div>\n",
       "<style scoped>\n",
       "    .dataframe tbody tr th:only-of-type {\n",
       "        vertical-align: middle;\n",
       "    }\n",
       "\n",
       "    .dataframe tbody tr th {\n",
       "        vertical-align: top;\n",
       "    }\n",
       "\n",
       "    .dataframe thead th {\n",
       "        text-align: right;\n",
       "    }\n",
       "</style>\n",
       "<table border=\"1\" class=\"dataframe\">\n",
       "  <thead>\n",
       "    <tr style=\"text-align: right;\">\n",
       "      <th></th>\n",
       "      <th>user_id</th>\n",
       "      <th>date</th>\n",
       "      <th>direction</th>\n",
       "      <th>internal</th>\n",
       "      <th>operator_id</th>\n",
       "      <th>is_missed_call</th>\n",
       "      <th>calls_count</th>\n",
       "      <th>call_duration</th>\n",
       "      <th>total_call_duration</th>\n",
       "      <th>time_wait</th>\n",
       "    </tr>\n",
       "  </thead>\n",
       "  <tbody>\n",
       "    <tr>\n",
       "      <th>29479</th>\n",
       "      <td>167238</td>\n",
       "      <td>2019-11-23</td>\n",
       "      <td>in</td>\n",
       "      <td>False</td>\n",
       "      <td>949420.0</td>\n",
       "      <td>False</td>\n",
       "      <td>1</td>\n",
       "      <td>887</td>\n",
       "      <td>887</td>\n",
       "      <td>0</td>\n",
       "    </tr>\n",
       "    <tr>\n",
       "      <th>40869</th>\n",
       "      <td>167828</td>\n",
       "      <td>2019-10-24</td>\n",
       "      <td>in</td>\n",
       "      <td>False</td>\n",
       "      <td>940442.0</td>\n",
       "      <td>False</td>\n",
       "      <td>3</td>\n",
       "      <td>3</td>\n",
       "      <td>3</td>\n",
       "      <td>0</td>\n",
       "    </tr>\n",
       "    <tr>\n",
       "      <th>40888</th>\n",
       "      <td>167828</td>\n",
       "      <td>2019-10-28</td>\n",
       "      <td>in</td>\n",
       "      <td>False</td>\n",
       "      <td>940430.0</td>\n",
       "      <td>False</td>\n",
       "      <td>1</td>\n",
       "      <td>7</td>\n",
       "      <td>7</td>\n",
       "      <td>0</td>\n",
       "    </tr>\n",
       "    <tr>\n",
       "      <th>40910</th>\n",
       "      <td>167828</td>\n",
       "      <td>2019-10-30</td>\n",
       "      <td>in</td>\n",
       "      <td>False</td>\n",
       "      <td>940442.0</td>\n",
       "      <td>False</td>\n",
       "      <td>4</td>\n",
       "      <td>84</td>\n",
       "      <td>84</td>\n",
       "      <td>0</td>\n",
       "    </tr>\n",
       "    <tr>\n",
       "      <th>41012</th>\n",
       "      <td>167828</td>\n",
       "      <td>2019-11-10</td>\n",
       "      <td>in</td>\n",
       "      <td>False</td>\n",
       "      <td>940430.0</td>\n",
       "      <td>False</td>\n",
       "      <td>1</td>\n",
       "      <td>54</td>\n",
       "      <td>54</td>\n",
       "      <td>0</td>\n",
       "    </tr>\n",
       "  </tbody>\n",
       "</table>\n",
       "</div>"
      ],
      "text/plain": [
       "      user_id        date direction internal operator_id  is_missed_call  \\\n",
       "29479  167238  2019-11-23        in    False    949420.0           False   \n",
       "40869  167828  2019-10-24        in    False    940442.0           False   \n",
       "40888  167828  2019-10-28        in    False    940430.0           False   \n",
       "40910  167828  2019-10-30        in    False    940442.0           False   \n",
       "41012  167828  2019-11-10        in    False    940430.0           False   \n",
       "\n",
       "       calls_count  call_duration  total_call_duration  time_wait  \n",
       "29479            1            887                  887          0  \n",
       "40869            3              3                    3          0  \n",
       "40888            1              7                    7          0  \n",
       "40910            4             84                   84          0  \n",
       "41012            1             54                   54          0  "
      ]
     },
     "execution_count": 44,
     "metadata": {},
     "output_type": "execute_result"
    }
   ],
   "source": [
    "telecom.query('time_wait==0 and direction==\"in\"').head()"
   ]
  },
  {
   "cell_type": "markdown",
   "metadata": {},
   "source": [
    "Here we see incoming calls. Therefor the time_wait will be 0 "
   ]
  },
  {
   "cell_type": "code",
   "execution_count": 45,
   "metadata": {},
   "outputs": [
    {
     "data": {
      "text/plain": [
       "(41468, 10)"
      ]
     },
     "execution_count": 45,
     "metadata": {},
     "output_type": "execute_result"
    }
   ],
   "source": [
    "telecom.shape"
   ]
  },
  {
   "cell_type": "code",
   "execution_count": 46,
   "metadata": {},
   "outputs": [],
   "source": [
    "# drop irrelevant rows\n",
    "telecom = telecom[~((telecom['time_wait'] == 0) & (telecom['direction'] == \"out\"))]\n",
    "              "
   ]
  },
  {
   "cell_type": "code",
   "execution_count": 47,
   "metadata": {},
   "outputs": [
    {
     "data": {
      "text/plain": [
       "(40586, 10)"
      ]
     },
     "execution_count": 47,
     "metadata": {},
     "output_type": "execute_result"
    }
   ],
   "source": [
    "telecom.shape"
   ]
  },
  {
   "cell_type": "markdown",
   "metadata": {},
   "source": [
    "## Correlation <a class=\"anchor\" id=\"section_2_3\"></a> "
   ]
  },
  {
   "cell_type": "code",
   "execution_count": 48,
   "metadata": {},
   "outputs": [
    {
     "data": {
      "text/html": [
       "<div>\n",
       "<style scoped>\n",
       "    .dataframe tbody tr th:only-of-type {\n",
       "        vertical-align: middle;\n",
       "    }\n",
       "\n",
       "    .dataframe tbody tr th {\n",
       "        vertical-align: top;\n",
       "    }\n",
       "\n",
       "    .dataframe thead th {\n",
       "        text-align: right;\n",
       "    }\n",
       "</style>\n",
       "<table border=\"1\" class=\"dataframe\">\n",
       "  <thead>\n",
       "    <tr style=\"text-align: right;\">\n",
       "      <th></th>\n",
       "      <th>is_missed_call</th>\n",
       "      <th>calls_count</th>\n",
       "      <th>call_duration</th>\n",
       "      <th>total_call_duration</th>\n",
       "      <th>time_wait</th>\n",
       "    </tr>\n",
       "  </thead>\n",
       "  <tbody>\n",
       "    <tr>\n",
       "      <th>is_missed_call</th>\n",
       "      <td>1.000000</td>\n",
       "      <td>0.045665</td>\n",
       "      <td>-0.210147</td>\n",
       "      <td>-0.146029</td>\n",
       "      <td>0.102397</td>\n",
       "    </tr>\n",
       "    <tr>\n",
       "      <th>calls_count</th>\n",
       "      <td>0.045665</td>\n",
       "      <td>1.000000</td>\n",
       "      <td>0.518765</td>\n",
       "      <td>0.679960</td>\n",
       "      <td>0.845679</td>\n",
       "    </tr>\n",
       "    <tr>\n",
       "      <th>call_duration</th>\n",
       "      <td>-0.210147</td>\n",
       "      <td>0.518765</td>\n",
       "      <td>1.000000</td>\n",
       "      <td>0.965401</td>\n",
       "      <td>0.442836</td>\n",
       "    </tr>\n",
       "    <tr>\n",
       "      <th>total_call_duration</th>\n",
       "      <td>-0.146029</td>\n",
       "      <td>0.679960</td>\n",
       "      <td>0.965401</td>\n",
       "      <td>1.000000</td>\n",
       "      <td>0.661320</td>\n",
       "    </tr>\n",
       "    <tr>\n",
       "      <th>time_wait</th>\n",
       "      <td>0.102397</td>\n",
       "      <td>0.845679</td>\n",
       "      <td>0.442836</td>\n",
       "      <td>0.661320</td>\n",
       "      <td>1.000000</td>\n",
       "    </tr>\n",
       "  </tbody>\n",
       "</table>\n",
       "</div>"
      ],
      "text/plain": [
       "                     is_missed_call  calls_count  call_duration  \\\n",
       "is_missed_call             1.000000     0.045665      -0.210147   \n",
       "calls_count                0.045665     1.000000       0.518765   \n",
       "call_duration             -0.210147     0.518765       1.000000   \n",
       "total_call_duration       -0.146029     0.679960       0.965401   \n",
       "time_wait                  0.102397     0.845679       0.442836   \n",
       "\n",
       "                     total_call_duration  time_wait  \n",
       "is_missed_call                 -0.146029   0.102397  \n",
       "calls_count                     0.679960   0.845679  \n",
       "call_duration                   0.965401   0.442836  \n",
       "total_call_duration             1.000000   0.661320  \n",
       "time_wait                       0.661320   1.000000  "
      ]
     },
     "execution_count": 48,
     "metadata": {},
     "output_type": "execute_result"
    }
   ],
   "source": [
    "telecom.corr()"
   ]
  },
  {
   "cell_type": "markdown",
   "metadata": {},
   "source": [
    "* In general, we see results that we could have assumed to be. No surprises.\n"
   ]
  },
  {
   "cell_type": "markdown",
   "metadata": {},
   "source": [
    "<b> EDA part conclusion : </b>\n",
    "\n",
    "* we dropped data above 99th percentile on the duration call colu,mn = 392 rows.\n",
    "* The 99th percentile of response time is above 1 hour, but for the most part they are outgoing calls, it will not interfere  our test so we will not delete these rows.\n",
    "* We dropped the rows of out calls with wain_time 0\n",
    "* Correlarion: with the help of the correlation we saw the columns with a very strong relationship such as call duration and number of calls or waiting time for answer and number of calls. It is interesting to examine in depth the reason for these connections. Conversely, low correlation can be seen between columns for example: call duration and is_missed_call."
   ]
  },
  {
   "cell_type": "markdown",
   "metadata": {},
   "source": [
    "After all the changes lets look again how the data distributed:"
   ]
  },
  {
   "cell_type": "code",
   "execution_count": 49,
   "metadata": {},
   "outputs": [
    {
     "data": {
      "text/html": [
       "<div>\n",
       "<style scoped>\n",
       "    .dataframe tbody tr th:only-of-type {\n",
       "        vertical-align: middle;\n",
       "    }\n",
       "\n",
       "    .dataframe tbody tr th {\n",
       "        vertical-align: top;\n",
       "    }\n",
       "\n",
       "    .dataframe thead th {\n",
       "        text-align: right;\n",
       "    }\n",
       "</style>\n",
       "<table border=\"1\" class=\"dataframe\">\n",
       "  <thead>\n",
       "    <tr style=\"text-align: right;\">\n",
       "      <th></th>\n",
       "      <th>calls_count</th>\n",
       "      <th>call_duration</th>\n",
       "      <th>total_call_duration</th>\n",
       "      <th>time_wait</th>\n",
       "    </tr>\n",
       "  </thead>\n",
       "  <tbody>\n",
       "    <tr>\n",
       "      <th>count</th>\n",
       "      <td>40586.000000</td>\n",
       "      <td>40586.000000</td>\n",
       "      <td>40586.000000</td>\n",
       "      <td>40586.000000</td>\n",
       "    </tr>\n",
       "    <tr>\n",
       "      <th>mean</th>\n",
       "      <td>16.752427</td>\n",
       "      <td>972.627803</td>\n",
       "      <td>1282.586384</td>\n",
       "      <td>309.958582</td>\n",
       "    </tr>\n",
       "    <tr>\n",
       "      <th>std</th>\n",
       "      <td>56.186919</td>\n",
       "      <td>3216.050487</td>\n",
       "      <td>3844.160506</td>\n",
       "      <td>1118.038436</td>\n",
       "    </tr>\n",
       "    <tr>\n",
       "      <th>min</th>\n",
       "      <td>1.000000</td>\n",
       "      <td>0.000000</td>\n",
       "      <td>1.000000</td>\n",
       "      <td>0.000000</td>\n",
       "    </tr>\n",
       "    <tr>\n",
       "      <th>25%</th>\n",
       "      <td>2.000000</td>\n",
       "      <td>0.000000</td>\n",
       "      <td>75.000000</td>\n",
       "      <td>20.000000</td>\n",
       "    </tr>\n",
       "    <tr>\n",
       "      <th>50%</th>\n",
       "      <td>4.000000</td>\n",
       "      <td>117.000000</td>\n",
       "      <td>304.000000</td>\n",
       "      <td>63.000000</td>\n",
       "    </tr>\n",
       "    <tr>\n",
       "      <th>75%</th>\n",
       "      <td>14.000000</td>\n",
       "      <td>802.000000</td>\n",
       "      <td>1139.000000</td>\n",
       "      <td>225.000000</td>\n",
       "    </tr>\n",
       "    <tr>\n",
       "      <th>max</th>\n",
       "      <td>4817.000000</td>\n",
       "      <td>83560.000000</td>\n",
       "      <td>100139.000000</td>\n",
       "      <td>46474.000000</td>\n",
       "    </tr>\n",
       "  </tbody>\n",
       "</table>\n",
       "</div>"
      ],
      "text/plain": [
       "        calls_count  call_duration  total_call_duration     time_wait\n",
       "count  40586.000000   40586.000000         40586.000000  40586.000000\n",
       "mean      16.752427     972.627803          1282.586384    309.958582\n",
       "std       56.186919    3216.050487          3844.160506   1118.038436\n",
       "min        1.000000       0.000000             1.000000      0.000000\n",
       "25%        2.000000       0.000000            75.000000     20.000000\n",
       "50%        4.000000     117.000000           304.000000     63.000000\n",
       "75%       14.000000     802.000000          1139.000000    225.000000\n",
       "max     4817.000000   83560.000000        100139.000000  46474.000000"
      ]
     },
     "execution_count": 49,
     "metadata": {},
     "output_type": "execute_result"
    }
   ],
   "source": [
    "telecom.describe()"
   ]
  },
  {
   "cell_type": "markdown",
   "metadata": {},
   "source": [
    "# Step 3 - Identify ineffective operators   <a class=\"anchor\" id=\"chapter3\"></a>"
   ]
  },
  {
   "cell_type": "code",
   "execution_count": 50,
   "metadata": {},
   "outputs": [
    {
     "data": {
      "text/plain": [
       "1087"
      ]
     },
     "execution_count": 50,
     "metadata": {},
     "output_type": "execute_result"
    }
   ],
   "source": [
    "#number of operators\n",
    "telecom.operator_id.nunique()"
   ]
  },
  {
   "cell_type": "markdown",
   "metadata": {},
   "source": [
    "We will examine the weak operator for:\n",
    "* Which operator has the largest number of missed calls\n",
    "* Which operator has the longest waiting time."
   ]
  },
  {
   "cell_type": "markdown",
   "metadata": {},
   "source": [
    "## Number of calls and duration  <a class=\"anchor\" id=\"section_3_1\"></a> "
   ]
  },
  {
   "cell_type": "code",
   "execution_count": 51,
   "metadata": {},
   "outputs": [
    {
     "data": {
      "text/html": [
       "<div>\n",
       "<style scoped>\n",
       "    .dataframe tbody tr th:only-of-type {\n",
       "        vertical-align: middle;\n",
       "    }\n",
       "\n",
       "    .dataframe tbody tr th {\n",
       "        vertical-align: top;\n",
       "    }\n",
       "\n",
       "    .dataframe thead th {\n",
       "        text-align: right;\n",
       "    }\n",
       "</style>\n",
       "<table border=\"1\" class=\"dataframe\">\n",
       "  <thead>\n",
       "    <tr style=\"text-align: right;\">\n",
       "      <th></th>\n",
       "      <th>user_id</th>\n",
       "      <th>date</th>\n",
       "      <th>direction</th>\n",
       "      <th>internal</th>\n",
       "      <th>operator_id</th>\n",
       "      <th>is_missed_call</th>\n",
       "      <th>calls_count</th>\n",
       "      <th>call_duration</th>\n",
       "      <th>total_call_duration</th>\n",
       "      <th>time_wait</th>\n",
       "    </tr>\n",
       "  </thead>\n",
       "  <tbody>\n",
       "    <tr>\n",
       "      <th>1</th>\n",
       "      <td>166377</td>\n",
       "      <td>2019-08-05</td>\n",
       "      <td>out</td>\n",
       "      <td>True</td>\n",
       "      <td>880022.0</td>\n",
       "      <td>True</td>\n",
       "      <td>3</td>\n",
       "      <td>0</td>\n",
       "      <td>5</td>\n",
       "      <td>5</td>\n",
       "    </tr>\n",
       "    <tr>\n",
       "      <th>2</th>\n",
       "      <td>166377</td>\n",
       "      <td>2019-08-05</td>\n",
       "      <td>out</td>\n",
       "      <td>True</td>\n",
       "      <td>880020.0</td>\n",
       "      <td>True</td>\n",
       "      <td>1</td>\n",
       "      <td>0</td>\n",
       "      <td>1</td>\n",
       "      <td>1</td>\n",
       "    </tr>\n",
       "    <tr>\n",
       "      <th>3</th>\n",
       "      <td>166377</td>\n",
       "      <td>2019-08-05</td>\n",
       "      <td>out</td>\n",
       "      <td>True</td>\n",
       "      <td>880020.0</td>\n",
       "      <td>False</td>\n",
       "      <td>1</td>\n",
       "      <td>10</td>\n",
       "      <td>18</td>\n",
       "      <td>8</td>\n",
       "    </tr>\n",
       "    <tr>\n",
       "      <th>4</th>\n",
       "      <td>166377</td>\n",
       "      <td>2019-08-05</td>\n",
       "      <td>out</td>\n",
       "      <td>False</td>\n",
       "      <td>880022.0</td>\n",
       "      <td>True</td>\n",
       "      <td>3</td>\n",
       "      <td>0</td>\n",
       "      <td>25</td>\n",
       "      <td>25</td>\n",
       "    </tr>\n",
       "    <tr>\n",
       "      <th>5</th>\n",
       "      <td>166377</td>\n",
       "      <td>2019-08-05</td>\n",
       "      <td>out</td>\n",
       "      <td>False</td>\n",
       "      <td>880020.0</td>\n",
       "      <td>False</td>\n",
       "      <td>2</td>\n",
       "      <td>3</td>\n",
       "      <td>29</td>\n",
       "      <td>26</td>\n",
       "    </tr>\n",
       "  </tbody>\n",
       "</table>\n",
       "</div>"
      ],
      "text/plain": [
       "  user_id        date direction internal operator_id  is_missed_call  \\\n",
       "1  166377  2019-08-05       out     True    880022.0            True   \n",
       "2  166377  2019-08-05       out     True    880020.0            True   \n",
       "3  166377  2019-08-05       out     True    880020.0           False   \n",
       "4  166377  2019-08-05       out    False    880022.0            True   \n",
       "5  166377  2019-08-05       out    False    880020.0           False   \n",
       "\n",
       "   calls_count  call_duration  total_call_duration  time_wait  \n",
       "1            3              0                    5          5  \n",
       "2            1              0                    1          1  \n",
       "3            1             10                   18          8  \n",
       "4            3              0                   25         25  \n",
       "5            2              3                   29         26  "
      ]
     },
     "execution_count": 51,
     "metadata": {},
     "output_type": "execute_result"
    }
   ],
   "source": [
    "telecom.head()"
   ]
  },
  {
   "cell_type": "markdown",
   "metadata": {},
   "source": [
    "###  average duration call for an operator <a class=\"anchor\" id=\"section_3_1_1\"></a> "
   ]
  },
  {
   "cell_type": "markdown",
   "metadata": {},
   "source": [
    "We want to find the operator with the longest average call time. Operator with high score is not effective."
   ]
  },
  {
   "cell_type": "code",
   "execution_count": 52,
   "metadata": {},
   "outputs": [
    {
     "data": {
      "text/html": [
       "<div>\n",
       "<style scoped>\n",
       "    .dataframe tbody tr th:only-of-type {\n",
       "        vertical-align: middle;\n",
       "    }\n",
       "\n",
       "    .dataframe tbody tr th {\n",
       "        vertical-align: top;\n",
       "    }\n",
       "\n",
       "    .dataframe thead th {\n",
       "        text-align: right;\n",
       "    }\n",
       "</style>\n",
       "<table border=\"1\" class=\"dataframe\">\n",
       "  <thead>\n",
       "    <tr style=\"text-align: right;\">\n",
       "      <th></th>\n",
       "      <th>calls_count</th>\n",
       "      <th>call_duration</th>\n",
       "    </tr>\n",
       "    <tr>\n",
       "      <th>operator_id</th>\n",
       "      <th></th>\n",
       "      <th></th>\n",
       "    </tr>\n",
       "  </thead>\n",
       "  <tbody>\n",
       "    <tr>\n",
       "      <th>879896.0</th>\n",
       "      <td>621</td>\n",
       "      <td>58246</td>\n",
       "    </tr>\n",
       "    <tr>\n",
       "      <th>879898.0</th>\n",
       "      <td>4849</td>\n",
       "      <td>251038</td>\n",
       "    </tr>\n",
       "    <tr>\n",
       "      <th>880020.0</th>\n",
       "      <td>16</td>\n",
       "      <td>1946</td>\n",
       "    </tr>\n",
       "    <tr>\n",
       "      <th>880022.0</th>\n",
       "      <td>84</td>\n",
       "      <td>14635</td>\n",
       "    </tr>\n",
       "    <tr>\n",
       "      <th>880026.0</th>\n",
       "      <td>1560</td>\n",
       "      <td>151739</td>\n",
       "    </tr>\n",
       "  </tbody>\n",
       "</table>\n",
       "</div>"
      ],
      "text/plain": [
       "             calls_count  call_duration\n",
       "operator_id                            \n",
       "879896.0             621          58246\n",
       "879898.0            4849         251038\n",
       "880020.0              16           1946\n",
       "880022.0              84          14635\n",
       "880026.0            1560         151739"
      ]
     },
     "execution_count": 52,
     "metadata": {},
     "output_type": "execute_result"
    }
   ],
   "source": [
    "# total number of calls and duration \n",
    "sum_operator = telecom[(telecom['is_missed_call']==False) & (telecom['direction']=='out')].groupby(['operator_id']).agg({'calls_count':'sum', 'call_duration':'sum'})\n",
    "sum_operator.head()"
   ]
  },
  {
   "cell_type": "code",
   "execution_count": 53,
   "metadata": {},
   "outputs": [],
   "source": [
    "#average duration of call for an operator = total min / total calls\n",
    "sum_operator['min_per_call'] = sum_operator['call_duration'] / sum_operator['calls_count'] / 60\n"
   ]
  },
  {
   "cell_type": "code",
   "execution_count": 54,
   "metadata": {},
   "outputs": [
    {
     "data": {
      "text/html": [
       "<div>\n",
       "<style scoped>\n",
       "    .dataframe tbody tr th:only-of-type {\n",
       "        vertical-align: middle;\n",
       "    }\n",
       "\n",
       "    .dataframe tbody tr th {\n",
       "        vertical-align: top;\n",
       "    }\n",
       "\n",
       "    .dataframe thead th {\n",
       "        text-align: right;\n",
       "    }\n",
       "</style>\n",
       "<table border=\"1\" class=\"dataframe\">\n",
       "  <thead>\n",
       "    <tr style=\"text-align: right;\">\n",
       "      <th></th>\n",
       "      <th>calls_count</th>\n",
       "      <th>call_duration</th>\n",
       "      <th>min_per_call</th>\n",
       "    </tr>\n",
       "  </thead>\n",
       "  <tbody>\n",
       "    <tr>\n",
       "      <th>count</th>\n",
       "      <td>1092.000000</td>\n",
       "      <td>1.092000e+03</td>\n",
       "      <td>814.000000</td>\n",
       "    </tr>\n",
       "    <tr>\n",
       "      <th>mean</th>\n",
       "      <td>289.681319</td>\n",
       "      <td>2.743342e+04</td>\n",
       "      <td>1.775798</td>\n",
       "    </tr>\n",
       "    <tr>\n",
       "      <th>std</th>\n",
       "      <td>1290.452442</td>\n",
       "      <td>1.237024e+05</td>\n",
       "      <td>1.684763</td>\n",
       "    </tr>\n",
       "    <tr>\n",
       "      <th>min</th>\n",
       "      <td>0.000000</td>\n",
       "      <td>0.000000e+00</td>\n",
       "      <td>0.016667</td>\n",
       "    </tr>\n",
       "    <tr>\n",
       "      <th>25%</th>\n",
       "      <td>0.000000</td>\n",
       "      <td>0.000000e+00</td>\n",
       "      <td>0.824802</td>\n",
       "    </tr>\n",
       "    <tr>\n",
       "      <th>50%</th>\n",
       "      <td>20.000000</td>\n",
       "      <td>1.923000e+03</td>\n",
       "      <td>1.414881</td>\n",
       "    </tr>\n",
       "    <tr>\n",
       "      <th>75%</th>\n",
       "      <td>222.750000</td>\n",
       "      <td>2.145850e+04</td>\n",
       "      <td>2.079987</td>\n",
       "    </tr>\n",
       "    <tr>\n",
       "      <th>max</th>\n",
       "      <td>35196.000000</td>\n",
       "      <td>3.261303e+06</td>\n",
       "      <td>21.766667</td>\n",
       "    </tr>\n",
       "  </tbody>\n",
       "</table>\n",
       "</div>"
      ],
      "text/plain": [
       "        calls_count  call_duration  min_per_call\n",
       "count   1092.000000   1.092000e+03    814.000000\n",
       "mean     289.681319   2.743342e+04      1.775798\n",
       "std     1290.452442   1.237024e+05      1.684763\n",
       "min        0.000000   0.000000e+00      0.016667\n",
       "25%        0.000000   0.000000e+00      0.824802\n",
       "50%       20.000000   1.923000e+03      1.414881\n",
       "75%      222.750000   2.145850e+04      2.079987\n",
       "max    35196.000000   3.261303e+06     21.766667"
      ]
     },
     "execution_count": 54,
     "metadata": {},
     "output_type": "execute_result"
    }
   ],
   "source": [
    "sum_operator.describe()"
   ]
  },
  {
   "cell_type": "markdown",
   "metadata": {},
   "source": [
    "Average min per call is 1.7 minutes. \n"
   ]
  },
  {
   "cell_type": "code",
   "execution_count": 55,
   "metadata": {},
   "outputs": [
    {
     "data": {
      "text/html": [
       "<div>\n",
       "<style scoped>\n",
       "    .dataframe tbody tr th:only-of-type {\n",
       "        vertical-align: middle;\n",
       "    }\n",
       "\n",
       "    .dataframe tbody tr th {\n",
       "        vertical-align: top;\n",
       "    }\n",
       "\n",
       "    .dataframe thead th {\n",
       "        text-align: right;\n",
       "    }\n",
       "</style>\n",
       "<table border=\"1\" class=\"dataframe\">\n",
       "  <thead>\n",
       "    <tr style=\"text-align: right;\">\n",
       "      <th></th>\n",
       "      <th>operator_id</th>\n",
       "      <th>calls_count</th>\n",
       "      <th>call_duration</th>\n",
       "      <th>min_per_call</th>\n",
       "    </tr>\n",
       "  </thead>\n",
       "  <tbody>\n",
       "    <tr>\n",
       "      <th>0</th>\n",
       "      <td>891192.0</td>\n",
       "      <td>1</td>\n",
       "      <td>1306</td>\n",
       "      <td>21.766667</td>\n",
       "    </tr>\n",
       "    <tr>\n",
       "      <th>1</th>\n",
       "      <td>892534.0</td>\n",
       "      <td>5</td>\n",
       "      <td>3645</td>\n",
       "      <td>12.150000</td>\n",
       "    </tr>\n",
       "    <tr>\n",
       "      <th>2</th>\n",
       "      <td>930326.0</td>\n",
       "      <td>1</td>\n",
       "      <td>683</td>\n",
       "      <td>11.383333</td>\n",
       "    </tr>\n",
       "    <tr>\n",
       "      <th>3</th>\n",
       "      <td>891154.0</td>\n",
       "      <td>371</td>\n",
       "      <td>243908</td>\n",
       "      <td>10.957233</td>\n",
       "    </tr>\n",
       "    <tr>\n",
       "      <th>4</th>\n",
       "      <td>917890.0</td>\n",
       "      <td>1</td>\n",
       "      <td>647</td>\n",
       "      <td>10.783333</td>\n",
       "    </tr>\n",
       "    <tr>\n",
       "      <th>5</th>\n",
       "      <td>928886.0</td>\n",
       "      <td>392</td>\n",
       "      <td>221611</td>\n",
       "      <td>9.422236</td>\n",
       "    </tr>\n",
       "    <tr>\n",
       "      <th>6</th>\n",
       "      <td>918390.0</td>\n",
       "      <td>215</td>\n",
       "      <td>118018</td>\n",
       "      <td>9.148682</td>\n",
       "    </tr>\n",
       "    <tr>\n",
       "      <th>7</th>\n",
       "      <td>891158.0</td>\n",
       "      <td>180</td>\n",
       "      <td>96481</td>\n",
       "      <td>8.933426</td>\n",
       "    </tr>\n",
       "    <tr>\n",
       "      <th>8</th>\n",
       "      <td>950444.0</td>\n",
       "      <td>49</td>\n",
       "      <td>25126</td>\n",
       "      <td>8.546259</td>\n",
       "    </tr>\n",
       "    <tr>\n",
       "      <th>9</th>\n",
       "      <td>930020.0</td>\n",
       "      <td>367</td>\n",
       "      <td>188142</td>\n",
       "      <td>8.544142</td>\n",
       "    </tr>\n",
       "  </tbody>\n",
       "</table>\n",
       "</div>"
      ],
      "text/plain": [
       "  operator_id  calls_count  call_duration  min_per_call\n",
       "0    891192.0            1           1306     21.766667\n",
       "1    892534.0            5           3645     12.150000\n",
       "2    930326.0            1            683     11.383333\n",
       "3    891154.0          371         243908     10.957233\n",
       "4    917890.0            1            647     10.783333\n",
       "5    928886.0          392         221611      9.422236\n",
       "6    918390.0          215         118018      9.148682\n",
       "7    891158.0          180          96481      8.933426\n",
       "8    950444.0           49          25126      8.546259\n",
       "9    930020.0          367         188142      8.544142"
      ]
     },
     "execution_count": 55,
     "metadata": {},
     "output_type": "execute_result"
    }
   ],
   "source": [
    "highest_call = sum_operator.sort_values(by='min_per_call', ascending=False).reset_index().head(10)\n",
    "highest_call"
   ]
  },
  {
   "cell_type": "code",
   "execution_count": 56,
   "metadata": {},
   "outputs": [
    {
     "data": {
      "text/plain": [
       "Text(0, 0.5, 'min per call')"
      ]
     },
     "execution_count": 56,
     "metadata": {},
     "output_type": "execute_result"
    },
    {
     "data": {
      "image/png": "[encoded data removed]",
      "text/plain": [
       "<Figure size 432x288 with 1 Axes>"
      ]
     },
     "metadata": {
      "needs_background": "light"
     },
     "output_type": "display_data"
    }
   ],
   "source": [
    "(\n",
    "    highest_call\n",
    "    .plot(x=\"operator_id\", y=\"min_per_call\", \n",
    "          kind='bar', color='teal', title='operators longest average call duration')\n",
    "    \n",
    ")\n",
    "plt.ylabel('min per call')"
   ]
  },
  {
   "cell_type": "markdown",
   "metadata": {},
   "source": [
    "* The chart displays top 10 operators with the longest average call duration.\n",
    "."
   ]
  },
  {
   "cell_type": "markdown",
   "metadata": {},
   "source": [
    "## missed calls : <a class=\"anchor\" id=\"section_3_2\"></a> "
   ]
  },
  {
   "cell_type": "code",
   "execution_count": 57,
   "metadata": {},
   "outputs": [
    {
     "data": {
      "text/html": [
       "<div>\n",
       "<style scoped>\n",
       "    .dataframe tbody tr th:only-of-type {\n",
       "        vertical-align: middle;\n",
       "    }\n",
       "\n",
       "    .dataframe tbody tr th {\n",
       "        vertical-align: top;\n",
       "    }\n",
       "\n",
       "    .dataframe thead th {\n",
       "        text-align: right;\n",
       "    }\n",
       "</style>\n",
       "<table border=\"1\" class=\"dataframe\">\n",
       "  <thead>\n",
       "    <tr style=\"text-align: right;\">\n",
       "      <th></th>\n",
       "      <th>user_id</th>\n",
       "      <th>date</th>\n",
       "      <th>direction</th>\n",
       "      <th>internal</th>\n",
       "      <th>operator_id</th>\n",
       "      <th>is_missed_call</th>\n",
       "      <th>calls_count</th>\n",
       "      <th>call_duration</th>\n",
       "      <th>total_call_duration</th>\n",
       "      <th>time_wait</th>\n",
       "    </tr>\n",
       "  </thead>\n",
       "  <tbody>\n",
       "    <tr>\n",
       "      <th>50809</th>\n",
       "      <td>168252</td>\n",
       "      <td>2019-11-25</td>\n",
       "      <td>in</td>\n",
       "      <td>False</td>\n",
       "      <td>940630.0</td>\n",
       "      <td>True</td>\n",
       "      <td>2</td>\n",
       "      <td>741</td>\n",
       "      <td>747</td>\n",
       "      <td>6</td>\n",
       "    </tr>\n",
       "    <tr>\n",
       "      <th>50140</th>\n",
       "      <td>168252</td>\n",
       "      <td>2019-10-28</td>\n",
       "      <td>in</td>\n",
       "      <td>False</td>\n",
       "      <td>940658.0</td>\n",
       "      <td>True</td>\n",
       "      <td>3</td>\n",
       "      <td>670</td>\n",
       "      <td>681</td>\n",
       "      <td>11</td>\n",
       "    </tr>\n",
       "    <tr>\n",
       "      <th>50433</th>\n",
       "      <td>168252</td>\n",
       "      <td>2019-11-12</td>\n",
       "      <td>in</td>\n",
       "      <td>False</td>\n",
       "      <td>940588.0</td>\n",
       "      <td>True</td>\n",
       "      <td>3</td>\n",
       "      <td>638</td>\n",
       "      <td>651</td>\n",
       "      <td>13</td>\n",
       "    </tr>\n",
       "    <tr>\n",
       "      <th>50144</th>\n",
       "      <td>168252</td>\n",
       "      <td>2019-10-28</td>\n",
       "      <td>in</td>\n",
       "      <td>False</td>\n",
       "      <td>940630.0</td>\n",
       "      <td>True</td>\n",
       "      <td>4</td>\n",
       "      <td>636</td>\n",
       "      <td>652</td>\n",
       "      <td>16</td>\n",
       "    </tr>\n",
       "    <tr>\n",
       "      <th>50507</th>\n",
       "      <td>168252</td>\n",
       "      <td>2019-11-14</td>\n",
       "      <td>in</td>\n",
       "      <td>False</td>\n",
       "      <td>940588.0</td>\n",
       "      <td>True</td>\n",
       "      <td>4</td>\n",
       "      <td>601</td>\n",
       "      <td>624</td>\n",
       "      <td>23</td>\n",
       "    </tr>\n",
       "    <tr>\n",
       "      <th>...</th>\n",
       "      <td>...</td>\n",
       "      <td>...</td>\n",
       "      <td>...</td>\n",
       "      <td>...</td>\n",
       "      <td>...</td>\n",
       "      <td>...</td>\n",
       "      <td>...</td>\n",
       "      <td>...</td>\n",
       "      <td>...</td>\n",
       "      <td>...</td>\n",
       "    </tr>\n",
       "    <tr>\n",
       "      <th>37530</th>\n",
       "      <td>167626</td>\n",
       "      <td>2019-10-15</td>\n",
       "      <td>in</td>\n",
       "      <td>False</td>\n",
       "      <td>919206.0</td>\n",
       "      <td>True</td>\n",
       "      <td>1</td>\n",
       "      <td>1</td>\n",
       "      <td>12</td>\n",
       "      <td>11</td>\n",
       "    </tr>\n",
       "    <tr>\n",
       "      <th>37310</th>\n",
       "      <td>167626</td>\n",
       "      <td>2019-10-11</td>\n",
       "      <td>in</td>\n",
       "      <td>False</td>\n",
       "      <td>919164.0</td>\n",
       "      <td>True</td>\n",
       "      <td>1</td>\n",
       "      <td>1</td>\n",
       "      <td>10</td>\n",
       "      <td>9</td>\n",
       "    </tr>\n",
       "    <tr>\n",
       "      <th>37246</th>\n",
       "      <td>167626</td>\n",
       "      <td>2019-10-10</td>\n",
       "      <td>in</td>\n",
       "      <td>False</td>\n",
       "      <td>919166.0</td>\n",
       "      <td>True</td>\n",
       "      <td>1</td>\n",
       "      <td>1</td>\n",
       "      <td>4</td>\n",
       "      <td>3</td>\n",
       "    </tr>\n",
       "    <tr>\n",
       "      <th>36989</th>\n",
       "      <td>167626</td>\n",
       "      <td>2019-10-06</td>\n",
       "      <td>in</td>\n",
       "      <td>False</td>\n",
       "      <td>919204.0</td>\n",
       "      <td>True</td>\n",
       "      <td>1</td>\n",
       "      <td>1</td>\n",
       "      <td>5</td>\n",
       "      <td>4</td>\n",
       "    </tr>\n",
       "    <tr>\n",
       "      <th>53209</th>\n",
       "      <td>168412</td>\n",
       "      <td>2019-11-05</td>\n",
       "      <td>in</td>\n",
       "      <td>False</td>\n",
       "      <td>953464.0</td>\n",
       "      <td>True</td>\n",
       "      <td>1</td>\n",
       "      <td>1</td>\n",
       "      <td>7</td>\n",
       "      <td>6</td>\n",
       "    </tr>\n",
       "  </tbody>\n",
       "</table>\n",
       "<p>295 rows × 10 columns</p>\n",
       "</div>"
      ],
      "text/plain": [
       "      user_id        date direction internal operator_id  is_missed_call  \\\n",
       "50809  168252  2019-11-25        in    False    940630.0            True   \n",
       "50140  168252  2019-10-28        in    False    940658.0            True   \n",
       "50433  168252  2019-11-12        in    False    940588.0            True   \n",
       "50144  168252  2019-10-28        in    False    940630.0            True   \n",
       "50507  168252  2019-11-14        in    False    940588.0            True   \n",
       "...       ...         ...       ...      ...         ...             ...   \n",
       "37530  167626  2019-10-15        in    False    919206.0            True   \n",
       "37310  167626  2019-10-11        in    False    919164.0            True   \n",
       "37246  167626  2019-10-10        in    False    919166.0            True   \n",
       "36989  167626  2019-10-06        in    False    919204.0            True   \n",
       "53209  168412  2019-11-05        in    False    953464.0            True   \n",
       "\n",
       "       calls_count  call_duration  total_call_duration  time_wait  \n",
       "50809            2            741                  747          6  \n",
       "50140            3            670                  681         11  \n",
       "50433            3            638                  651         13  \n",
       "50144            4            636                  652         16  \n",
       "50507            4            601                  624         23  \n",
       "...            ...            ...                  ...        ...  \n",
       "37530            1              1                   12         11  \n",
       "37310            1              1                   10          9  \n",
       "37246            1              1                    4          3  \n",
       "36989            1              1                    5          4  \n",
       "53209            1              1                    7          6  \n",
       "\n",
       "[295 rows x 10 columns]"
      ]
     },
     "execution_count": 57,
     "metadata": {},
     "output_type": "execute_result"
    }
   ],
   "source": [
    "#cheking for error in the data : \n",
    "telecom[(telecom['is_missed_call']==True) & (telecom['call_duration']>0)].sort_values(by='call_duration', ascending=False)"
   ]
  },
  {
   "cell_type": "code",
   "execution_count": 58,
   "metadata": {},
   "outputs": [
    {
     "data": {
      "text/html": [
       "<div>\n",
       "<style scoped>\n",
       "    .dataframe tbody tr th:only-of-type {\n",
       "        vertical-align: middle;\n",
       "    }\n",
       "\n",
       "    .dataframe tbody tr th {\n",
       "        vertical-align: top;\n",
       "    }\n",
       "\n",
       "    .dataframe thead th {\n",
       "        text-align: right;\n",
       "    }\n",
       "</style>\n",
       "<table border=\"1\" class=\"dataframe\">\n",
       "  <thead>\n",
       "    <tr style=\"text-align: right;\">\n",
       "      <th></th>\n",
       "      <th>user_id</th>\n",
       "      <th>date</th>\n",
       "      <th>direction</th>\n",
       "      <th>internal</th>\n",
       "      <th>operator_id</th>\n",
       "      <th>is_missed_call</th>\n",
       "      <th>calls_count</th>\n",
       "      <th>call_duration</th>\n",
       "      <th>total_call_duration</th>\n",
       "      <th>time_wait</th>\n",
       "    </tr>\n",
       "  </thead>\n",
       "  <tbody>\n",
       "    <tr>\n",
       "      <th>1552</th>\n",
       "      <td>166405</td>\n",
       "      <td>2019-11-16</td>\n",
       "      <td>out</td>\n",
       "      <td>False</td>\n",
       "      <td>902532.0</td>\n",
       "      <td>False</td>\n",
       "      <td>1</td>\n",
       "      <td>0</td>\n",
       "      <td>27</td>\n",
       "      <td>27</td>\n",
       "    </tr>\n",
       "    <tr>\n",
       "      <th>2931</th>\n",
       "      <td>166485</td>\n",
       "      <td>2019-09-03</td>\n",
       "      <td>out</td>\n",
       "      <td>True</td>\n",
       "      <td>887276.0</td>\n",
       "      <td>False</td>\n",
       "      <td>1</td>\n",
       "      <td>0</td>\n",
       "      <td>4</td>\n",
       "      <td>4</td>\n",
       "    </tr>\n",
       "    <tr>\n",
       "      <th>10254</th>\n",
       "      <td>166678</td>\n",
       "      <td>2019-09-04</td>\n",
       "      <td>out</td>\n",
       "      <td>True</td>\n",
       "      <td>888868.0</td>\n",
       "      <td>False</td>\n",
       "      <td>1</td>\n",
       "      <td>0</td>\n",
       "      <td>5</td>\n",
       "      <td>5</td>\n",
       "    </tr>\n",
       "    <tr>\n",
       "      <th>14854</th>\n",
       "      <td>166874</td>\n",
       "      <td>2019-10-05</td>\n",
       "      <td>out</td>\n",
       "      <td>False</td>\n",
       "      <td>893700.0</td>\n",
       "      <td>False</td>\n",
       "      <td>2</td>\n",
       "      <td>0</td>\n",
       "      <td>83</td>\n",
       "      <td>83</td>\n",
       "    </tr>\n",
       "    <tr>\n",
       "      <th>21558</th>\n",
       "      <td>167035</td>\n",
       "      <td>2019-10-25</td>\n",
       "      <td>out</td>\n",
       "      <td>False</td>\n",
       "      <td>923528.0</td>\n",
       "      <td>False</td>\n",
       "      <td>1</td>\n",
       "      <td>0</td>\n",
       "      <td>9</td>\n",
       "      <td>9</td>\n",
       "    </tr>\n",
       "    <tr>\n",
       "      <th>22568</th>\n",
       "      <td>167061</td>\n",
       "      <td>2019-09-01</td>\n",
       "      <td>out</td>\n",
       "      <td>True</td>\n",
       "      <td>901038.0</td>\n",
       "      <td>False</td>\n",
       "      <td>1</td>\n",
       "      <td>0</td>\n",
       "      <td>7</td>\n",
       "      <td>7</td>\n",
       "    </tr>\n",
       "    <tr>\n",
       "      <th>22655</th>\n",
       "      <td>167071</td>\n",
       "      <td>2019-09-24</td>\n",
       "      <td>out</td>\n",
       "      <td>False</td>\n",
       "      <td>913942.0</td>\n",
       "      <td>False</td>\n",
       "      <td>1</td>\n",
       "      <td>0</td>\n",
       "      <td>23</td>\n",
       "      <td>23</td>\n",
       "    </tr>\n",
       "    <tr>\n",
       "      <th>27829</th>\n",
       "      <td>167176</td>\n",
       "      <td>2019-10-18</td>\n",
       "      <td>out</td>\n",
       "      <td>True</td>\n",
       "      <td>907964.0</td>\n",
       "      <td>False</td>\n",
       "      <td>1</td>\n",
       "      <td>0</td>\n",
       "      <td>3</td>\n",
       "      <td>3</td>\n",
       "    </tr>\n",
       "    <tr>\n",
       "      <th>27943</th>\n",
       "      <td>167176</td>\n",
       "      <td>2019-10-30</td>\n",
       "      <td>out</td>\n",
       "      <td>True</td>\n",
       "      <td>907952.0</td>\n",
       "      <td>False</td>\n",
       "      <td>1</td>\n",
       "      <td>0</td>\n",
       "      <td>2</td>\n",
       "      <td>2</td>\n",
       "    </tr>\n",
       "    <tr>\n",
       "      <th>28967</th>\n",
       "      <td>167189</td>\n",
       "      <td>2019-10-06</td>\n",
       "      <td>out</td>\n",
       "      <td>False</td>\n",
       "      <td>906070.0</td>\n",
       "      <td>False</td>\n",
       "      <td>1</td>\n",
       "      <td>0</td>\n",
       "      <td>1</td>\n",
       "      <td>1</td>\n",
       "    </tr>\n",
       "    <tr>\n",
       "      <th>35286</th>\n",
       "      <td>167532</td>\n",
       "      <td>2019-09-24</td>\n",
       "      <td>out</td>\n",
       "      <td>True</td>\n",
       "      <td>917850.0</td>\n",
       "      <td>False</td>\n",
       "      <td>1</td>\n",
       "      <td>0</td>\n",
       "      <td>18</td>\n",
       "      <td>18</td>\n",
       "    </tr>\n",
       "    <tr>\n",
       "      <th>36047</th>\n",
       "      <td>167580</td>\n",
       "      <td>2019-10-17</td>\n",
       "      <td>out</td>\n",
       "      <td>False</td>\n",
       "      <td>937368.0</td>\n",
       "      <td>False</td>\n",
       "      <td>1</td>\n",
       "      <td>0</td>\n",
       "      <td>12</td>\n",
       "      <td>12</td>\n",
       "    </tr>\n",
       "    <tr>\n",
       "      <th>41306</th>\n",
       "      <td>167829</td>\n",
       "      <td>2019-11-25</td>\n",
       "      <td>out</td>\n",
       "      <td>True</td>\n",
       "      <td>969272.0</td>\n",
       "      <td>False</td>\n",
       "      <td>1</td>\n",
       "      <td>0</td>\n",
       "      <td>4</td>\n",
       "      <td>4</td>\n",
       "    </tr>\n",
       "    <tr>\n",
       "      <th>51825</th>\n",
       "      <td>168336</td>\n",
       "      <td>2019-11-26</td>\n",
       "      <td>out</td>\n",
       "      <td>True</td>\n",
       "      <td>948756.0</td>\n",
       "      <td>False</td>\n",
       "      <td>1</td>\n",
       "      <td>0</td>\n",
       "      <td>5</td>\n",
       "      <td>5</td>\n",
       "    </tr>\n",
       "    <tr>\n",
       "      <th>53896</th>\n",
       "      <td>168606</td>\n",
       "      <td>2019-11-10</td>\n",
       "      <td>out</td>\n",
       "      <td>True</td>\n",
       "      <td>957922.0</td>\n",
       "      <td>False</td>\n",
       "      <td>1</td>\n",
       "      <td>0</td>\n",
       "      <td>25</td>\n",
       "      <td>25</td>\n",
       "    </tr>\n",
       "  </tbody>\n",
       "</table>\n",
       "</div>"
      ],
      "text/plain": [
       "      user_id        date direction internal operator_id  is_missed_call  \\\n",
       "1552   166405  2019-11-16       out    False    902532.0           False   \n",
       "2931   166485  2019-09-03       out     True    887276.0           False   \n",
       "10254  166678  2019-09-04       out     True    888868.0           False   \n",
       "14854  166874  2019-10-05       out    False    893700.0           False   \n",
       "21558  167035  2019-10-25       out    False    923528.0           False   \n",
       "22568  167061  2019-09-01       out     True    901038.0           False   \n",
       "22655  167071  2019-09-24       out    False    913942.0           False   \n",
       "27829  167176  2019-10-18       out     True    907964.0           False   \n",
       "27943  167176  2019-10-30       out     True    907952.0           False   \n",
       "28967  167189  2019-10-06       out    False    906070.0           False   \n",
       "35286  167532  2019-09-24       out     True    917850.0           False   \n",
       "36047  167580  2019-10-17       out    False    937368.0           False   \n",
       "41306  167829  2019-11-25       out     True    969272.0           False   \n",
       "51825  168336  2019-11-26       out     True    948756.0           False   \n",
       "53896  168606  2019-11-10       out     True    957922.0           False   \n",
       "\n",
       "       calls_count  call_duration  total_call_duration  time_wait  \n",
       "1552             1              0                   27         27  \n",
       "2931             1              0                    4          4  \n",
       "10254            1              0                    5          5  \n",
       "14854            2              0                   83         83  \n",
       "21558            1              0                    9          9  \n",
       "22568            1              0                    7          7  \n",
       "22655            1              0                   23         23  \n",
       "27829            1              0                    3          3  \n",
       "27943            1              0                    2          2  \n",
       "28967            1              0                    1          1  \n",
       "35286            1              0                   18         18  \n",
       "36047            1              0                   12         12  \n",
       "41306            1              0                    4          4  \n",
       "51825            1              0                    5          5  \n",
       "53896            1              0                   25         25  "
      ]
     },
     "execution_count": 58,
     "metadata": {},
     "output_type": "execute_result"
    }
   ],
   "source": [
    "telecom[(telecom['is_missed_call']==False) & (telecom['call_duration']==0)]"
   ]
  },
  {
   "cell_type": "markdown",
   "metadata": {},
   "source": [
    "* There are missed calls with a duration time above 0 . It isn't make sense. We will not change anything-we will trust this information because maybe it is something to do with a voice mail... \n",
    "* There are not misseed calls but with duration of 0 sec. We will not change it too because its only 15 rows."
   ]
  },
  {
   "cell_type": "markdown",
   "metadata": {},
   "source": [
    "### total number of missing calls for each operator  <a class=\"anchor\" id=\"section_3_2_1\"></a> "
   ]
  },
  {
   "cell_type": "code",
   "execution_count": 59,
   "metadata": {},
   "outputs": [
    {
     "data": {
      "text/plain": [
       "684"
      ]
     },
     "execution_count": 59,
     "metadata": {},
     "output_type": "execute_result"
    }
   ],
   "source": [
    "telecom.query('is_missed_call==True and direction==\"in\"').shape[0]"
   ]
  },
  {
   "cell_type": "code",
   "execution_count": 60,
   "metadata": {},
   "outputs": [],
   "source": [
    "# number of incoming missing calls by operator\n",
    "missing_calls_mean = (telecom.query('is_missed_call==True and direction==\"in\"')\n",
    "                 .groupby(['operator_id'])['calls_count'].mean().reset_index()\n",
    "                ) \n",
    "missing_calls_mean = missing_calls_mean[missing_calls_mean['calls_count']>0]\n",
    "missing_calls_mean.columns = ['operator_id', 'avg_calls_missed']"
   ]
  },
  {
   "cell_type": "code",
   "execution_count": 61,
   "metadata": {},
   "outputs": [
    {
     "data": {
      "text/html": [
       "<div>\n",
       "<style scoped>\n",
       "    .dataframe tbody tr th:only-of-type {\n",
       "        vertical-align: middle;\n",
       "    }\n",
       "\n",
       "    .dataframe tbody tr th {\n",
       "        vertical-align: top;\n",
       "    }\n",
       "\n",
       "    .dataframe thead th {\n",
       "        text-align: right;\n",
       "    }\n",
       "</style>\n",
       "<table border=\"1\" class=\"dataframe\">\n",
       "  <thead>\n",
       "    <tr style=\"text-align: right;\">\n",
       "      <th></th>\n",
       "      <th>operator_id</th>\n",
       "      <th>avg_calls_missed</th>\n",
       "    </tr>\n",
       "  </thead>\n",
       "  <tbody>\n",
       "    <tr>\n",
       "      <th>1021</th>\n",
       "      <td>959312.0</td>\n",
       "      <td>7.0</td>\n",
       "    </tr>\n",
       "    <tr>\n",
       "      <th>263</th>\n",
       "      <td>905862.0</td>\n",
       "      <td>5.0</td>\n",
       "    </tr>\n",
       "    <tr>\n",
       "      <th>504</th>\n",
       "      <td>921814.0</td>\n",
       "      <td>4.0</td>\n",
       "    </tr>\n",
       "    <tr>\n",
       "      <th>272</th>\n",
       "      <td>906392.0</td>\n",
       "      <td>3.5</td>\n",
       "    </tr>\n",
       "    <tr>\n",
       "      <th>282</th>\n",
       "      <td>906412.0</td>\n",
       "      <td>3.5</td>\n",
       "    </tr>\n",
       "    <tr>\n",
       "      <th>722</th>\n",
       "      <td>937956.0</td>\n",
       "      <td>3.0</td>\n",
       "    </tr>\n",
       "    <tr>\n",
       "      <th>178</th>\n",
       "      <td>900352.0</td>\n",
       "      <td>3.0</td>\n",
       "    </tr>\n",
       "    <tr>\n",
       "      <th>246</th>\n",
       "      <td>905300.0</td>\n",
       "      <td>3.0</td>\n",
       "    </tr>\n",
       "    <tr>\n",
       "      <th>242</th>\n",
       "      <td>904344.0</td>\n",
       "      <td>3.0</td>\n",
       "    </tr>\n",
       "    <tr>\n",
       "      <th>913</th>\n",
       "      <td>948286.0</td>\n",
       "      <td>3.0</td>\n",
       "    </tr>\n",
       "  </tbody>\n",
       "</table>\n",
       "</div>"
      ],
      "text/plain": [
       "     operator_id  avg_calls_missed\n",
       "1021    959312.0               7.0\n",
       "263     905862.0               5.0\n",
       "504     921814.0               4.0\n",
       "272     906392.0               3.5\n",
       "282     906412.0               3.5\n",
       "722     937956.0               3.0\n",
       "178     900352.0               3.0\n",
       "246     905300.0               3.0\n",
       "242     904344.0               3.0\n",
       "913     948286.0               3.0"
      ]
     },
     "execution_count": 61,
     "metadata": {},
     "output_type": "execute_result"
    }
   ],
   "source": [
    "avg_miss = missing_calls_mean.sort_values(by='avg_calls_missed', ascending=False).head(10)\n",
    "avg_miss"
   ]
  },
  {
   "cell_type": "code",
   "execution_count": 62,
   "metadata": {},
   "outputs": [
    {
     "data": {
      "text/plain": [
       "3.8"
      ]
     },
     "execution_count": 62,
     "metadata": {},
     "output_type": "execute_result"
    }
   ],
   "source": [
    "#Average number of all operators\n",
    "avg_miss.avg_calls_missed.mean()"
   ]
  },
  {
   "cell_type": "code",
   "execution_count": 63,
   "metadata": {},
   "outputs": [
    {
     "data": {
      "text/plain": [
       "Text(0, 0.5, 'missed calls')"
      ]
     },
     "execution_count": 63,
     "metadata": {},
     "output_type": "execute_result"
    },
    {
     "data": {
      "image/png": "[encoded data removed]",
      "text/plain": [
       "<Figure size 432x288 with 1 Axes>"
      ]
     },
     "metadata": {
      "needs_background": "light"
     },
     "output_type": "display_data"
    }
   ],
   "source": [
    "(\n",
    "    avg_miss\n",
    "    .plot(x=\"operator_id\", y=\"avg_calls_missed\", \n",
    "          kind='bar', color='purple', title='operators with highest number of average missed calls')\n",
    "    \n",
    ")\n",
    "plt.ylabel('missed calls')"
   ]
  },
  {
   "cell_type": "markdown",
   "metadata": {},
   "source": [
    " most of operators have the average of 3.8 missed calls. It seems that there are not many operators that are above average and we do not see anything out of the ordinary that can be considered inefficient."
   ]
  },
  {
   "cell_type": "code",
   "execution_count": 64,
   "metadata": {},
   "outputs": [],
   "source": [
    "#avg_miss['operator_id'] = avg_miss['operator_id'].astype('str')"
   ]
  },
  {
   "cell_type": "code",
   "execution_count": 65,
   "metadata": {},
   "outputs": [
    {
     "data": {
      "image/png": "[encoded data removed]",
      "text/plain": [
       "<Figure size 432x288 with 1 Axes>"
      ]
     },
     "metadata": {
      "needs_background": "light"
     },
     "output_type": "display_data"
    }
   ],
   "source": [
    "sns.barplot(x='operator_id', y='avg_calls_missed', palette=\"rocket\", data=avg_miss)\n",
    "plt.title('operators with highest number of average missed calls')\n",
    "plt.xticks(rotation='vertical')\n",
    "plt.show()"
   ]
  },
  {
   "cell_type": "markdown",
   "metadata": {},
   "source": [
    "We will check the partail number of missing calls of all calls by operator to get a more accurate answer"
   ]
  },
  {
   "cell_type": "markdown",
   "metadata": {},
   "source": [
    "### The partial number of missed calls of total by each operator. <a class=\"anchor\" id=\"section_3_2_2\"></a> "
   ]
  },
  {
   "cell_type": "code",
   "execution_count": 66,
   "metadata": {},
   "outputs": [],
   "source": [
    "missing_calls = (telecom.query('is_missed_call==True and direction==\"in\"')\n",
    "                 .groupby(['operator_id'])['calls_count'].sum().reset_index()\n",
    "                ) \n",
    "missing_calls.columns = ['operator_id', 'calls_missed']\n",
    "\n",
    "missing_calls = missing_calls[missing_calls['calls_missed']> 0]"
   ]
  },
  {
   "cell_type": "code",
   "execution_count": 67,
   "metadata": {},
   "outputs": [],
   "source": [
    "calls_operator = telecom[telecom['direction']==\"in\"].groupby('operator_id')['calls_count'].sum().reset_index()\n",
    "calls_operator.columns = ['operator_id', 'calls_total']"
   ]
  },
  {
   "cell_type": "code",
   "execution_count": 68,
   "metadata": {},
   "outputs": [
    {
     "data": {
      "text/html": [
       "<div>\n",
       "<style scoped>\n",
       "    .dataframe tbody tr th:only-of-type {\n",
       "        vertical-align: middle;\n",
       "    }\n",
       "\n",
       "    .dataframe tbody tr th {\n",
       "        vertical-align: top;\n",
       "    }\n",
       "\n",
       "    .dataframe thead th {\n",
       "        text-align: right;\n",
       "    }\n",
       "</style>\n",
       "<table border=\"1\" class=\"dataframe\">\n",
       "  <thead>\n",
       "    <tr style=\"text-align: right;\">\n",
       "      <th></th>\n",
       "      <th>operator_id</th>\n",
       "      <th>calls_missed</th>\n",
       "      <th>calls_total</th>\n",
       "    </tr>\n",
       "  </thead>\n",
       "  <tbody>\n",
       "    <tr>\n",
       "      <th>0</th>\n",
       "      <td>882680.0</td>\n",
       "      <td>3</td>\n",
       "      <td>99</td>\n",
       "    </tr>\n",
       "    <tr>\n",
       "      <th>1</th>\n",
       "      <td>882684.0</td>\n",
       "      <td>4</td>\n",
       "      <td>613</td>\n",
       "    </tr>\n",
       "    <tr>\n",
       "      <th>2</th>\n",
       "      <td>882686.0</td>\n",
       "      <td>6</td>\n",
       "      <td>766</td>\n",
       "    </tr>\n",
       "    <tr>\n",
       "      <th>3</th>\n",
       "      <td>882690.0</td>\n",
       "      <td>2</td>\n",
       "      <td>171</td>\n",
       "    </tr>\n",
       "    <tr>\n",
       "      <th>4</th>\n",
       "      <td>884408.0</td>\n",
       "      <td>4</td>\n",
       "      <td>35</td>\n",
       "    </tr>\n",
       "  </tbody>\n",
       "</table>\n",
       "</div>"
      ],
      "text/plain": [
       "  operator_id  calls_missed  calls_total\n",
       "0    882680.0             3           99\n",
       "1    882684.0             4          613\n",
       "2    882686.0             6          766\n",
       "3    882690.0             2          171\n",
       "4    884408.0             4           35"
      ]
     },
     "execution_count": 68,
     "metadata": {},
     "output_type": "execute_result"
    }
   ],
   "source": [
    "calls_part = missing_calls.merge(calls_operator, on='operator_id', how='left')\n",
    "calls_part.head()"
   ]
  },
  {
   "cell_type": "code",
   "execution_count": 69,
   "metadata": {},
   "outputs": [
    {
     "data": {
      "text/html": [
       "<div>\n",
       "<style scoped>\n",
       "    .dataframe tbody tr th:only-of-type {\n",
       "        vertical-align: middle;\n",
       "    }\n",
       "\n",
       "    .dataframe tbody tr th {\n",
       "        vertical-align: top;\n",
       "    }\n",
       "\n",
       "    .dataframe thead th {\n",
       "        text-align: right;\n",
       "    }\n",
       "</style>\n",
       "<table border=\"1\" class=\"dataframe\">\n",
       "  <thead>\n",
       "    <tr style=\"text-align: right;\">\n",
       "      <th></th>\n",
       "      <th>operator_id</th>\n",
       "      <th>calls_missed</th>\n",
       "      <th>calls_total</th>\n",
       "      <th>missing_from_total</th>\n",
       "    </tr>\n",
       "  </thead>\n",
       "  <tbody>\n",
       "    <tr>\n",
       "      <th>219</th>\n",
       "      <td>948756.0</td>\n",
       "      <td>1</td>\n",
       "      <td>1</td>\n",
       "      <td>100.000000</td>\n",
       "    </tr>\n",
       "    <tr>\n",
       "      <th>58</th>\n",
       "      <td>904344.0</td>\n",
       "      <td>3</td>\n",
       "      <td>4</td>\n",
       "      <td>75.000000</td>\n",
       "    </tr>\n",
       "    <tr>\n",
       "      <th>96</th>\n",
       "      <td>913886.0</td>\n",
       "      <td>1</td>\n",
       "      <td>2</td>\n",
       "      <td>50.000000</td>\n",
       "    </tr>\n",
       "    <tr>\n",
       "      <th>69</th>\n",
       "      <td>906392.0</td>\n",
       "      <td>7</td>\n",
       "      <td>18</td>\n",
       "      <td>38.888889</td>\n",
       "    </tr>\n",
       "    <tr>\n",
       "      <th>34</th>\n",
       "      <td>897872.0</td>\n",
       "      <td>1</td>\n",
       "      <td>3</td>\n",
       "      <td>33.333333</td>\n",
       "    </tr>\n",
       "    <tr>\n",
       "      <th>164</th>\n",
       "      <td>937432.0</td>\n",
       "      <td>1</td>\n",
       "      <td>3</td>\n",
       "      <td>33.333333</td>\n",
       "    </tr>\n",
       "    <tr>\n",
       "      <th>157</th>\n",
       "      <td>934098.0</td>\n",
       "      <td>2</td>\n",
       "      <td>6</td>\n",
       "      <td>33.333333</td>\n",
       "    </tr>\n",
       "    <tr>\n",
       "      <th>228</th>\n",
       "      <td>957922.0</td>\n",
       "      <td>1</td>\n",
       "      <td>3</td>\n",
       "      <td>33.333333</td>\n",
       "    </tr>\n",
       "    <tr>\n",
       "      <th>76</th>\n",
       "      <td>906412.0</td>\n",
       "      <td>7</td>\n",
       "      <td>26</td>\n",
       "      <td>26.923077</td>\n",
       "    </tr>\n",
       "    <tr>\n",
       "      <th>26</th>\n",
       "      <td>894232.0</td>\n",
       "      <td>1</td>\n",
       "      <td>4</td>\n",
       "      <td>25.000000</td>\n",
       "    </tr>\n",
       "  </tbody>\n",
       "</table>\n",
       "</div>"
      ],
      "text/plain": [
       "    operator_id  calls_missed  calls_total  missing_from_total\n",
       "219    948756.0             1            1          100.000000\n",
       "58     904344.0             3            4           75.000000\n",
       "96     913886.0             1            2           50.000000\n",
       "69     906392.0             7           18           38.888889\n",
       "34     897872.0             1            3           33.333333\n",
       "164    937432.0             1            3           33.333333\n",
       "157    934098.0             2            6           33.333333\n",
       "228    957922.0             1            3           33.333333\n",
       "76     906412.0             7           26           26.923077\n",
       "26     894232.0             1            4           25.000000"
      ]
     },
     "execution_count": 69,
     "metadata": {},
     "output_type": "execute_result"
    }
   ],
   "source": [
    "calls_part['missing_from_total'] = calls_part['calls_missed'] / calls_part['calls_total'] * 100\n",
    "miss_partial = calls_part.sort_values(by='missing_from_total', ascending=False).head(10)  \n",
    "miss_partial"
   ]
  },
  {
   "cell_type": "code",
   "execution_count": 70,
   "metadata": {},
   "outputs": [
    {
     "data": {
      "image/png": "[encoded data removed]",
      "text/plain": [
       "<Figure size 432x288 with 1 Axes>"
      ]
     },
     "metadata": {
      "needs_background": "light"
     },
     "output_type": "display_data"
    }
   ],
   "source": [
    "import matplotlib.ticker as mtick\n",
    "x = (\n",
    "    miss_partial\n",
    "    .plot(x=\"operator_id\", y=\"missing_from_total\", \n",
    "          kind='bar', color='darkred', title='operators with highest number of missed calls of total')\n",
    "    \n",
    ")\n",
    "plt.ylabel('missed calls of total')\n",
    "x.yaxis.set_major_formatter(mtick.PercentFormatter())"
   ]
  },
  {
   "cell_type": "markdown",
   "metadata": {},
   "source": [
    "We will claim that missing_from_total > 30% is bad."
   ]
  },
  {
   "cell_type": "markdown",
   "metadata": {},
   "source": [
    "## waiting time : <a class=\"anchor\" id=\"section_3_3\"></a> "
   ]
  },
  {
   "cell_type": "markdown",
   "metadata": {},
   "source": [
    "### Average time until answer for incoming calls.  <a class=\"anchor\" id=\"section_3_3_1\"></a> "
   ]
  },
  {
   "cell_type": "code",
   "execution_count": 71,
   "metadata": {},
   "outputs": [
    {
     "data": {
      "text/html": [
       "<div>\n",
       "<style scoped>\n",
       "    .dataframe tbody tr th:only-of-type {\n",
       "        vertical-align: middle;\n",
       "    }\n",
       "\n",
       "    .dataframe tbody tr th {\n",
       "        vertical-align: top;\n",
       "    }\n",
       "\n",
       "    .dataframe thead th {\n",
       "        text-align: right;\n",
       "    }\n",
       "</style>\n",
       "<table border=\"1\" class=\"dataframe\">\n",
       "  <thead>\n",
       "    <tr style=\"text-align: right;\">\n",
       "      <th></th>\n",
       "      <th>user_id</th>\n",
       "      <th>date</th>\n",
       "      <th>direction</th>\n",
       "      <th>internal</th>\n",
       "      <th>operator_id</th>\n",
       "      <th>is_missed_call</th>\n",
       "      <th>calls_count</th>\n",
       "      <th>call_duration</th>\n",
       "      <th>total_call_duration</th>\n",
       "      <th>time_wait</th>\n",
       "    </tr>\n",
       "  </thead>\n",
       "  <tbody>\n",
       "    <tr>\n",
       "      <th>1</th>\n",
       "      <td>166377</td>\n",
       "      <td>2019-08-05</td>\n",
       "      <td>out</td>\n",
       "      <td>True</td>\n",
       "      <td>880022.0</td>\n",
       "      <td>True</td>\n",
       "      <td>3</td>\n",
       "      <td>0</td>\n",
       "      <td>5</td>\n",
       "      <td>5</td>\n",
       "    </tr>\n",
       "    <tr>\n",
       "      <th>2</th>\n",
       "      <td>166377</td>\n",
       "      <td>2019-08-05</td>\n",
       "      <td>out</td>\n",
       "      <td>True</td>\n",
       "      <td>880020.0</td>\n",
       "      <td>True</td>\n",
       "      <td>1</td>\n",
       "      <td>0</td>\n",
       "      <td>1</td>\n",
       "      <td>1</td>\n",
       "    </tr>\n",
       "    <tr>\n",
       "      <th>3</th>\n",
       "      <td>166377</td>\n",
       "      <td>2019-08-05</td>\n",
       "      <td>out</td>\n",
       "      <td>True</td>\n",
       "      <td>880020.0</td>\n",
       "      <td>False</td>\n",
       "      <td>1</td>\n",
       "      <td>10</td>\n",
       "      <td>18</td>\n",
       "      <td>8</td>\n",
       "    </tr>\n",
       "    <tr>\n",
       "      <th>4</th>\n",
       "      <td>166377</td>\n",
       "      <td>2019-08-05</td>\n",
       "      <td>out</td>\n",
       "      <td>False</td>\n",
       "      <td>880022.0</td>\n",
       "      <td>True</td>\n",
       "      <td>3</td>\n",
       "      <td>0</td>\n",
       "      <td>25</td>\n",
       "      <td>25</td>\n",
       "    </tr>\n",
       "    <tr>\n",
       "      <th>5</th>\n",
       "      <td>166377</td>\n",
       "      <td>2019-08-05</td>\n",
       "      <td>out</td>\n",
       "      <td>False</td>\n",
       "      <td>880020.0</td>\n",
       "      <td>False</td>\n",
       "      <td>2</td>\n",
       "      <td>3</td>\n",
       "      <td>29</td>\n",
       "      <td>26</td>\n",
       "    </tr>\n",
       "  </tbody>\n",
       "</table>\n",
       "</div>"
      ],
      "text/plain": [
       "  user_id        date direction internal operator_id  is_missed_call  \\\n",
       "1  166377  2019-08-05       out     True    880022.0            True   \n",
       "2  166377  2019-08-05       out     True    880020.0            True   \n",
       "3  166377  2019-08-05       out     True    880020.0           False   \n",
       "4  166377  2019-08-05       out    False    880022.0            True   \n",
       "5  166377  2019-08-05       out    False    880020.0           False   \n",
       "\n",
       "   calls_count  call_duration  total_call_duration  time_wait  \n",
       "1            3              0                    5          5  \n",
       "2            1              0                    1          1  \n",
       "3            1             10                   18          8  \n",
       "4            3              0                   25         25  \n",
       "5            2              3                   29         26  "
      ]
     },
     "execution_count": 71,
     "metadata": {},
     "output_type": "execute_result"
    }
   ],
   "source": [
    "#total average\n",
    "telecom.head()"
   ]
  },
  {
   "cell_type": "code",
   "execution_count": 72,
   "metadata": {},
   "outputs": [],
   "source": [
    "in_calls = telecom[(telecom['direction']==\"in\") & (telecom['is_missed_call']==False)]"
   ]
  },
  {
   "cell_type": "code",
   "execution_count": 73,
   "metadata": {},
   "outputs": [
    {
     "data": {
      "text/html": [
       "<div>\n",
       "<style scoped>\n",
       "    .dataframe tbody tr th:only-of-type {\n",
       "        vertical-align: middle;\n",
       "    }\n",
       "\n",
       "    .dataframe tbody tr th {\n",
       "        vertical-align: top;\n",
       "    }\n",
       "\n",
       "    .dataframe thead th {\n",
       "        text-align: right;\n",
       "    }\n",
       "</style>\n",
       "<table border=\"1\" class=\"dataframe\">\n",
       "  <thead>\n",
       "    <tr style=\"text-align: right;\">\n",
       "      <th></th>\n",
       "      <th>calls_count</th>\n",
       "      <th>call_duration</th>\n",
       "      <th>total_call_duration</th>\n",
       "      <th>time_wait</th>\n",
       "    </tr>\n",
       "  </thead>\n",
       "  <tbody>\n",
       "    <tr>\n",
       "      <th>count</th>\n",
       "      <td>11994.000000</td>\n",
       "      <td>11994.000000</td>\n",
       "      <td>11994.000000</td>\n",
       "      <td>11994.000000</td>\n",
       "    </tr>\n",
       "    <tr>\n",
       "      <th>mean</th>\n",
       "      <td>7.738619</td>\n",
       "      <td>791.570619</td>\n",
       "      <td>892.853093</td>\n",
       "      <td>101.282475</td>\n",
       "    </tr>\n",
       "    <tr>\n",
       "      <th>std</th>\n",
       "      <td>15.424210</td>\n",
       "      <td>1509.985037</td>\n",
       "      <td>1625.928519</td>\n",
       "      <td>189.789464</td>\n",
       "    </tr>\n",
       "    <tr>\n",
       "      <th>min</th>\n",
       "      <td>1.000000</td>\n",
       "      <td>1.000000</td>\n",
       "      <td>3.000000</td>\n",
       "      <td>0.000000</td>\n",
       "    </tr>\n",
       "    <tr>\n",
       "      <th>25%</th>\n",
       "      <td>1.000000</td>\n",
       "      <td>81.000000</td>\n",
       "      <td>108.000000</td>\n",
       "      <td>17.000000</td>\n",
       "    </tr>\n",
       "    <tr>\n",
       "      <th>50%</th>\n",
       "      <td>3.000000</td>\n",
       "      <td>295.500000</td>\n",
       "      <td>344.000000</td>\n",
       "      <td>41.000000</td>\n",
       "    </tr>\n",
       "    <tr>\n",
       "      <th>75%</th>\n",
       "      <td>8.000000</td>\n",
       "      <td>898.000000</td>\n",
       "      <td>1004.000000</td>\n",
       "      <td>102.000000</td>\n",
       "    </tr>\n",
       "    <tr>\n",
       "      <th>max</th>\n",
       "      <td>273.000000</td>\n",
       "      <td>33897.000000</td>\n",
       "      <td>34280.000000</td>\n",
       "      <td>3998.000000</td>\n",
       "    </tr>\n",
       "  </tbody>\n",
       "</table>\n",
       "</div>"
      ],
      "text/plain": [
       "        calls_count  call_duration  total_call_duration     time_wait\n",
       "count  11994.000000   11994.000000         11994.000000  11994.000000\n",
       "mean       7.738619     791.570619           892.853093    101.282475\n",
       "std       15.424210    1509.985037          1625.928519    189.789464\n",
       "min        1.000000       1.000000             3.000000      0.000000\n",
       "25%        1.000000      81.000000           108.000000     17.000000\n",
       "50%        3.000000     295.500000           344.000000     41.000000\n",
       "75%        8.000000     898.000000          1004.000000    102.000000\n",
       "max      273.000000   33897.000000         34280.000000   3998.000000"
      ]
     },
     "execution_count": 73,
     "metadata": {},
     "output_type": "execute_result"
    }
   ],
   "source": [
    "in_calls.describe()"
   ]
  },
  {
   "cell_type": "markdown",
   "metadata": {},
   "source": [
    "Most of operators answer in average after 1.6 min . After 5 minutes waiting its a lot of time !"
   ]
  },
  {
   "cell_type": "code",
   "execution_count": 74,
   "metadata": {},
   "outputs": [],
   "source": [
    "# id average time until answer only for incoming calls \n",
    "time_to_answer = in_calls.groupby('operator_id')['time_wait'].mean().sort_values(ascending=False).reset_index()\n",
    "time_to_answer['time_wait_min'] = time_to_answer['time_wait'] / 60\n",
    "time_to_answer = time_to_answer[time_to_answer['time_wait_min'] > 5]"
   ]
  },
  {
   "cell_type": "markdown",
   "metadata": {},
   "source": [
    "These are top  aperators with the longest answer time . "
   ]
  },
  {
   "cell_type": "code",
   "execution_count": 75,
   "metadata": {},
   "outputs": [],
   "source": [
    "time_to_answer_top =time_to_answer[['operator_id','time_wait_min']]"
   ]
  },
  {
   "cell_type": "code",
   "execution_count": 76,
   "metadata": {},
   "outputs": [
    {
     "data": {
      "text/plain": [
       "Text(0, 0.5, 'time wait / min')"
      ]
     },
     "execution_count": 76,
     "metadata": {},
     "output_type": "execute_result"
    },
    {
     "data": {
      "image/png": "[encoded data removed]",
      "text/plain": [
       "<Figure size 432x288 with 1 Axes>"
      ]
     },
     "metadata": {
      "needs_background": "light"
     },
     "output_type": "display_data"
    }
   ],
   "source": [
    "(\n",
    "    time_to_answer_top\n",
    "    .plot(x=\"operator_id\", y=\"time_wait_min\", \n",
    "          kind='bar', color='forestgreen', title='operators longest time to answer')\n",
    "    \n",
    ")\n",
    "plt.ylabel('time wait / min')"
   ]
  },
  {
   "cell_type": "markdown",
   "metadata": {},
   "source": [
    " "
   ]
  },
  {
   "cell_type": "markdown",
   "metadata": {},
   "source": [
    "The time until there is an answer could get to 17.5 minutes. Above 5 minutes is long enough."
   ]
  },
  {
   "cell_type": "markdown",
   "metadata": {
    "scrolled": true
   },
   "source": [
    "## Identify inafective operators  <a class=\"anchor\" id=\"section_3_4\"></a> "
   ]
  },
  {
   "cell_type": "markdown",
   "metadata": {},
   "source": [
    "We want to cheack is there are operators in more that one 'bad' table . "
   ]
  },
  {
   "cell_type": "code",
   "execution_count": 77,
   "metadata": {},
   "outputs": [
    {
     "data": {
      "text/html": [
       "<div>\n",
       "<style scoped>\n",
       "    .dataframe tbody tr th:only-of-type {\n",
       "        vertical-align: middle;\n",
       "    }\n",
       "\n",
       "    .dataframe tbody tr th {\n",
       "        vertical-align: top;\n",
       "    }\n",
       "\n",
       "    .dataframe thead th {\n",
       "        text-align: right;\n",
       "    }\n",
       "</style>\n",
       "<table border=\"1\" class=\"dataframe\">\n",
       "  <thead>\n",
       "    <tr style=\"text-align: right;\">\n",
       "      <th></th>\n",
       "      <th>operator_id</th>\n",
       "      <th>time_wait_min</th>\n",
       "    </tr>\n",
       "  </thead>\n",
       "  <tbody>\n",
       "    <tr>\n",
       "      <th>0</th>\n",
       "      <td>919794.0</td>\n",
       "      <td>17.322043</td>\n",
       "    </tr>\n",
       "    <tr>\n",
       "      <th>1</th>\n",
       "      <td>906070.0</td>\n",
       "      <td>16.973077</td>\n",
       "    </tr>\n",
       "    <tr>\n",
       "      <th>2</th>\n",
       "      <td>919204.0</td>\n",
       "      <td>15.468333</td>\n",
       "    </tr>\n",
       "    <tr>\n",
       "      <th>3</th>\n",
       "      <td>919790.0</td>\n",
       "      <td>14.913842</td>\n",
       "    </tr>\n",
       "    <tr>\n",
       "      <th>4</th>\n",
       "      <td>931458.0</td>\n",
       "      <td>14.595417</td>\n",
       "    </tr>\n",
       "  </tbody>\n",
       "</table>\n",
       "</div>"
      ],
      "text/plain": [
       "  operator_id  time_wait_min\n",
       "0    919794.0      17.322043\n",
       "1    906070.0      16.973077\n",
       "2    919204.0      15.468333\n",
       "3    919790.0      14.913842\n",
       "4    931458.0      14.595417"
      ]
     },
     "execution_count": 77,
     "metadata": {},
     "output_type": "execute_result"
    }
   ],
   "source": [
    "time_to_answer_top.head()"
   ]
  },
  {
   "cell_type": "code",
   "execution_count": 78,
   "metadata": {},
   "outputs": [
    {
     "data": {
      "text/html": [
       "<div>\n",
       "<style scoped>\n",
       "    .dataframe tbody tr th:only-of-type {\n",
       "        vertical-align: middle;\n",
       "    }\n",
       "\n",
       "    .dataframe tbody tr th {\n",
       "        vertical-align: top;\n",
       "    }\n",
       "\n",
       "    .dataframe thead th {\n",
       "        text-align: right;\n",
       "    }\n",
       "</style>\n",
       "<table border=\"1\" class=\"dataframe\">\n",
       "  <thead>\n",
       "    <tr style=\"text-align: right;\">\n",
       "      <th></th>\n",
       "      <th>operator_id</th>\n",
       "      <th>calls_missed</th>\n",
       "      <th>calls_total</th>\n",
       "      <th>missing_from_total</th>\n",
       "    </tr>\n",
       "  </thead>\n",
       "  <tbody>\n",
       "    <tr>\n",
       "      <th>219</th>\n",
       "      <td>948756.0</td>\n",
       "      <td>1</td>\n",
       "      <td>1</td>\n",
       "      <td>100.000000</td>\n",
       "    </tr>\n",
       "    <tr>\n",
       "      <th>58</th>\n",
       "      <td>904344.0</td>\n",
       "      <td>3</td>\n",
       "      <td>4</td>\n",
       "      <td>75.000000</td>\n",
       "    </tr>\n",
       "    <tr>\n",
       "      <th>96</th>\n",
       "      <td>913886.0</td>\n",
       "      <td>1</td>\n",
       "      <td>2</td>\n",
       "      <td>50.000000</td>\n",
       "    </tr>\n",
       "    <tr>\n",
       "      <th>69</th>\n",
       "      <td>906392.0</td>\n",
       "      <td>7</td>\n",
       "      <td>18</td>\n",
       "      <td>38.888889</td>\n",
       "    </tr>\n",
       "    <tr>\n",
       "      <th>34</th>\n",
       "      <td>897872.0</td>\n",
       "      <td>1</td>\n",
       "      <td>3</td>\n",
       "      <td>33.333333</td>\n",
       "    </tr>\n",
       "  </tbody>\n",
       "</table>\n",
       "</div>"
      ],
      "text/plain": [
       "    operator_id  calls_missed  calls_total  missing_from_total\n",
       "219    948756.0             1            1          100.000000\n",
       "58     904344.0             3            4           75.000000\n",
       "96     913886.0             1            2           50.000000\n",
       "69     906392.0             7           18           38.888889\n",
       "34     897872.0             1            3           33.333333"
      ]
     },
     "execution_count": 78,
     "metadata": {},
     "output_type": "execute_result"
    }
   ],
   "source": [
    "miss_partial.head()"
   ]
  },
  {
   "cell_type": "code",
   "execution_count": 79,
   "metadata": {},
   "outputs": [
    {
     "data": {
      "text/html": [
       "<div>\n",
       "<style scoped>\n",
       "    .dataframe tbody tr th:only-of-type {\n",
       "        vertical-align: middle;\n",
       "    }\n",
       "\n",
       "    .dataframe tbody tr th {\n",
       "        vertical-align: top;\n",
       "    }\n",
       "\n",
       "    .dataframe thead th {\n",
       "        text-align: right;\n",
       "    }\n",
       "</style>\n",
       "<table border=\"1\" class=\"dataframe\">\n",
       "  <thead>\n",
       "    <tr style=\"text-align: right;\">\n",
       "      <th></th>\n",
       "      <th>operator_id</th>\n",
       "      <th>calls_count</th>\n",
       "      <th>call_duration</th>\n",
       "      <th>min_per_call</th>\n",
       "    </tr>\n",
       "  </thead>\n",
       "  <tbody>\n",
       "    <tr>\n",
       "      <th>0</th>\n",
       "      <td>891192.0</td>\n",
       "      <td>1</td>\n",
       "      <td>1306</td>\n",
       "      <td>21.766667</td>\n",
       "    </tr>\n",
       "    <tr>\n",
       "      <th>1</th>\n",
       "      <td>892534.0</td>\n",
       "      <td>5</td>\n",
       "      <td>3645</td>\n",
       "      <td>12.150000</td>\n",
       "    </tr>\n",
       "    <tr>\n",
       "      <th>2</th>\n",
       "      <td>930326.0</td>\n",
       "      <td>1</td>\n",
       "      <td>683</td>\n",
       "      <td>11.383333</td>\n",
       "    </tr>\n",
       "    <tr>\n",
       "      <th>3</th>\n",
       "      <td>891154.0</td>\n",
       "      <td>371</td>\n",
       "      <td>243908</td>\n",
       "      <td>10.957233</td>\n",
       "    </tr>\n",
       "    <tr>\n",
       "      <th>4</th>\n",
       "      <td>917890.0</td>\n",
       "      <td>1</td>\n",
       "      <td>647</td>\n",
       "      <td>10.783333</td>\n",
       "    </tr>\n",
       "  </tbody>\n",
       "</table>\n",
       "</div>"
      ],
      "text/plain": [
       "  operator_id  calls_count  call_duration  min_per_call\n",
       "0    891192.0            1           1306     21.766667\n",
       "1    892534.0            5           3645     12.150000\n",
       "2    930326.0            1            683     11.383333\n",
       "3    891154.0          371         243908     10.957233\n",
       "4    917890.0            1            647     10.783333"
      ]
     },
     "execution_count": 79,
     "metadata": {},
     "output_type": "execute_result"
    }
   ],
   "source": [
    "highest_call.head()"
   ]
  },
  {
   "cell_type": "code",
   "execution_count": 80,
   "metadata": {},
   "outputs": [
    {
     "data": {
      "text/html": [
       "<div>\n",
       "<style scoped>\n",
       "    .dataframe tbody tr th:only-of-type {\n",
       "        vertical-align: middle;\n",
       "    }\n",
       "\n",
       "    .dataframe tbody tr th {\n",
       "        vertical-align: top;\n",
       "    }\n",
       "\n",
       "    .dataframe thead th {\n",
       "        text-align: right;\n",
       "    }\n",
       "</style>\n",
       "<table border=\"1\" class=\"dataframe\">\n",
       "  <thead>\n",
       "    <tr style=\"text-align: right;\">\n",
       "      <th></th>\n",
       "      <th>operator_id</th>\n",
       "      <th>time_wait_min</th>\n",
       "    </tr>\n",
       "  </thead>\n",
       "  <tbody>\n",
       "  </tbody>\n",
       "</table>\n",
       "</div>"
      ],
      "text/plain": [
       "Empty DataFrame\n",
       "Columns: [operator_id, time_wait_min]\n",
       "Index: []"
      ]
     },
     "execution_count": 80,
     "metadata": {},
     "output_type": "execute_result"
    }
   ],
   "source": [
    "time_to_answer_top.query('operator_id in @miss_partial.operator_id')"
   ]
  },
  {
   "cell_type": "code",
   "execution_count": 81,
   "metadata": {},
   "outputs": [
    {
     "data": {
      "text/html": [
       "<div>\n",
       "<style scoped>\n",
       "    .dataframe tbody tr th:only-of-type {\n",
       "        vertical-align: middle;\n",
       "    }\n",
       "\n",
       "    .dataframe tbody tr th {\n",
       "        vertical-align: top;\n",
       "    }\n",
       "\n",
       "    .dataframe thead th {\n",
       "        text-align: right;\n",
       "    }\n",
       "</style>\n",
       "<table border=\"1\" class=\"dataframe\">\n",
       "  <thead>\n",
       "    <tr style=\"text-align: right;\">\n",
       "      <th></th>\n",
       "      <th>operator_id</th>\n",
       "      <th>time_wait_min</th>\n",
       "    </tr>\n",
       "  </thead>\n",
       "  <tbody>\n",
       "  </tbody>\n",
       "</table>\n",
       "</div>"
      ],
      "text/plain": [
       "Empty DataFrame\n",
       "Columns: [operator_id, time_wait_min]\n",
       "Index: []"
      ]
     },
     "execution_count": 81,
     "metadata": {},
     "output_type": "execute_result"
    }
   ],
   "source": [
    "time_to_answer_top.query('operator_id in @highest_call.operator_id')"
   ]
  },
  {
   "cell_type": "code",
   "execution_count": 82,
   "metadata": {},
   "outputs": [
    {
     "data": {
      "text/html": [
       "<div>\n",
       "<style scoped>\n",
       "    .dataframe tbody tr th:only-of-type {\n",
       "        vertical-align: middle;\n",
       "    }\n",
       "\n",
       "    .dataframe tbody tr th {\n",
       "        vertical-align: top;\n",
       "    }\n",
       "\n",
       "    .dataframe thead th {\n",
       "        text-align: right;\n",
       "    }\n",
       "</style>\n",
       "<table border=\"1\" class=\"dataframe\">\n",
       "  <thead>\n",
       "    <tr style=\"text-align: right;\">\n",
       "      <th></th>\n",
       "      <th>operator_id</th>\n",
       "      <th>calls_count</th>\n",
       "      <th>call_duration</th>\n",
       "      <th>min_per_call</th>\n",
       "    </tr>\n",
       "  </thead>\n",
       "  <tbody>\n",
       "  </tbody>\n",
       "</table>\n",
       "</div>"
      ],
      "text/plain": [
       "Empty DataFrame\n",
       "Columns: [operator_id, calls_count, call_duration, min_per_call]\n",
       "Index: []"
      ]
     },
     "execution_count": 82,
     "metadata": {},
     "output_type": "execute_result"
    }
   ],
   "source": [
    "highest_call.query('operator_id in @miss_partial.operator_id')"
   ]
  },
  {
   "cell_type": "code",
   "execution_count": 83,
   "metadata": {},
   "outputs": [
    {
     "data": {
      "text/plain": [
       "0     919794.0\n",
       "1     906070.0\n",
       "2     919204.0\n",
       "3     919790.0\n",
       "4     931458.0\n",
       "5     921318.0\n",
       "6     919206.0\n",
       "7     913938.0\n",
       "8     906076.0\n",
       "9     919554.0\n",
       "10    919552.0\n",
       "11    919166.0\n",
       "12    913942.0\n",
       "13    906406.0\n",
       "14    919164.0\n",
       "15    919792.0\n",
       "16    958460.0\n",
       "17    906404.0\n",
       "18    882690.0\n",
       "19    971102.0\n",
       "20    882688.0\n",
       "21    939762.0\n",
       "22    921818.0\n",
       "23    938414.0\n",
       "Name: operator_id, dtype: category\n",
       "Categories (1092, float64): [879896.0, 879898.0, 880020.0, 880022.0, ..., 972412.0, 972460.0, 973120.0, 973286.0]"
      ]
     },
     "execution_count": 83,
     "metadata": {},
     "output_type": "execute_result"
    }
   ],
   "source": [
    "a = time_to_answer_top['operator_id']\n",
    "b= miss_partial['operator_id']\n",
    "c= highest_call['operator_id']\n",
    "a"
   ]
  },
  {
   "cell_type": "code",
   "execution_count": 84,
   "metadata": {},
   "outputs": [],
   "source": [
    "inefficient_oprator = pd.concat([a,b])"
   ]
  },
  {
   "cell_type": "code",
   "execution_count": 85,
   "metadata": {},
   "outputs": [],
   "source": [
    "inefficient_oprator = pd.concat([inefficient_oprator,c], ignore_index=True)"
   ]
  },
  {
   "cell_type": "code",
   "execution_count": 86,
   "metadata": {},
   "outputs": [
    {
     "data": {
      "text/plain": [
       "0    919794.0\n",
       "1    906070.0\n",
       "2    919204.0\n",
       "3    919790.0\n",
       "4    931458.0\n",
       "Name: operator_id, dtype: category\n",
       "Categories (1092, float64): [879896.0, 879898.0, 880020.0, 880022.0, ..., 972412.0, 972460.0, 973120.0, 973286.0]"
      ]
     },
     "execution_count": 86,
     "metadata": {},
     "output_type": "execute_result"
    }
   ],
   "source": [
    "inefficient_oprator.head()"
   ]
  },
  {
   "cell_type": "markdown",
   "metadata": {},
   "source": [
    "* We tried to check if there are operatorss that are in several tables tables and then assume that they are the most ineffective. We did not find any so we added them all to one common table that contains all the operators that were found to be ineffective.\n",
    "* There are 59 operators that seem to be inefficient enough."
   ]
  },
  {
   "cell_type": "code",
   "execution_count": 87,
   "metadata": {},
   "outputs": [
    {
     "data": {
      "text/html": [
       "<div>\n",
       "<style scoped>\n",
       "    .dataframe tbody tr th:only-of-type {\n",
       "        vertical-align: middle;\n",
       "    }\n",
       "\n",
       "    .dataframe tbody tr th {\n",
       "        vertical-align: top;\n",
       "    }\n",
       "\n",
       "    .dataframe thead th {\n",
       "        text-align: right;\n",
       "    }\n",
       "</style>\n",
       "<table border=\"1\" class=\"dataframe\">\n",
       "  <thead>\n",
       "    <tr style=\"text-align: right;\">\n",
       "      <th></th>\n",
       "      <th>user_id</th>\n",
       "      <th>date</th>\n",
       "      <th>direction</th>\n",
       "      <th>internal</th>\n",
       "      <th>operator_id</th>\n",
       "      <th>is_missed_call</th>\n",
       "      <th>calls_count</th>\n",
       "      <th>call_duration</th>\n",
       "      <th>total_call_duration</th>\n",
       "      <th>time_wait</th>\n",
       "    </tr>\n",
       "  </thead>\n",
       "  <tbody>\n",
       "    <tr>\n",
       "      <th>1</th>\n",
       "      <td>166377</td>\n",
       "      <td>2019-08-05</td>\n",
       "      <td>out</td>\n",
       "      <td>True</td>\n",
       "      <td>880022.0</td>\n",
       "      <td>True</td>\n",
       "      <td>3</td>\n",
       "      <td>0</td>\n",
       "      <td>5</td>\n",
       "      <td>5</td>\n",
       "    </tr>\n",
       "    <tr>\n",
       "      <th>2</th>\n",
       "      <td>166377</td>\n",
       "      <td>2019-08-05</td>\n",
       "      <td>out</td>\n",
       "      <td>True</td>\n",
       "      <td>880020.0</td>\n",
       "      <td>True</td>\n",
       "      <td>1</td>\n",
       "      <td>0</td>\n",
       "      <td>1</td>\n",
       "      <td>1</td>\n",
       "    </tr>\n",
       "    <tr>\n",
       "      <th>3</th>\n",
       "      <td>166377</td>\n",
       "      <td>2019-08-05</td>\n",
       "      <td>out</td>\n",
       "      <td>True</td>\n",
       "      <td>880020.0</td>\n",
       "      <td>False</td>\n",
       "      <td>1</td>\n",
       "      <td>10</td>\n",
       "      <td>18</td>\n",
       "      <td>8</td>\n",
       "    </tr>\n",
       "    <tr>\n",
       "      <th>4</th>\n",
       "      <td>166377</td>\n",
       "      <td>2019-08-05</td>\n",
       "      <td>out</td>\n",
       "      <td>False</td>\n",
       "      <td>880022.0</td>\n",
       "      <td>True</td>\n",
       "      <td>3</td>\n",
       "      <td>0</td>\n",
       "      <td>25</td>\n",
       "      <td>25</td>\n",
       "    </tr>\n",
       "    <tr>\n",
       "      <th>5</th>\n",
       "      <td>166377</td>\n",
       "      <td>2019-08-05</td>\n",
       "      <td>out</td>\n",
       "      <td>False</td>\n",
       "      <td>880020.0</td>\n",
       "      <td>False</td>\n",
       "      <td>2</td>\n",
       "      <td>3</td>\n",
       "      <td>29</td>\n",
       "      <td>26</td>\n",
       "    </tr>\n",
       "  </tbody>\n",
       "</table>\n",
       "</div>"
      ],
      "text/plain": [
       "  user_id        date direction internal operator_id  is_missed_call  \\\n",
       "1  166377  2019-08-05       out     True    880022.0            True   \n",
       "2  166377  2019-08-05       out     True    880020.0            True   \n",
       "3  166377  2019-08-05       out     True    880020.0           False   \n",
       "4  166377  2019-08-05       out    False    880022.0            True   \n",
       "5  166377  2019-08-05       out    False    880020.0           False   \n",
       "\n",
       "   calls_count  call_duration  total_call_duration  time_wait  \n",
       "1            3              0                    5          5  \n",
       "2            1              0                    1          1  \n",
       "3            1             10                   18          8  \n",
       "4            3              0                   25         25  \n",
       "5            2              3                   29         26  "
      ]
     },
     "execution_count": 87,
     "metadata": {},
     "output_type": "execute_result"
    }
   ],
   "source": [
    "telecom.head()"
   ]
  },
  {
   "cell_type": "code",
   "execution_count": 88,
   "metadata": {},
   "outputs": [
    {
     "data": {
      "text/html": [
       "<div>\n",
       "<style scoped>\n",
       "    .dataframe tbody tr th:only-of-type {\n",
       "        vertical-align: middle;\n",
       "    }\n",
       "\n",
       "    .dataframe tbody tr th {\n",
       "        vertical-align: top;\n",
       "    }\n",
       "\n",
       "    .dataframe thead th {\n",
       "        text-align: right;\n",
       "    }\n",
       "</style>\n",
       "<table border=\"1\" class=\"dataframe\">\n",
       "  <thead>\n",
       "    <tr style=\"text-align: right;\">\n",
       "      <th></th>\n",
       "      <th>user_id</th>\n",
       "      <th>date</th>\n",
       "      <th>direction</th>\n",
       "      <th>internal</th>\n",
       "      <th>operator_id</th>\n",
       "      <th>is_missed_call</th>\n",
       "      <th>calls_count</th>\n",
       "      <th>call_duration</th>\n",
       "      <th>total_call_duration</th>\n",
       "      <th>time_wait</th>\n",
       "    </tr>\n",
       "  </thead>\n",
       "  <tbody>\n",
       "    <tr>\n",
       "      <th>5</th>\n",
       "      <td>166377</td>\n",
       "      <td>2019-08-05</td>\n",
       "      <td>out</td>\n",
       "      <td>False</td>\n",
       "      <td>880020.0</td>\n",
       "      <td>False</td>\n",
       "      <td>2</td>\n",
       "      <td>3</td>\n",
       "      <td>29</td>\n",
       "      <td>26</td>\n",
       "    </tr>\n",
       "    <tr>\n",
       "      <th>13</th>\n",
       "      <td>166377</td>\n",
       "      <td>2019-08-06</td>\n",
       "      <td>out</td>\n",
       "      <td>False</td>\n",
       "      <td>880020.0</td>\n",
       "      <td>False</td>\n",
       "      <td>5</td>\n",
       "      <td>800</td>\n",
       "      <td>819</td>\n",
       "      <td>19</td>\n",
       "    </tr>\n",
       "    <tr>\n",
       "      <th>15</th>\n",
       "      <td>166377</td>\n",
       "      <td>2019-08-07</td>\n",
       "      <td>out</td>\n",
       "      <td>False</td>\n",
       "      <td>880026.0</td>\n",
       "      <td>False</td>\n",
       "      <td>1</td>\n",
       "      <td>21</td>\n",
       "      <td>28</td>\n",
       "      <td>7</td>\n",
       "    </tr>\n",
       "    <tr>\n",
       "      <th>16</th>\n",
       "      <td>166377</td>\n",
       "      <td>2019-08-07</td>\n",
       "      <td>out</td>\n",
       "      <td>False</td>\n",
       "      <td>880020.0</td>\n",
       "      <td>False</td>\n",
       "      <td>2</td>\n",
       "      <td>232</td>\n",
       "      <td>240</td>\n",
       "      <td>8</td>\n",
       "    </tr>\n",
       "    <tr>\n",
       "      <th>19</th>\n",
       "      <td>166377</td>\n",
       "      <td>2019-08-08</td>\n",
       "      <td>out</td>\n",
       "      <td>False</td>\n",
       "      <td>880022.0</td>\n",
       "      <td>False</td>\n",
       "      <td>2</td>\n",
       "      <td>558</td>\n",
       "      <td>568</td>\n",
       "      <td>10</td>\n",
       "    </tr>\n",
       "  </tbody>\n",
       "</table>\n",
       "</div>"
      ],
      "text/plain": [
       "   user_id        date direction internal operator_id  is_missed_call  \\\n",
       "5   166377  2019-08-05       out    False    880020.0           False   \n",
       "13  166377  2019-08-06       out    False    880020.0           False   \n",
       "15  166377  2019-08-07       out    False    880026.0           False   \n",
       "16  166377  2019-08-07       out    False    880020.0           False   \n",
       "19  166377  2019-08-08       out    False    880022.0           False   \n",
       "\n",
       "    calls_count  call_duration  total_call_duration  time_wait  \n",
       "5             2              3                   29         26  \n",
       "13            5            800                  819         19  \n",
       "15            1             21                   28          7  \n",
       "16            2            232                  240          8  \n",
       "19            2            558                  568         10  "
      ]
     },
     "execution_count": 88,
     "metadata": {},
     "output_type": "execute_result"
    }
   ],
   "source": [
    "out = telecom.query('direction==\"out\" and is_missed_call==False and internal==False')\n",
    "out.head()"
   ]
  },
  {
   "cell_type": "code",
   "execution_count": 89,
   "metadata": {},
   "outputs": [],
   "source": [
    "# the total users for each operator\n",
    "total_usr = telecom.groupby('operator_id')['user_id'].count().reset_index()\n",
    "total_usr.columns = ['operator_id', 'total_usr']\n"
   ]
  },
  {
   "cell_type": "code",
   "execution_count": 90,
   "metadata": {},
   "outputs": [],
   "source": [
    "# outgoing calls for each operator\n",
    "partial_usr = out.groupby('operator_id')['user_id'].count().reset_index()\n",
    "partial_usr.columns = ['operator_id', 'partial_usr']"
   ]
  },
  {
   "cell_type": "code",
   "execution_count": 91,
   "metadata": {},
   "outputs": [
    {
     "data": {
      "text/html": [
       "<div>\n",
       "<style scoped>\n",
       "    .dataframe tbody tr th:only-of-type {\n",
       "        vertical-align: middle;\n",
       "    }\n",
       "\n",
       "    .dataframe tbody tr th {\n",
       "        vertical-align: top;\n",
       "    }\n",
       "\n",
       "    .dataframe thead th {\n",
       "        text-align: right;\n",
       "    }\n",
       "</style>\n",
       "<table border=\"1\" class=\"dataframe\">\n",
       "  <thead>\n",
       "    <tr style=\"text-align: right;\">\n",
       "      <th></th>\n",
       "      <th>operator_id</th>\n",
       "      <th>total_usr</th>\n",
       "      <th>partial_usr</th>\n",
       "    </tr>\n",
       "  </thead>\n",
       "  <tbody>\n",
       "    <tr>\n",
       "      <th>0</th>\n",
       "      <td>879896.0</td>\n",
       "      <td>115</td>\n",
       "      <td>44</td>\n",
       "    </tr>\n",
       "    <tr>\n",
       "      <th>1</th>\n",
       "      <td>879898.0</td>\n",
       "      <td>224</td>\n",
       "      <td>79</td>\n",
       "    </tr>\n",
       "    <tr>\n",
       "      <th>2</th>\n",
       "      <td>880020.0</td>\n",
       "      <td>19</td>\n",
       "      <td>6</td>\n",
       "    </tr>\n",
       "    <tr>\n",
       "      <th>3</th>\n",
       "      <td>880022.0</td>\n",
       "      <td>65</td>\n",
       "      <td>33</td>\n",
       "    </tr>\n",
       "    <tr>\n",
       "      <th>4</th>\n",
       "      <td>880026.0</td>\n",
       "      <td>173</td>\n",
       "      <td>77</td>\n",
       "    </tr>\n",
       "    <tr>\n",
       "      <th>...</th>\n",
       "      <td>...</td>\n",
       "      <td>...</td>\n",
       "      <td>...</td>\n",
       "    </tr>\n",
       "    <tr>\n",
       "      <th>1087</th>\n",
       "      <td>972410.0</td>\n",
       "      <td>4</td>\n",
       "      <td>2</td>\n",
       "    </tr>\n",
       "    <tr>\n",
       "      <th>1088</th>\n",
       "      <td>972412.0</td>\n",
       "      <td>5</td>\n",
       "      <td>2</td>\n",
       "    </tr>\n",
       "    <tr>\n",
       "      <th>1089</th>\n",
       "      <td>972460.0</td>\n",
       "      <td>7</td>\n",
       "      <td>2</td>\n",
       "    </tr>\n",
       "    <tr>\n",
       "      <th>1090</th>\n",
       "      <td>973120.0</td>\n",
       "      <td>2</td>\n",
       "      <td>1</td>\n",
       "    </tr>\n",
       "    <tr>\n",
       "      <th>1091</th>\n",
       "      <td>973286.0</td>\n",
       "      <td>1</td>\n",
       "      <td>0</td>\n",
       "    </tr>\n",
       "  </tbody>\n",
       "</table>\n",
       "<p>1092 rows × 3 columns</p>\n",
       "</div>"
      ],
      "text/plain": [
       "     operator_id  total_usr  partial_usr\n",
       "0       879896.0        115           44\n",
       "1       879898.0        224           79\n",
       "2       880020.0         19            6\n",
       "3       880022.0         65           33\n",
       "4       880026.0        173           77\n",
       "...          ...        ...          ...\n",
       "1087    972410.0          4            2\n",
       "1088    972412.0          5            2\n",
       "1089    972460.0          7            2\n",
       "1090    973120.0          2            1\n",
       "1091    973286.0          1            0\n",
       "\n",
       "[1092 rows x 3 columns]"
      ]
     },
     "execution_count": 91,
     "metadata": {},
     "output_type": "execute_result"
    }
   ],
   "source": [
    "users_operator = total_usr.merge(partial_usr, on='operator_id')\n",
    "users_operator"
   ]
  },
  {
   "cell_type": "code",
   "execution_count": 92,
   "metadata": {},
   "outputs": [
    {
     "data": {
      "text/plain": [
       "417"
      ]
     },
     "execution_count": 92,
     "metadata": {},
     "output_type": "execute_result"
    }
   ],
   "source": [
    "# calculating the partiak number of outgoing calls of total to each operator\n",
    "users_operator['prcnt_effective_calls'] = users_operator['partial_usr'] / users_operator['total_usr'] * 100\n",
    "users_operator['prcnt_effective_calls'] = users_operator['prcnt_effective_calls']\n",
    "users_operator.sort_values(by='prcnt_effective_calls')\n",
    "# excluding velues where total_usr=0\n",
    "users_operator = users_operator[users_operator['total_usr'] > 0]\n",
    "#looking values of prcnt_effective_calls under 20%\n",
    "users_operator[users_operator['prcnt_effective_calls']<20].sort_values(by='prcnt_effective_calls').shape[0]"
   ]
  },
  {
   "cell_type": "markdown",
   "metadata": {},
   "source": [
    "We calculated the number of out going calls of all the calls to each operator. Good operators have high percent of out going calls to its users. There are 417 users which have less than 20% of outgoing calls. We should think what is the percent that is considered inefficient."
   ]
  },
  {
   "cell_type": "markdown",
   "metadata": {},
   "source": [
    "# Hypotheses   <a class=\"anchor\" id=\"chapter4\"></a>"
   ]
  },
  {
   "cell_type": "markdown",
   "metadata": {},
   "source": [
    "## Prepering data and getting more information <a class=\"anchor\" id=\"section_4_1\"></a> "
   ]
  },
  {
   "cell_type": "markdown",
   "metadata": {},
   "source": [
    "Our hypotheses test the duration of calls for each tariff. We will merge the data sets together :"
   ]
  },
  {
   "cell_type": "code",
   "execution_count": 93,
   "metadata": {},
   "outputs": [
    {
     "data": {
      "text/html": [
       "<div>\n",
       "<style scoped>\n",
       "    .dataframe tbody tr th:only-of-type {\n",
       "        vertical-align: middle;\n",
       "    }\n",
       "\n",
       "    .dataframe tbody tr th {\n",
       "        vertical-align: top;\n",
       "    }\n",
       "\n",
       "    .dataframe thead th {\n",
       "        text-align: right;\n",
       "    }\n",
       "</style>\n",
       "<table border=\"1\" class=\"dataframe\">\n",
       "  <thead>\n",
       "    <tr style=\"text-align: right;\">\n",
       "      <th></th>\n",
       "      <th>user_id</th>\n",
       "      <th>date</th>\n",
       "      <th>direction</th>\n",
       "      <th>internal</th>\n",
       "      <th>operator_id</th>\n",
       "      <th>is_missed_call</th>\n",
       "      <th>calls_count</th>\n",
       "      <th>call_duration</th>\n",
       "      <th>total_call_duration</th>\n",
       "      <th>time_wait</th>\n",
       "    </tr>\n",
       "  </thead>\n",
       "  <tbody>\n",
       "    <tr>\n",
       "      <th>1</th>\n",
       "      <td>166377</td>\n",
       "      <td>2019-08-05</td>\n",
       "      <td>out</td>\n",
       "      <td>True</td>\n",
       "      <td>880022.0</td>\n",
       "      <td>True</td>\n",
       "      <td>3</td>\n",
       "      <td>0</td>\n",
       "      <td>5</td>\n",
       "      <td>5</td>\n",
       "    </tr>\n",
       "    <tr>\n",
       "      <th>2</th>\n",
       "      <td>166377</td>\n",
       "      <td>2019-08-05</td>\n",
       "      <td>out</td>\n",
       "      <td>True</td>\n",
       "      <td>880020.0</td>\n",
       "      <td>True</td>\n",
       "      <td>1</td>\n",
       "      <td>0</td>\n",
       "      <td>1</td>\n",
       "      <td>1</td>\n",
       "    </tr>\n",
       "    <tr>\n",
       "      <th>3</th>\n",
       "      <td>166377</td>\n",
       "      <td>2019-08-05</td>\n",
       "      <td>out</td>\n",
       "      <td>True</td>\n",
       "      <td>880020.0</td>\n",
       "      <td>False</td>\n",
       "      <td>1</td>\n",
       "      <td>10</td>\n",
       "      <td>18</td>\n",
       "      <td>8</td>\n",
       "    </tr>\n",
       "    <tr>\n",
       "      <th>4</th>\n",
       "      <td>166377</td>\n",
       "      <td>2019-08-05</td>\n",
       "      <td>out</td>\n",
       "      <td>False</td>\n",
       "      <td>880022.0</td>\n",
       "      <td>True</td>\n",
       "      <td>3</td>\n",
       "      <td>0</td>\n",
       "      <td>25</td>\n",
       "      <td>25</td>\n",
       "    </tr>\n",
       "    <tr>\n",
       "      <th>5</th>\n",
       "      <td>166377</td>\n",
       "      <td>2019-08-05</td>\n",
       "      <td>out</td>\n",
       "      <td>False</td>\n",
       "      <td>880020.0</td>\n",
       "      <td>False</td>\n",
       "      <td>2</td>\n",
       "      <td>3</td>\n",
       "      <td>29</td>\n",
       "      <td>26</td>\n",
       "    </tr>\n",
       "  </tbody>\n",
       "</table>\n",
       "</div>"
      ],
      "text/plain": [
       "  user_id        date direction internal operator_id  is_missed_call  \\\n",
       "1  166377  2019-08-05       out     True    880022.0            True   \n",
       "2  166377  2019-08-05       out     True    880020.0            True   \n",
       "3  166377  2019-08-05       out     True    880020.0           False   \n",
       "4  166377  2019-08-05       out    False    880022.0            True   \n",
       "5  166377  2019-08-05       out    False    880020.0           False   \n",
       "\n",
       "   calls_count  call_duration  total_call_duration  time_wait  \n",
       "1            3              0                    5          5  \n",
       "2            1              0                    1          1  \n",
       "3            1             10                   18          8  \n",
       "4            3              0                   25         25  \n",
       "5            2              3                   29         26  "
      ]
     },
     "execution_count": 93,
     "metadata": {},
     "output_type": "execute_result"
    }
   ],
   "source": [
    "telecom.head()"
   ]
  },
  {
   "cell_type": "code",
   "execution_count": 94,
   "metadata": {},
   "outputs": [
    {
     "data": {
      "text/html": [
       "<div>\n",
       "<style scoped>\n",
       "    .dataframe tbody tr th:only-of-type {\n",
       "        vertical-align: middle;\n",
       "    }\n",
       "\n",
       "    .dataframe tbody tr th {\n",
       "        vertical-align: top;\n",
       "    }\n",
       "\n",
       "    .dataframe thead th {\n",
       "        text-align: right;\n",
       "    }\n",
       "</style>\n",
       "<table border=\"1\" class=\"dataframe\">\n",
       "  <thead>\n",
       "    <tr style=\"text-align: right;\">\n",
       "      <th></th>\n",
       "      <th>user_id</th>\n",
       "      <th>tariff_plan</th>\n",
       "      <th>date_start</th>\n",
       "    </tr>\n",
       "  </thead>\n",
       "  <tbody>\n",
       "    <tr>\n",
       "      <th>0</th>\n",
       "      <td>166713</td>\n",
       "      <td>A</td>\n",
       "      <td>2019-08-15</td>\n",
       "    </tr>\n",
       "    <tr>\n",
       "      <th>1</th>\n",
       "      <td>166901</td>\n",
       "      <td>A</td>\n",
       "      <td>2019-08-23</td>\n",
       "    </tr>\n",
       "    <tr>\n",
       "      <th>2</th>\n",
       "      <td>168527</td>\n",
       "      <td>A</td>\n",
       "      <td>2019-10-29</td>\n",
       "    </tr>\n",
       "    <tr>\n",
       "      <th>3</th>\n",
       "      <td>167097</td>\n",
       "      <td>A</td>\n",
       "      <td>2019-09-01</td>\n",
       "    </tr>\n",
       "    <tr>\n",
       "      <th>4</th>\n",
       "      <td>168193</td>\n",
       "      <td>A</td>\n",
       "      <td>2019-10-16</td>\n",
       "    </tr>\n",
       "  </tbody>\n",
       "</table>\n",
       "</div>"
      ],
      "text/plain": [
       "   user_id tariff_plan date_start\n",
       "0   166713           A 2019-08-15\n",
       "1   166901           A 2019-08-23\n",
       "2   168527           A 2019-10-29\n",
       "3   167097           A 2019-09-01\n",
       "4   168193           A 2019-10-16"
      ]
     },
     "execution_count": 94,
     "metadata": {},
     "output_type": "execute_result"
    }
   ],
   "source": [
    "users.head()"
   ]
  },
  {
   "cell_type": "code",
   "execution_count": 95,
   "metadata": {},
   "outputs": [],
   "source": [
    "# users and telecom merged data\n",
    "telecom_tariff = (\n",
    "    telecom[['user_id', 'operator_id', 'calls_count', 'call_duration', 'time_wait']]\n",
    "    .merge(users[['user_id', 'tariff_plan']], on='user_id')\n",
    ")"
   ]
  },
  {
   "cell_type": "code",
   "execution_count": 96,
   "metadata": {},
   "outputs": [
    {
     "data": {
      "text/html": [
       "<div>\n",
       "<style scoped>\n",
       "    .dataframe tbody tr th:only-of-type {\n",
       "        vertical-align: middle;\n",
       "    }\n",
       "\n",
       "    .dataframe tbody tr th {\n",
       "        vertical-align: top;\n",
       "    }\n",
       "\n",
       "    .dataframe thead th {\n",
       "        text-align: right;\n",
       "    }\n",
       "</style>\n",
       "<table border=\"1\" class=\"dataframe\">\n",
       "  <thead>\n",
       "    <tr style=\"text-align: right;\">\n",
       "      <th></th>\n",
       "      <th>user_id</th>\n",
       "      <th>operator_id</th>\n",
       "      <th>calls_count</th>\n",
       "      <th>call_duration</th>\n",
       "      <th>time_wait</th>\n",
       "      <th>tariff_plan</th>\n",
       "    </tr>\n",
       "  </thead>\n",
       "  <tbody>\n",
       "    <tr>\n",
       "      <th>0</th>\n",
       "      <td>166377</td>\n",
       "      <td>880022.0</td>\n",
       "      <td>3</td>\n",
       "      <td>0</td>\n",
       "      <td>5</td>\n",
       "      <td>B</td>\n",
       "    </tr>\n",
       "    <tr>\n",
       "      <th>1</th>\n",
       "      <td>166377</td>\n",
       "      <td>880020.0</td>\n",
       "      <td>1</td>\n",
       "      <td>0</td>\n",
       "      <td>1</td>\n",
       "      <td>B</td>\n",
       "    </tr>\n",
       "    <tr>\n",
       "      <th>2</th>\n",
       "      <td>166377</td>\n",
       "      <td>880020.0</td>\n",
       "      <td>1</td>\n",
       "      <td>10</td>\n",
       "      <td>8</td>\n",
       "      <td>B</td>\n",
       "    </tr>\n",
       "    <tr>\n",
       "      <th>3</th>\n",
       "      <td>166377</td>\n",
       "      <td>880022.0</td>\n",
       "      <td>3</td>\n",
       "      <td>0</td>\n",
       "      <td>25</td>\n",
       "      <td>B</td>\n",
       "    </tr>\n",
       "    <tr>\n",
       "      <th>4</th>\n",
       "      <td>166377</td>\n",
       "      <td>880020.0</td>\n",
       "      <td>2</td>\n",
       "      <td>3</td>\n",
       "      <td>26</td>\n",
       "      <td>B</td>\n",
       "    </tr>\n",
       "  </tbody>\n",
       "</table>\n",
       "</div>"
      ],
      "text/plain": [
       "   user_id operator_id  calls_count  call_duration  time_wait tariff_plan\n",
       "0   166377    880022.0            3              0          5           B\n",
       "1   166377    880020.0            1              0          1           B\n",
       "2   166377    880020.0            1             10          8           B\n",
       "3   166377    880022.0            3              0         25           B\n",
       "4   166377    880020.0            2              3         26           B"
      ]
     },
     "execution_count": 96,
     "metadata": {},
     "output_type": "execute_result"
    }
   ],
   "source": [
    "telecom_tariff.head()"
   ]
  },
  {
   "cell_type": "code",
   "execution_count": 97,
   "metadata": {
    "scrolled": false
   },
   "outputs": [
    {
     "data": {
      "image/png": "[encoded data removed]",
      "text/plain": [
       "<Figure size 864x288 with 3 Axes>"
      ]
     },
     "metadata": {
      "needs_background": "light"
     },
     "output_type": "display_data"
    },
    {
     "data": {
      "image/png": "[encoded data removed]",
      "text/plain": [
       "<Figure size 864x288 with 3 Axes>"
      ]
     },
     "metadata": {
      "needs_background": "light"
     },
     "output_type": "display_data"
    },
    {
     "data": {
      "image/png": "[encoded data removed]",
      "text/plain": [
       "<Figure size 864x288 with 3 Axes>"
      ]
     },
     "metadata": {
      "needs_background": "light"
     },
     "output_type": "display_data"
    },
    {
     "data": {
      "image/png": "[encoded data removed]",
      "text/plain": [
       "<Figure size 864x288 with 3 Axes>"
      ]
     },
     "metadata": {
      "needs_background": "light"
     },
     "output_type": "display_data"
    },
    {
     "data": {
      "image/png": "[encoded data removed]",
      "text/plain": [
       "<Figure size 864x288 with 3 Axes>"
      ]
     },
     "metadata": {
      "needs_background": "light"
     },
     "output_type": "display_data"
    }
   ],
   "source": [
    "# more information about each column \n",
    "for clmn in telecom_tariff[['user_id', 'operator_id', 'calls_count', 'call_duration' ,'time_wait']]:    \n",
    "    g = sns.FacetGrid(telecom_tariff,col='tariff_plan', height=4)\n",
    "    g.map(plt.hist, clmn)"
   ]
  },
  {
   "cell_type": "markdown",
   "metadata": {},
   "source": [
    "The distribution in the duration time column is not normall so we can't use parametric tests ."
   ]
  },
  {
   "cell_type": "code",
   "execution_count": 98,
   "metadata": {},
   "outputs": [],
   "source": [
    "A = telecom_tariff[telecom_tariff['tariff_plan']=='A']\n"
   ]
  },
  {
   "cell_type": "code",
   "execution_count": 99,
   "metadata": {},
   "outputs": [
    {
     "data": {
      "text/html": [
       "<div>\n",
       "<style scoped>\n",
       "    .dataframe tbody tr th:only-of-type {\n",
       "        vertical-align: middle;\n",
       "    }\n",
       "\n",
       "    .dataframe tbody tr th {\n",
       "        vertical-align: top;\n",
       "    }\n",
       "\n",
       "    .dataframe thead th {\n",
       "        text-align: right;\n",
       "    }\n",
       "</style>\n",
       "<table border=\"1\" class=\"dataframe\">\n",
       "  <thead>\n",
       "    <tr style=\"text-align: right;\">\n",
       "      <th></th>\n",
       "      <th>user_id</th>\n",
       "      <th>calls_count</th>\n",
       "      <th>call_duration</th>\n",
       "      <th>time_wait</th>\n",
       "    </tr>\n",
       "  </thead>\n",
       "  <tbody>\n",
       "    <tr>\n",
       "      <th>count</th>\n",
       "      <td>11998.000000</td>\n",
       "      <td>11998.000000</td>\n",
       "      <td>11998.000000</td>\n",
       "      <td>11998.000000</td>\n",
       "    </tr>\n",
       "    <tr>\n",
       "      <th>mean</th>\n",
       "      <td>167635.399733</td>\n",
       "      <td>29.948491</td>\n",
       "      <td>1572.467995</td>\n",
       "      <td>609.624937</td>\n",
       "    </tr>\n",
       "    <tr>\n",
       "      <th>std</th>\n",
       "      <td>625.843547</td>\n",
       "      <td>77.475886</td>\n",
       "      <td>5432.715504</td>\n",
       "      <td>1813.741706</td>\n",
       "    </tr>\n",
       "    <tr>\n",
       "      <th>min</th>\n",
       "      <td>166407.000000</td>\n",
       "      <td>1.000000</td>\n",
       "      <td>0.000000</td>\n",
       "      <td>0.000000</td>\n",
       "    </tr>\n",
       "    <tr>\n",
       "      <th>25%</th>\n",
       "      <td>166916.000000</td>\n",
       "      <td>2.000000</td>\n",
       "      <td>0.000000</td>\n",
       "      <td>23.000000</td>\n",
       "    </tr>\n",
       "    <tr>\n",
       "      <th>50%</th>\n",
       "      <td>167799.000000</td>\n",
       "      <td>6.000000</td>\n",
       "      <td>111.000000</td>\n",
       "      <td>84.000000</td>\n",
       "    </tr>\n",
       "    <tr>\n",
       "      <th>75%</th>\n",
       "      <td>168187.000000</td>\n",
       "      <td>27.000000</td>\n",
       "      <td>883.750000</td>\n",
       "      <td>484.000000</td>\n",
       "    </tr>\n",
       "    <tr>\n",
       "      <th>max</th>\n",
       "      <td>168459.000000</td>\n",
       "      <td>1248.000000</td>\n",
       "      <td>83560.000000</td>\n",
       "      <td>46474.000000</td>\n",
       "    </tr>\n",
       "  </tbody>\n",
       "</table>\n",
       "</div>"
      ],
      "text/plain": [
       "             user_id   calls_count  call_duration     time_wait\n",
       "count   11998.000000  11998.000000   11998.000000  11998.000000\n",
       "mean   167635.399733     29.948491    1572.467995    609.624937\n",
       "std       625.843547     77.475886    5432.715504   1813.741706\n",
       "min    166407.000000      1.000000       0.000000      0.000000\n",
       "25%    166916.000000      2.000000       0.000000     23.000000\n",
       "50%    167799.000000      6.000000     111.000000     84.000000\n",
       "75%    168187.000000     27.000000     883.750000    484.000000\n",
       "max    168459.000000   1248.000000   83560.000000  46474.000000"
      ]
     },
     "execution_count": 99,
     "metadata": {},
     "output_type": "execute_result"
    }
   ],
   "source": [
    "A.describe()"
   ]
  },
  {
   "cell_type": "code",
   "execution_count": 100,
   "metadata": {},
   "outputs": [],
   "source": [
    "B = telecom_tariff[telecom_tariff['tariff_plan']=='B']"
   ]
  },
  {
   "cell_type": "code",
   "execution_count": 101,
   "metadata": {},
   "outputs": [
    {
     "data": {
      "text/html": [
       "<div>\n",
       "<style scoped>\n",
       "    .dataframe tbody tr th:only-of-type {\n",
       "        vertical-align: middle;\n",
       "    }\n",
       "\n",
       "    .dataframe tbody tr th {\n",
       "        vertical-align: top;\n",
       "    }\n",
       "\n",
       "    .dataframe thead th {\n",
       "        text-align: right;\n",
       "    }\n",
       "</style>\n",
       "<table border=\"1\" class=\"dataframe\">\n",
       "  <thead>\n",
       "    <tr style=\"text-align: right;\">\n",
       "      <th></th>\n",
       "      <th>user_id</th>\n",
       "      <th>calls_count</th>\n",
       "      <th>call_duration</th>\n",
       "      <th>time_wait</th>\n",
       "    </tr>\n",
       "  </thead>\n",
       "  <tbody>\n",
       "    <tr>\n",
       "      <th>count</th>\n",
       "      <td>14219.000000</td>\n",
       "      <td>14219.000000</td>\n",
       "      <td>14219.000000</td>\n",
       "      <td>14219.000000</td>\n",
       "    </tr>\n",
       "    <tr>\n",
       "      <th>mean</th>\n",
       "      <td>167093.148885</td>\n",
       "      <td>9.726915</td>\n",
       "      <td>729.122653</td>\n",
       "      <td>166.190590</td>\n",
       "    </tr>\n",
       "    <tr>\n",
       "      <th>std</th>\n",
       "      <td>556.602011</td>\n",
       "      <td>16.918139</td>\n",
       "      <td>1398.001228</td>\n",
       "      <td>302.365314</td>\n",
       "    </tr>\n",
       "    <tr>\n",
       "      <th>min</th>\n",
       "      <td>166377.000000</td>\n",
       "      <td>1.000000</td>\n",
       "      <td>0.000000</td>\n",
       "      <td>1.000000</td>\n",
       "    </tr>\n",
       "    <tr>\n",
       "      <th>25%</th>\n",
       "      <td>166658.000000</td>\n",
       "      <td>1.000000</td>\n",
       "      <td>0.000000</td>\n",
       "      <td>20.000000</td>\n",
       "    </tr>\n",
       "    <tr>\n",
       "      <th>50%</th>\n",
       "      <td>167071.000000</td>\n",
       "      <td>4.000000</td>\n",
       "      <td>118.000000</td>\n",
       "      <td>58.000000</td>\n",
       "    </tr>\n",
       "    <tr>\n",
       "      <th>75%</th>\n",
       "      <td>167479.000000</td>\n",
       "      <td>10.000000</td>\n",
       "      <td>812.000000</td>\n",
       "      <td>178.000000</td>\n",
       "    </tr>\n",
       "    <tr>\n",
       "      <th>max</th>\n",
       "      <td>168603.000000</td>\n",
       "      <td>267.000000</td>\n",
       "      <td>20223.000000</td>\n",
       "      <td>4171.000000</td>\n",
       "    </tr>\n",
       "  </tbody>\n",
       "</table>\n",
       "</div>"
      ],
      "text/plain": [
       "             user_id   calls_count  call_duration     time_wait\n",
       "count   14219.000000  14219.000000   14219.000000  14219.000000\n",
       "mean   167093.148885      9.726915     729.122653    166.190590\n",
       "std       556.602011     16.918139    1398.001228    302.365314\n",
       "min    166377.000000      1.000000       0.000000      1.000000\n",
       "25%    166658.000000      1.000000       0.000000     20.000000\n",
       "50%    167071.000000      4.000000     118.000000     58.000000\n",
       "75%    167479.000000     10.000000     812.000000    178.000000\n",
       "max    168603.000000    267.000000   20223.000000   4171.000000"
      ]
     },
     "execution_count": 101,
     "metadata": {},
     "output_type": "execute_result"
    }
   ],
   "source": [
    "B.describe()"
   ]
  },
  {
   "cell_type": "code",
   "execution_count": 102,
   "metadata": {},
   "outputs": [],
   "source": [
    "C = telecom_tariff[telecom_tariff['tariff_plan']=='C']"
   ]
  },
  {
   "cell_type": "code",
   "execution_count": 103,
   "metadata": {},
   "outputs": [
    {
     "data": {
      "text/html": [
       "<div>\n",
       "<style scoped>\n",
       "    .dataframe tbody tr th:only-of-type {\n",
       "        vertical-align: middle;\n",
       "    }\n",
       "\n",
       "    .dataframe tbody tr th {\n",
       "        vertical-align: top;\n",
       "    }\n",
       "\n",
       "    .dataframe thead th {\n",
       "        text-align: right;\n",
       "    }\n",
       "</style>\n",
       "<table border=\"1\" class=\"dataframe\">\n",
       "  <thead>\n",
       "    <tr style=\"text-align: right;\">\n",
       "      <th></th>\n",
       "      <th>user_id</th>\n",
       "      <th>calls_count</th>\n",
       "      <th>call_duration</th>\n",
       "      <th>time_wait</th>\n",
       "    </tr>\n",
       "  </thead>\n",
       "  <tbody>\n",
       "    <tr>\n",
       "      <th>count</th>\n",
       "      <td>14369.000000</td>\n",
       "      <td>14369.000000</td>\n",
       "      <td>14369.000000</td>\n",
       "      <td>14369.000000</td>\n",
       "    </tr>\n",
       "    <tr>\n",
       "      <th>mean</th>\n",
       "      <td>167228.453407</td>\n",
       "      <td>12.685991</td>\n",
       "      <td>712.729209</td>\n",
       "      <td>202.006751</td>\n",
       "    </tr>\n",
       "    <tr>\n",
       "      <th>std</th>\n",
       "      <td>489.744506</td>\n",
       "      <td>58.407338</td>\n",
       "      <td>1486.932689</td>\n",
       "      <td>765.839212</td>\n",
       "    </tr>\n",
       "    <tr>\n",
       "      <th>min</th>\n",
       "      <td>166391.000000</td>\n",
       "      <td>1.000000</td>\n",
       "      <td>0.000000</td>\n",
       "      <td>0.000000</td>\n",
       "    </tr>\n",
       "    <tr>\n",
       "      <th>25%</th>\n",
       "      <td>166973.000000</td>\n",
       "      <td>1.000000</td>\n",
       "      <td>0.000000</td>\n",
       "      <td>19.000000</td>\n",
       "    </tr>\n",
       "    <tr>\n",
       "      <th>50%</th>\n",
       "      <td>167109.000000</td>\n",
       "      <td>4.000000</td>\n",
       "      <td>120.000000</td>\n",
       "      <td>58.000000</td>\n",
       "    </tr>\n",
       "    <tr>\n",
       "      <th>75%</th>\n",
       "      <td>167575.000000</td>\n",
       "      <td>13.000000</td>\n",
       "      <td>744.000000</td>\n",
       "      <td>186.000000</td>\n",
       "    </tr>\n",
       "    <tr>\n",
       "      <th>max</th>\n",
       "      <td>168606.000000</td>\n",
       "      <td>4817.000000</td>\n",
       "      <td>41344.000000</td>\n",
       "      <td>45312.000000</td>\n",
       "    </tr>\n",
       "  </tbody>\n",
       "</table>\n",
       "</div>"
      ],
      "text/plain": [
       "             user_id   calls_count  call_duration     time_wait\n",
       "count   14369.000000  14369.000000   14369.000000  14369.000000\n",
       "mean   167228.453407     12.685991     712.729209    202.006751\n",
       "std       489.744506     58.407338    1486.932689    765.839212\n",
       "min    166391.000000      1.000000       0.000000      0.000000\n",
       "25%    166973.000000      1.000000       0.000000     19.000000\n",
       "50%    167109.000000      4.000000     120.000000     58.000000\n",
       "75%    167575.000000     13.000000     744.000000    186.000000\n",
       "max    168606.000000   4817.000000   41344.000000  45312.000000"
      ]
     },
     "execution_count": 103,
     "metadata": {},
     "output_type": "execute_result"
    }
   ],
   "source": [
    "C.describe()"
   ]
  },
  {
   "cell_type": "code",
   "execution_count": 104,
   "metadata": {},
   "outputs": [
    {
     "data": {
      "text/plain": [
       "Text(0, 0.5, 'count')"
      ]
     },
     "execution_count": 104,
     "metadata": {},
     "output_type": "execute_result"
    },
    {
     "data": {
      "image/png": "[encoded data removed]",
      "text/plain": [
       "<Figure size 432x288 with 1 Axes>"
      ]
     },
     "metadata": {
      "needs_background": "light"
     },
     "output_type": "display_data"
    },
    {
     "data": {
      "image/png": "[encoded data removed]",
      "text/plain": [
       "<Figure size 432x288 with 1 Axes>"
      ]
     },
     "metadata": {
      "needs_background": "light"
     },
     "output_type": "display_data"
    },
    {
     "data": {
      "image/png": "[encoded data removed]",
      "text/plain": [
       "<Figure size 432x288 with 1 Axes>"
      ]
     },
     "metadata": {
      "needs_background": "light"
     },
     "output_type": "display_data"
    }
   ],
   "source": [
    "\n",
    "A.hist('call_duration', range=(0,2000))\n",
    "plt.title('A distribution')\n",
    "plt.xlabel('call_duration')\n",
    "plt.ylabel('count')\n",
    "\n",
    "\n",
    "B.hist('call_duration', range=(0,2000))\n",
    "plt.title('B distribution')\n",
    "plt.xlabel('call_duration')\n",
    "plt.ylabel('count')\n",
    "\n",
    "C.hist('call_duration', range=(0,2000))\n",
    "plt.title('C distribution')\n",
    "plt.xlabel('call_duration')\n",
    "plt.ylabel('count')"
   ]
  },
  {
   "cell_type": "markdown",
   "metadata": {},
   "source": [
    "Looks that the three prots are similar. We will make a testing to see a deaper resolution of the differences between tariff groups. "
   ]
  },
  {
   "cell_type": "markdown",
   "metadata": {},
   "source": [
    "## Testing hypothesis <a class=\"anchor\" id=\"section_4_2\"></a> "
   ]
  },
  {
   "cell_type": "markdown",
   "metadata": {},
   "source": [
    "* Hypothesis : The duration call of each tariff group are significantly different. \n",
    "* To check the hypothsis we will use Mann-Whitney test because our data isn't distributed normaly.\n",
    "* The Mann-Whitney U test is a nonparametric statistical significance test for determining whether two independent samples were drawn from a population with the same distribution.\n",
    " \n"
   ]
  },
  {
   "cell_type": "code",
   "execution_count": 105,
   "metadata": {},
   "outputs": [],
   "source": [
    "A_duration = A['call_duration']\n",
    "B_duration = B['call_duration']\n",
    "C_duration = C['call_duration']"
   ]
  },
  {
   "cell_type": "code",
   "execution_count": 106,
   "metadata": {},
   "outputs": [],
   "source": [
    "# Null hypothsis : The groups are equal\n",
    "# H1 Hypothsis: The groups are not equal.\n",
    "\n",
    "# Mann-Whitney U test\n",
    "def MannW(group_1, group_2):\n",
    "    alpha = .05 #significance level\n",
    "\n",
    "    results = st.mannwhitneyu(group_1, group_2)\n",
    "\n",
    "    print('p-value: ', results.pvalue)\n",
    "\n",
    "    if (results.pvalue < alpha):\n",
    "        print(\"Null hypothesis rejected: the difference is statistically significant\")\n",
    "    else:\n",
    "        print(\"Failed to reject the null hypothesis: we can't make conclusions about the difference\") "
   ]
  },
  {
   "cell_type": "code",
   "execution_count": 107,
   "metadata": {},
   "outputs": [
    {
     "name": "stdout",
     "output_type": "stream",
     "text": [
      "p-value:  0.029114022577915122\n",
      "Null hypothesis rejected: the difference is statistically significant\n"
     ]
    }
   ],
   "source": [
    "# A compere with B \n",
    "MannW(A_duration, B_duration)"
   ]
  },
  {
   "cell_type": "code",
   "execution_count": 108,
   "metadata": {},
   "outputs": [
    {
     "name": "stdout",
     "output_type": "stream",
     "text": [
      "p-value:  0.2060251546636619\n",
      "Failed to reject the null hypothesis: we can't make conclusions about the difference\n"
     ]
    }
   ],
   "source": [
    "# A compere with C\n",
    "MannW(A_duration, C_duration)"
   ]
  },
  {
   "cell_type": "code",
   "execution_count": 109,
   "metadata": {},
   "outputs": [
    {
     "name": "stdout",
     "output_type": "stream",
     "text": [
      "p-value:  0.16997576903836886\n",
      "Failed to reject the null hypothesis: we can't make conclusions about the difference\n"
     ]
    }
   ],
   "source": [
    "# B compere with C\n",
    "MannW(B_duration, C_duration)"
   ]
  },
  {
   "cell_type": "markdown",
   "metadata": {},
   "source": [
    "* Its intresting to see that groups A with C and B with C are consider equal in compere with the groups A with B that is different . \n",
    "* The p value of the two lest test are big That even if we raise the alpha the result won't change. "
   ]
  },
  {
   "cell_type": "markdown",
   "metadata": {},
   "source": [
    "# Conclusion   <a class=\"anchor\" id=\"chapter5\"></a>"
   ]
  },
  {
   "cell_type": "markdown",
   "metadata": {},
   "source": [
    "* Our goal in the telecom company focused on the activity of the operators. We examined which operator is less efficient in a number of parameters:largest number of missed calls, longest waiting time for answer, average call duration.\n",
    "* Call duration - We found that inefficient operators have 10-20 minutes average call duration while the average is 1.7 minutes and therefore we claim that above 8 minutes the call is inefficient.\n",
    "* missed calls - we calculated the number of missing calls of total calls for each operator. there are operators with 30% and more misiing calls that we claim it is very efficient.\n",
    "* waiting for answer - The time until there is an answer could get to 17.5 minutes. Above 5 minutes is long enough to be considered ineffective.\n",
    "* Hypotheses - We claim that the duration call of each tariff group are significantly different:\n",
    "    To check the hypothsis we used Mann-Whitney test because our data isn't distributed normaly.\n",
    "    It seems that only groups A and B are not equal . It means that duration call can be considered deifferent between groups .\n",
    "* We did not find  any operators that belonged to many parameters. This means that each operator has its own weakness that needs to be addressed. \n",
    "* Now that we found the inefficient operators, we must examine the causes for inefficiency for most operators, and then act accordingly to improve operator activity.    "
   ]
  },
  {
   "cell_type": "markdown",
   "metadata": {},
   "source": [
    "# Presentation  <a class=\"anchor\" id=\"chapter6\"></a>"
   ]
  },
  {
   "cell_type": "markdown",
   "metadata": {},
   "source": [
    "[Telecom presentation](https://drive.google.com/file/d/12KOW4ukZpV-E35gI7YdB0bLchxi4Nivu/view?usp=sharing)"
   ]
  },
  {
   "cell_type": "markdown",
   "metadata": {},
   "source": [
    "# Dashboard  <a class=\"anchor\" id=\"chapter7\"></a>"
   ]
  },
  {
   "cell_type": "markdown",
   "metadata": {},
   "source": [
    "[Telecom Dashbord](https://public.tableau.com/authoring/Telecomproject_16103603687870/TelecomProjectdashbord#1)"
   ]
  },
  {
   "cell_type": "markdown",
   "metadata": {},
   "source": [
    "The size for display is 950X860"
   ]
  },
  {
   "cell_type": "code",
   "execution_count": null,
   "metadata": {},
   "outputs": [],
   "source": []
  }
 ],
 "metadata": {
  "kernelspec": {
   "display_name": "Python 3",
   "language": "python",
   "name": "python3"
  },
  "language_info": {
   "codemirror_mode": {
    "name": "ipython",
    "version": 3
   },
   "file_extension": ".py",
   "mimetype": "text/x-python",
   "name": "python",
   "nbconvert_exporter": "python",
   "pygments_lexer": "ipython3",
   "version": "3.7.6"
  }
 },
 "nbformat": 4,
 "nbformat_minor": 4
}
