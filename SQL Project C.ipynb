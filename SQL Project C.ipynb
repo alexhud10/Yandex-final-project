{
 "cells": [
  {
   "cell_type": "markdown",
   "metadata": {},
   "source": [
    "# SQL Project"
   ]
  },
  {
   "cell_type": "markdown",
   "metadata": {},
   "source": [
    "Due to the increase in book reading the number of people using book apps has increased.\n",
    "Our goal is to generate enough information to provide a basis for building a new product related to the field of books apps "
   ]
  },
  {
   "cell_type": "code",
   "execution_count": 1,
   "metadata": {},
   "outputs": [],
   "source": [
    "import pandas as pd\n",
    "from sqlalchemy import create_engine"
   ]
  },
  {
   "cell_type": "code",
   "execution_count": 2,
   "metadata": {},
   "outputs": [],
   "source": [
    "db_config = {'user': 'praktikum_student',         # user name\n",
    "             'pwd': 'Sdf4$2;d-d30pp', # password\n",
    "             'host': 'rc1b-wcoijxj3yxfsf3fs.mdb.yandexcloud.net',\n",
    "             'port': 6432,              # connection port\n",
    "             'db': 'data-analyst-final-project-db'}          # the name of the data base\n",
    "\n",
    "connection_string = 'postgresql://{}:{}@{}:{}/{}'.format(db_config['user'],\n",
    "                                                                     db_config['pwd'],\n",
    "                                                                       db_config['host'],\n",
    "                                                                       db_config['port'],\n",
    "                                                                       db_config['db'])\n",
    "\n",
    "engine = create_engine(connection_string, connect_args={'sslmode':'require'})"
   ]
  },
  {
   "cell_type": "code",
   "execution_count": 3,
   "metadata": {},
   "outputs": [],
   "source": [
    "books = '''\n",
    "        SELECT * FROM BOOKS\n",
    "        '''\n",
    "\n",
    "books = pd.io.sql.read_sql(books, con = engine)        "
   ]
  },
  {
   "cell_type": "code",
   "execution_count": 4,
   "metadata": {},
   "outputs": [],
   "source": [
    "authors = '''\n",
    "        SELECT * FROM authors\n",
    "\n",
    "        '''\n",
    "authors = pd.io.sql.read_sql(authors, con = engine)\n"
   ]
  },
  {
   "cell_type": "code",
   "execution_count": 5,
   "metadata": {},
   "outputs": [],
   "source": [
    "publishers =  '''\n",
    "        SELECT * FROM publishers\n",
    "\n",
    "        '''\n",
    "publishers = pd.io.sql.read_sql(publishers, con = engine)\n"
   ]
  },
  {
   "cell_type": "code",
   "execution_count": 6,
   "metadata": {},
   "outputs": [],
   "source": [
    "ratings =  '''\n",
    "        SELECT * FROM ratings\n",
    "\n",
    "        '''\n",
    "ratings = pd.io.sql.read_sql(ratings, con = engine)\n"
   ]
  },
  {
   "cell_type": "code",
   "execution_count": 7,
   "metadata": {},
   "outputs": [],
   "source": [
    "reviews =  '''\n",
    "        SELECT * FROM reviews\n",
    "\n",
    "        '''\n",
    "reviews = pd.io.sql.read_sql(reviews, con = engine)\n"
   ]
  },
  {
   "cell_type": "code",
   "execution_count": 8,
   "metadata": {},
   "outputs": [
    {
     "data": {
      "text/html": [
       "<div>\n",
       "<style scoped>\n",
       "    .dataframe tbody tr th:only-of-type {\n",
       "        vertical-align: middle;\n",
       "    }\n",
       "\n",
       "    .dataframe tbody tr th {\n",
       "        vertical-align: top;\n",
       "    }\n",
       "\n",
       "    .dataframe thead th {\n",
       "        text-align: right;\n",
       "    }\n",
       "</style>\n",
       "<table border=\"1\" class=\"dataframe\">\n",
       "  <thead>\n",
       "    <tr style=\"text-align: right;\">\n",
       "      <th></th>\n",
       "      <th>book_id</th>\n",
       "      <th>author_id</th>\n",
       "      <th>title</th>\n",
       "      <th>num_pages</th>\n",
       "      <th>publication_date</th>\n",
       "      <th>publisher_id</th>\n",
       "    </tr>\n",
       "  </thead>\n",
       "  <tbody>\n",
       "    <tr>\n",
       "      <th>0</th>\n",
       "      <td>1</td>\n",
       "      <td>546</td>\n",
       "      <td>'Salem's Lot</td>\n",
       "      <td>594</td>\n",
       "      <td>2005-11-01</td>\n",
       "      <td>93</td>\n",
       "    </tr>\n",
       "    <tr>\n",
       "      <th>1</th>\n",
       "      <td>2</td>\n",
       "      <td>465</td>\n",
       "      <td>1 000 Places to See Before You Die</td>\n",
       "      <td>992</td>\n",
       "      <td>2003-05-22</td>\n",
       "      <td>336</td>\n",
       "    </tr>\n",
       "    <tr>\n",
       "      <th>2</th>\n",
       "      <td>3</td>\n",
       "      <td>407</td>\n",
       "      <td>13 Little Blue Envelopes (Little Blue Envelope...</td>\n",
       "      <td>322</td>\n",
       "      <td>2010-12-21</td>\n",
       "      <td>135</td>\n",
       "    </tr>\n",
       "    <tr>\n",
       "      <th>3</th>\n",
       "      <td>4</td>\n",
       "      <td>82</td>\n",
       "      <td>1491: New Revelations of the Americas Before C...</td>\n",
       "      <td>541</td>\n",
       "      <td>2006-10-10</td>\n",
       "      <td>309</td>\n",
       "    </tr>\n",
       "    <tr>\n",
       "      <th>4</th>\n",
       "      <td>5</td>\n",
       "      <td>125</td>\n",
       "      <td>1776</td>\n",
       "      <td>386</td>\n",
       "      <td>2006-07-04</td>\n",
       "      <td>268</td>\n",
       "    </tr>\n",
       "  </tbody>\n",
       "</table>\n",
       "</div>"
      ],
      "text/plain": [
       "   book_id  author_id                                              title  \\\n",
       "0        1        546                                       'Salem's Lot   \n",
       "1        2        465                 1 000 Places to See Before You Die   \n",
       "2        3        407  13 Little Blue Envelopes (Little Blue Envelope...   \n",
       "3        4         82  1491: New Revelations of the Americas Before C...   \n",
       "4        5        125                                               1776   \n",
       "\n",
       "   num_pages publication_date  publisher_id  \n",
       "0        594       2005-11-01            93  \n",
       "1        992       2003-05-22           336  \n",
       "2        322       2010-12-21           135  \n",
       "3        541       2006-10-10           309  \n",
       "4        386       2006-07-04           268  "
      ]
     },
     "execution_count": 8,
     "metadata": {},
     "output_type": "execute_result"
    }
   ],
   "source": [
    "books.head()"
   ]
  },
  {
   "cell_type": "code",
   "execution_count": 9,
   "metadata": {},
   "outputs": [
    {
     "data": {
      "text/html": [
       "<div>\n",
       "<style scoped>\n",
       "    .dataframe tbody tr th:only-of-type {\n",
       "        vertical-align: middle;\n",
       "    }\n",
       "\n",
       "    .dataframe tbody tr th {\n",
       "        vertical-align: top;\n",
       "    }\n",
       "\n",
       "    .dataframe thead th {\n",
       "        text-align: right;\n",
       "    }\n",
       "</style>\n",
       "<table border=\"1\" class=\"dataframe\">\n",
       "  <thead>\n",
       "    <tr style=\"text-align: right;\">\n",
       "      <th></th>\n",
       "      <th>author_id</th>\n",
       "      <th>author</th>\n",
       "    </tr>\n",
       "  </thead>\n",
       "  <tbody>\n",
       "    <tr>\n",
       "      <th>0</th>\n",
       "      <td>1</td>\n",
       "      <td>A.S. Byatt</td>\n",
       "    </tr>\n",
       "    <tr>\n",
       "      <th>1</th>\n",
       "      <td>2</td>\n",
       "      <td>Aesop/Laura Harris/Laura Gibbs</td>\n",
       "    </tr>\n",
       "    <tr>\n",
       "      <th>2</th>\n",
       "      <td>3</td>\n",
       "      <td>Agatha Christie</td>\n",
       "    </tr>\n",
       "    <tr>\n",
       "      <th>3</th>\n",
       "      <td>4</td>\n",
       "      <td>Alan Brennert</td>\n",
       "    </tr>\n",
       "    <tr>\n",
       "      <th>4</th>\n",
       "      <td>5</td>\n",
       "      <td>Alan Moore/David   Lloyd</td>\n",
       "    </tr>\n",
       "  </tbody>\n",
       "</table>\n",
       "</div>"
      ],
      "text/plain": [
       "   author_id                          author\n",
       "0          1                      A.S. Byatt\n",
       "1          2  Aesop/Laura Harris/Laura Gibbs\n",
       "2          3                 Agatha Christie\n",
       "3          4                   Alan Brennert\n",
       "4          5        Alan Moore/David   Lloyd"
      ]
     },
     "execution_count": 9,
     "metadata": {},
     "output_type": "execute_result"
    }
   ],
   "source": [
    "authors.head()"
   ]
  },
  {
   "cell_type": "code",
   "execution_count": 10,
   "metadata": {},
   "outputs": [
    {
     "data": {
      "text/html": [
       "<div>\n",
       "<style scoped>\n",
       "    .dataframe tbody tr th:only-of-type {\n",
       "        vertical-align: middle;\n",
       "    }\n",
       "\n",
       "    .dataframe tbody tr th {\n",
       "        vertical-align: top;\n",
       "    }\n",
       "\n",
       "    .dataframe thead th {\n",
       "        text-align: right;\n",
       "    }\n",
       "</style>\n",
       "<table border=\"1\" class=\"dataframe\">\n",
       "  <thead>\n",
       "    <tr style=\"text-align: right;\">\n",
       "      <th></th>\n",
       "      <th>publisher_id</th>\n",
       "      <th>publisher</th>\n",
       "    </tr>\n",
       "  </thead>\n",
       "  <tbody>\n",
       "    <tr>\n",
       "      <th>0</th>\n",
       "      <td>1</td>\n",
       "      <td>Ace</td>\n",
       "    </tr>\n",
       "    <tr>\n",
       "      <th>1</th>\n",
       "      <td>2</td>\n",
       "      <td>Ace Book</td>\n",
       "    </tr>\n",
       "    <tr>\n",
       "      <th>2</th>\n",
       "      <td>3</td>\n",
       "      <td>Ace Books</td>\n",
       "    </tr>\n",
       "    <tr>\n",
       "      <th>3</th>\n",
       "      <td>4</td>\n",
       "      <td>Ace Hardcover</td>\n",
       "    </tr>\n",
       "    <tr>\n",
       "      <th>4</th>\n",
       "      <td>5</td>\n",
       "      <td>Addison Wesley Publishing Company</td>\n",
       "    </tr>\n",
       "  </tbody>\n",
       "</table>\n",
       "</div>"
      ],
      "text/plain": [
       "   publisher_id                          publisher\n",
       "0             1                                Ace\n",
       "1             2                           Ace Book\n",
       "2             3                          Ace Books\n",
       "3             4                      Ace Hardcover\n",
       "4             5  Addison Wesley Publishing Company"
      ]
     },
     "execution_count": 10,
     "metadata": {},
     "output_type": "execute_result"
    }
   ],
   "source": [
    "publishers.head()"
   ]
  },
  {
   "cell_type": "code",
   "execution_count": 11,
   "metadata": {},
   "outputs": [
    {
     "data": {
      "text/html": [
       "<div>\n",
       "<style scoped>\n",
       "    .dataframe tbody tr th:only-of-type {\n",
       "        vertical-align: middle;\n",
       "    }\n",
       "\n",
       "    .dataframe tbody tr th {\n",
       "        vertical-align: top;\n",
       "    }\n",
       "\n",
       "    .dataframe thead th {\n",
       "        text-align: right;\n",
       "    }\n",
       "</style>\n",
       "<table border=\"1\" class=\"dataframe\">\n",
       "  <thead>\n",
       "    <tr style=\"text-align: right;\">\n",
       "      <th></th>\n",
       "      <th>rating_id</th>\n",
       "      <th>book_id</th>\n",
       "      <th>username</th>\n",
       "      <th>rating</th>\n",
       "    </tr>\n",
       "  </thead>\n",
       "  <tbody>\n",
       "    <tr>\n",
       "      <th>0</th>\n",
       "      <td>1</td>\n",
       "      <td>1</td>\n",
       "      <td>ryanfranco</td>\n",
       "      <td>4</td>\n",
       "    </tr>\n",
       "    <tr>\n",
       "      <th>1</th>\n",
       "      <td>2</td>\n",
       "      <td>1</td>\n",
       "      <td>grantpatricia</td>\n",
       "      <td>2</td>\n",
       "    </tr>\n",
       "    <tr>\n",
       "      <th>2</th>\n",
       "      <td>3</td>\n",
       "      <td>1</td>\n",
       "      <td>brandtandrea</td>\n",
       "      <td>5</td>\n",
       "    </tr>\n",
       "    <tr>\n",
       "      <th>3</th>\n",
       "      <td>4</td>\n",
       "      <td>2</td>\n",
       "      <td>lorichen</td>\n",
       "      <td>3</td>\n",
       "    </tr>\n",
       "    <tr>\n",
       "      <th>4</th>\n",
       "      <td>5</td>\n",
       "      <td>2</td>\n",
       "      <td>mariokeller</td>\n",
       "      <td>2</td>\n",
       "    </tr>\n",
       "  </tbody>\n",
       "</table>\n",
       "</div>"
      ],
      "text/plain": [
       "   rating_id  book_id       username  rating\n",
       "0          1        1     ryanfranco       4\n",
       "1          2        1  grantpatricia       2\n",
       "2          3        1   brandtandrea       5\n",
       "3          4        2       lorichen       3\n",
       "4          5        2    mariokeller       2"
      ]
     },
     "execution_count": 11,
     "metadata": {},
     "output_type": "execute_result"
    }
   ],
   "source": [
    "ratings.head()"
   ]
  },
  {
   "cell_type": "code",
   "execution_count": 12,
   "metadata": {},
   "outputs": [
    {
     "data": {
      "text/html": [
       "<div>\n",
       "<style scoped>\n",
       "    .dataframe tbody tr th:only-of-type {\n",
       "        vertical-align: middle;\n",
       "    }\n",
       "\n",
       "    .dataframe tbody tr th {\n",
       "        vertical-align: top;\n",
       "    }\n",
       "\n",
       "    .dataframe thead th {\n",
       "        text-align: right;\n",
       "    }\n",
       "</style>\n",
       "<table border=\"1\" class=\"dataframe\">\n",
       "  <thead>\n",
       "    <tr style=\"text-align: right;\">\n",
       "      <th></th>\n",
       "      <th>review_id</th>\n",
       "      <th>book_id</th>\n",
       "      <th>username</th>\n",
       "      <th>text</th>\n",
       "    </tr>\n",
       "  </thead>\n",
       "  <tbody>\n",
       "    <tr>\n",
       "      <th>0</th>\n",
       "      <td>1</td>\n",
       "      <td>1</td>\n",
       "      <td>brandtandrea</td>\n",
       "      <td>Mention society tell send professor analysis. ...</td>\n",
       "    </tr>\n",
       "    <tr>\n",
       "      <th>1</th>\n",
       "      <td>2</td>\n",
       "      <td>1</td>\n",
       "      <td>ryanfranco</td>\n",
       "      <td>Foot glass pretty audience hit themselves. Amo...</td>\n",
       "    </tr>\n",
       "    <tr>\n",
       "      <th>2</th>\n",
       "      <td>3</td>\n",
       "      <td>2</td>\n",
       "      <td>lorichen</td>\n",
       "      <td>Listen treat keep worry. Miss husband tax but ...</td>\n",
       "    </tr>\n",
       "    <tr>\n",
       "      <th>3</th>\n",
       "      <td>4</td>\n",
       "      <td>3</td>\n",
       "      <td>johnsonamanda</td>\n",
       "      <td>Finally month interesting blue could nature cu...</td>\n",
       "    </tr>\n",
       "    <tr>\n",
       "      <th>4</th>\n",
       "      <td>5</td>\n",
       "      <td>3</td>\n",
       "      <td>scotttamara</td>\n",
       "      <td>Nation purpose heavy give wait song will. List...</td>\n",
       "    </tr>\n",
       "  </tbody>\n",
       "</table>\n",
       "</div>"
      ],
      "text/plain": [
       "   review_id  book_id       username  \\\n",
       "0          1        1   brandtandrea   \n",
       "1          2        1     ryanfranco   \n",
       "2          3        2       lorichen   \n",
       "3          4        3  johnsonamanda   \n",
       "4          5        3    scotttamara   \n",
       "\n",
       "                                                text  \n",
       "0  Mention society tell send professor analysis. ...  \n",
       "1  Foot glass pretty audience hit themselves. Amo...  \n",
       "2  Listen treat keep worry. Miss husband tax but ...  \n",
       "3  Finally month interesting blue could nature cu...  \n",
       "4  Nation purpose heavy give wait song will. List...  "
      ]
     },
     "execution_count": 12,
     "metadata": {},
     "output_type": "execute_result"
    }
   ],
   "source": [
    "reviews.head()"
   ]
  },
  {
   "cell_type": "markdown",
   "metadata": {},
   "source": [
    "## Find the number of books released after January 1, 2000."
   ]
  },
  {
   "cell_type": "code",
   "execution_count": 13,
   "metadata": {},
   "outputs": [
    {
     "name": "stdout",
     "output_type": "stream",
     "text": [
      "   book_cnt\n",
      "0       819\n"
     ]
    }
   ],
   "source": [
    "query_1 =   '''\n",
    "                    SELECT\n",
    "                        COUNT(book_id) AS book_cnt\n",
    "                    FROM\n",
    "                        books\n",
    "                    WHERE  \n",
    "                        publication_date::date > '2000-01-01'\n",
    "                    ''' \n",
    "query_1 = pd.io.sql.read_sql(query_1, con = engine)        \n",
    "print(query_1)"
   ]
  },
  {
   "cell_type": "markdown",
   "metadata": {},
   "source": [
    "There are 819 books released after 2000"
   ]
  },
  {
   "cell_type": "markdown",
   "metadata": {},
   "source": [
    "## Find the number of user reviews and the average rating for each book."
   ]
  },
  {
   "cell_type": "code",
   "execution_count": 14,
   "metadata": {},
   "outputs": [
    {
     "name": "stdout",
     "output_type": "stream",
     "text": [
      "     book_id  cnt_review  avg_rating\n",
      "0          1           6    3.666667\n",
      "1          2           2    2.500000\n",
      "2          3           9    4.666667\n",
      "3          4           4    4.500000\n",
      "4          5          24    4.000000\n",
      "..       ...         ...         ...\n",
      "995      996           9    3.666667\n",
      "996      997          15    3.400000\n",
      "997      998          20    3.200000\n",
      "998      999           4    4.500000\n",
      "999     1000          24    3.833333\n",
      "\n",
      "[1000 rows x 3 columns]\n"
     ]
    }
   ],
   "source": [
    "query_2 =    '''\n",
    "                        SELECT\n",
    "                            books.book_id AS book_id, \n",
    "                            COUNT(reviews.review_id) AS cnt_review,\n",
    "                            AVG(ratings.rating) AS avg_rating\n",
    "                        FROM\n",
    "                            books\n",
    "                        LEFT JOIN ratings ON ratings.book_id = books.book_id\n",
    "                        LEFT JOIN reviews ON reviews.book_id = books.book_id\n",
    "                        GROUP BY\n",
    "                            books.book_id\n",
    "                        ORDER BY\n",
    "                            books.book_id\n",
    "                        ''' \n",
    "\n",
    "query_2 = pd.io.sql.read_sql(query_2, con = engine)        \n",
    "print(query_2)"
   ]
  },
  {
   "cell_type": "markdown",
   "metadata": {},
   "source": [
    "For each book we see the number of review and the average rating. "
   ]
  },
  {
   "cell_type": "markdown",
   "metadata": {},
   "source": [
    "## Identify the publisher that has released the greatest number of books with more than 50 pages (this will help you exclude brochures and similar publications from your analysis)."
   ]
  },
  {
   "cell_type": "code",
   "execution_count": 15,
   "metadata": {},
   "outputs": [
    {
     "name": "stdout",
     "output_type": "stream",
     "text": [
      "    publisher_id             publisher_name  cnt_books\n",
      "0            212              Penguin Books         42\n",
      "1            309                    Vintage         31\n",
      "2            116   Grand Central Publishing         25\n",
      "3            217           Penguin Classics         24\n",
      "4             35                     Bantam         19\n",
      "5             33           Ballantine Books         19\n",
      "6             45                    Berkley         17\n",
      "7             46              Berkley Books         14\n",
      "8            284         St. Martin's Press         14\n",
      "9            333  William Morrow Paperbacks         13\n",
      "10            83                      Delta         13\n",
      "11           129           Harper Perennial         12\n",
      "12           133              HarperCollins         12\n",
      "13           176  Little  Brown and Company         12\n",
      "14           297                  Tor Books         11\n",
      "15            31             Back Bay Books         11\n",
      "16           143                HarperTorch         10\n",
      "17           229               Pocket Books         10\n",
      "18           210                    Penguin         10\n",
      "19           178              Mariner Books         10\n"
     ]
    }
   ],
   "source": [
    "query_3 = '''\n",
    "        SELECT\n",
    "            publishers.publisher_id AS publisher_id,\n",
    "            publishers.publisher AS publisher_name,\n",
    "            COUNT(DISTINCT(books.book_id)) AS cnt_books\n",
    "        FROM\n",
    "            publishers\n",
    "        INNER JOIN books ON books.publisher_id = publishers.publisher_id\n",
    "        WHERE\n",
    "            books.num_pages > 50\n",
    "        GROUP BY\n",
    "            publishers.publisher_id, publishers.publisher\n",
    "        ORDER BY\n",
    "            cnt_books DESC\n",
    "        LIMIT 20;\n",
    "            \n",
    "    \n",
    "'''\n",
    "query_3 = pd.io.sql.read_sql(query_3, con = engine)        \n",
    "print(query_3)"
   ]
  },
  {
   "cell_type": "markdown",
   "metadata": {},
   "source": [
    "* The top 20 of publishers are displayed in this table\n",
    "*  Penguin Books released the highest number of books."
   ]
  },
  {
   "cell_type": "markdown",
   "metadata": {},
   "source": [
    "## Identify the author with the highest average book rating (look only at books with at least 50 ratings)."
   ]
  },
  {
   "cell_type": "code",
   "execution_count": 16,
   "metadata": {},
   "outputs": [
    {
     "name": "stdout",
     "output_type": "stream",
     "text": [
      "    author_id                                        author_name  book_id  \\\n",
      "0         236                         J.K. Rowling/Mary GrandPré      302   \n",
      "1         240                                     J.R.R. Tolkien      722   \n",
      "2         236                         J.K. Rowling/Mary GrandPré      299   \n",
      "3         402                  Markus Zusak/Cao Xuân Việt Khương      656   \n",
      "4         236                         J.K. Rowling/Mary GrandPré      300   \n",
      "5         376                                  Louisa May Alcott      399   \n",
      "6         236                         J.K. Rowling/Mary GrandPré      301   \n",
      "7         240                                     J.R.R. Tolkien      750   \n",
      "8         498                                       Rick Riordan      779   \n",
      "9         621                                    William Golding      405   \n",
      "10        106                                          Dan Brown      696   \n",
      "11        235                                      J.D. Salinger      673   \n",
      "12        469           Paulo Coelho/Alan R. Clarke/Özdemir İnce      627   \n",
      "13        630  William Shakespeare/Paul Werstine/Barbara A. M...      545   \n",
      "14        372                                         Lois Lowry      733   \n",
      "15        195            George Orwell/Boris Grabnar/Peter Škerl       79   \n",
      "16        106                                          Dan Brown       75   \n",
      "17        554                                    Stephenie Meyer      948   \n",
      "18        311                                     John Steinbeck      488   \n",
      "\n",
      "    avg_reating  \n",
      "0      4.414634  \n",
      "1      4.391892  \n",
      "2      4.287500  \n",
      "3      4.264151  \n",
      "4      4.246575  \n",
      "5      4.192308  \n",
      "6      4.186667  \n",
      "7      4.125000  \n",
      "8      4.080645  \n",
      "9      3.901408  \n",
      "10     3.830508  \n",
      "11     3.825581  \n",
      "12     3.789474  \n",
      "13     3.787879  \n",
      "14     3.750000  \n",
      "15     3.729730  \n",
      "16     3.678571  \n",
      "17     3.662500  \n",
      "18     3.622951  \n"
     ]
    }
   ],
   "source": [
    "query_4 = '''\n",
    "    SELECT    \n",
    "        books.author_id AS author_id,\n",
    "        authors.author AS author_name,\n",
    "        ratings.book_id AS book_id,\n",
    "        AVG(ratings.rating) AS avg_reating    \n",
    "    FROM\n",
    "        ratings\n",
    "    INNER JOIN\n",
    "        books ON books.book_id = ratings.book_id\n",
    "    INNER JOIN\n",
    "        authors ON authors.author_id = books.author_id    \n",
    "    GROUP BY\n",
    "        ratings.book_id, books.author_id, authors.author\n",
    "    HAVING\n",
    "        COUNT(ratings.rating_id) > 49\n",
    "    ORDER BY\n",
    "        avg_reating DESC\n",
    "    LIMIT 20;\n",
    "\n",
    "'''\n",
    "query_4 = pd.io.sql.read_sql(query_4, con = engine)        \n",
    "print(query_4)"
   ]
  },
  {
   "cell_type": "markdown",
   "metadata": {},
   "source": [
    "We see the top 20 outhors . The highest average rating is 4.41."
   ]
  },
  {
   "cell_type": "markdown",
   "metadata": {},
   "source": [
    "## Find the average number of text reviews among users who rated more than 50 books."
   ]
  },
  {
   "cell_type": "code",
   "execution_count": 17,
   "metadata": {},
   "outputs": [
    {
     "name": "stdout",
     "output_type": "stream",
     "text": [
      "         username  avg_review_number\n",
      "0     sfitzgerald               28.0\n",
      "1      martinadam               27.0\n",
      "2       richard89               26.0\n",
      "3  jennifermiller               25.0\n",
      "4          paul88               22.0\n",
      "5          xdavis               18.0\n"
     ]
    }
   ],
   "source": [
    "query_5 = '''\n",
    "        SELECT\n",
    "            sub.username AS username,\n",
    "            AVG(sub.review_number) AS avg_review_number\n",
    "        FROM\n",
    "            (SELECT \n",
    "                reviews.username AS username,\n",
    "                COUNT(reviews.review_id) AS review_number\n",
    "             FROM\n",
    "                 reviews\n",
    "            GROUP BY\n",
    "                reviews.username\n",
    "            ) AS sub\n",
    "        WHERE \n",
    "            username IN\n",
    "            (SELECT\n",
    "                ratings.username AS username\n",
    "            FROM \n",
    "                ratings\n",
    "            GROUP BY\n",
    "                ratings.username\n",
    "            HAVING\n",
    "                COUNT(DISTINCT(book_id)) > 50) \n",
    "        GROUP BY  \n",
    "            sub.username\n",
    "        ORDER BY\n",
    "            avg_review_number DESC\n",
    "\n",
    "'''\n",
    "\n",
    "\n",
    "query_5 = pd.io.sql.read_sql(query_5, con=engine)\n",
    "print(query_5)\n"
   ]
  },
  {
   "cell_type": "markdown",
   "metadata": {},
   "source": [
    "* There are only 5 users who corespond our requests.\n",
    "* The higher average number of text review is 28 and the user name is sfitzgerald          "
   ]
  },
  {
   "cell_type": "markdown",
   "metadata": {},
   "source": [
    "# Conclusion"
   ]
  },
  {
   "cell_type": "markdown",
   "metadata": {},
   "source": [
    "We went through the topics that were important for us to check out (best authors and publishers, prominent reviewers, ratings) This definitely brought us important initial information that will help us in the further process of developing a new product."
   ]
  },
  {
   "cell_type": "code",
   "execution_count": null,
   "metadata": {},
   "outputs": [],
   "source": []
  }
 ],
 "metadata": {
  "kernelspec": {
   "display_name": "Python 3",
   "language": "python",
   "name": "python3"
  },
  "language_info": {
   "codemirror_mode": {
    "name": "ipython",
    "version": 3
   },
   "file_extension": ".py",
   "mimetype": "text/x-python",
   "name": "python",
   "nbconvert_exporter": "python",
   "pygments_lexer": "ipython3",
   "version": "3.7.6"
  }
 },
 "nbformat": 4,
 "nbformat_minor": 4
}
